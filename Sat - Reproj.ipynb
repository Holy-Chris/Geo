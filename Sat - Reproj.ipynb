{
 "cells": [
  {
   "cell_type": "code",
   "execution_count": 14,
   "id": "20cd1328",
   "metadata": {},
   "outputs": [],
   "source": [
    "import os\n",
    "\n",
    "folder=\"E:\\\\Images Sat Kerguelen\\\\\"\n",
    "in_file=\"E:\\\\Images Sat Kerguelen\\\\TCHR SHOM Kerguelen\\\\Kerguelen\\\\TC_Kerguelen_WGS84_EPSG4326_polygone.shp\"\n",
    "out_file=\"TCHR SHOM 2020 SHAPE 32742 polygone.shp\""
   ]
  },
  {
   "cell_type": "code",
   "execution_count": 15,
   "id": "7b9dcd75",
   "metadata": {},
   "outputs": [],
   "source": [
    "in_shp = os.path.join(folder,in_file)\n",
    "out_shp = os.path.join(folder,out_file)"
   ]
  },
  {
   "cell_type": "code",
   "execution_count": 16,
   "id": "b472a2cb",
   "metadata": {},
   "outputs": [],
   "source": [
    "# Avec Geopandas  # MARCHE TRES BIEN\n",
    "\n",
    "import geopandas\n",
    "\n",
    "data = geopandas.read_file(in_shp)\n",
    "# change CRS to epsg 4326\n",
    "data = data.to_crs(epsg=32742)\n",
    "# write shp file\n",
    "data.to_file(out_shp)"
   ]
  },
  {
   "cell_type": "code",
   "execution_count": null,
   "id": "6748f4c2",
   "metadata": {},
   "outputs": [],
   "source": []
  }
 ],
 "metadata": {
  "kernelspec": {
   "display_name": "Python 3",
   "language": "python",
   "name": "python3"
  },
  "language_info": {
   "codemirror_mode": {
    "name": "ipython",
    "version": 3
   },
   "file_extension": ".py",
   "mimetype": "text/x-python",
   "name": "python",
   "nbconvert_exporter": "python",
   "pygments_lexer": "ipython3",
   "version": "3.6.13"
  }
 },
 "nbformat": 4,
 "nbformat_minor": 5
}
