{
 "cells": [
  {
   "cell_type": "code",
   "execution_count": 17,
   "id": "30c11cae",
   "metadata": {},
   "outputs": [],
   "source": [
    "# Masque raster depuis polygone\n"
   ]
  },
  {
   "cell_type": "code",
   "execution_count": 27,
   "id": "a8b50ce9",
   "metadata": {},
   "outputs": [],
   "source": [
    "import fiona\n",
    "import rasterio\n",
    "from rasterio.mask import mask\n",
    "\n",
    "with fiona.open(\"E:\\\\Images Sat Kerguelen\\\\TCHR SHOM 2020 SHAPE 32742 polygone.shp\") as shapefile:\n",
    "    geoms = [feature[\"geometry\"] for feature in shapefile]\n",
    "\n",
    "with rasterio.open(\"E:\\\\Images Sat Kerguelen\\\\2019\\\\Sentinel-2\\\\S2B_MSIL2A_20190308T050229_N0211_R133_T42FXL_20190308T082432.SAFE\\\\GRANULE\\\\L2A_T42FXL_A010455_20190308T050226\\\\IMG_DATA\\\\R10m\\\\T42FXL_20190308T050229_B02_10m.jp2\") as src:\n",
    "    out_image, out_transform = mask(src, geoms, invert=True) # pour masque non-inversé, rempalacer \"invert\" par \"crop\"\n",
    "    out_meta = src.meta.copy()\n",
    "\n",
    "out_meta.update({\"driver\": \"GTiff\",\n",
    "                 \"height\": out_image.shape[1],\n",
    "                 \"width\": out_image.shape[2],\n",
    "                 \"transform\": out_transform})\n",
    "\n",
    "with rasterio.open(\"E:\\\\Images Sat Kerguelen\\\\masked22_polygone.tif\", \"w\", **out_meta) as dest:\n",
    "    dest.write(out_image)"
   ]
  },
  {
   "cell_type": "code",
   "execution_count": null,
   "id": "0b42b37c",
   "metadata": {},
   "outputs": [],
   "source": []
  }
 ],
 "metadata": {
  "kernelspec": {
   "display_name": "Python 3",
   "language": "python",
   "name": "python3"
  },
  "language_info": {
   "codemirror_mode": {
    "name": "ipython",
    "version": 3
   },
   "file_extension": ".py",
   "mimetype": "text/x-python",
   "name": "python",
   "nbconvert_exporter": "python",
   "pygments_lexer": "ipython3",
   "version": "3.6.13"
  }
 },
 "nbformat": 4,
 "nbformat_minor": 5
}
