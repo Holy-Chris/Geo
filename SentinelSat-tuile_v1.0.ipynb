{
 "cells": [
  {
   "cell_type": "code",
   "execution_count": 1,
   "id": "da2fcab7",
   "metadata": {},
   "outputs": [],
   "source": [
    "### SENTINELSAT-tuile v.1.0\n",
    "### Téléchargement à l'aide du nom de tuile ==> NE FONCTIONNE QUE POUR IMAGES EN L1C\n"
   ]
  },
  {
   "cell_type": "code",
   "execution_count": 8,
   "id": "71e2bbf9",
   "metadata": {},
   "outputs": [],
   "source": [
    "import sentinelsat\n",
    "from sentinelsat import SentinelAPI, read_geojson, geojson_to_wkt\n",
    "from datetime import date\n",
    "from collections import OrderedDict\n",
    "import os"
   ]
  },
  {
   "cell_type": "code",
   "execution_count": 9,
   "id": "cbd17913",
   "metadata": {},
   "outputs": [],
   "source": [
    "# Créer nouveau dossier\n",
    "download_path=\"F:\\\\Images Sat Kerguelen\\\\2020\\\\Sentinel-2 L1C\"\n",
    "if os.path.isdir(download_path)==False:\n",
    "    os.mkdir(\"F:\\\\Images Sat Kerguelen\\\\2020\\\\Sentinel-2 L1C\")\n"
   ]
  },
  {
   "cell_type": "code",
   "execution_count": 10,
   "id": "269c5210",
   "metadata": {},
   "outputs": [],
   "source": [
    "api= SentinelAPI('christophercrovetto', 'ds.N3vwaGMiabPL', 'https://apihub.copernicus.eu/apihub')"
   ]
  },
  {
   "cell_type": "code",
   "execution_count": 11,
   "id": "ea3d7a1d",
   "metadata": {},
   "outputs": [],
   "source": [
    "# tuiles à rechercher\n",
    "\n",
    "tiles = ['42FVM','42FWM','42FVL','42FWL','42FXL','42FVK','42FWK']\n",
    "\n",
    "query_kwargs = {\n",
    "        'platformname': 'Sentinel-2',\n",
    "        'producttype': 'S2MSI1C',\n",
    "        'date': ('20200101','20201231'),\n",
    "        'cloudcoverpercentage':(0,5)}\n",
    "\n",
    "\n",
    "products = OrderedDict()\n",
    "for tile in tiles:\n",
    "    kw = query_kwargs.copy()\n",
    "    kw['tileid'] = tile\n",
    "    pp = api.query(**kw)\n",
    "    products.update(pp)"
   ]
  },
  {
   "cell_type": "code",
   "execution_count": 12,
   "id": "193cda18",
   "metadata": {},
   "outputs": [
    {
     "name": "stdout",
     "output_type": "stream",
     "text": [
      "39\n"
     ]
    }
   ],
   "source": [
    "# nombre de produits disponibles\n",
    "print(len(products))"
   ]
  },
  {
   "cell_type": "code",
   "execution_count": null,
   "id": "5ae0445f",
   "metadata": {},
   "outputs": [],
   "source": [
    "# afficher dataframes des images résultats\n",
    "###products_df = api.to_dataframe(products)\n",
    "###products_df"
   ]
  },
  {
   "cell_type": "code",
   "execution_count": null,
   "id": "f4f2a8b9",
   "metadata": {},
   "outputs": [],
   "source": [
    "# filtre et tri des images\n",
    "###products_df_sorted = products_df.sort_values(['cloudcoverpercentage', 'ingestiondate'])"
   ]
  },
  {
   "cell_type": "code",
   "execution_count": null,
   "id": "f62f95a1",
   "metadata": {},
   "outputs": [],
   "source": [
    "###print(len(products_df_sorted))\n",
    "###products_df_sorted"
   ]
  },
  {
   "cell_type": "code",
   "execution_count": null,
   "id": "b0a7e425",
   "metadata": {},
   "outputs": [],
   "source": [
    "# Différentes opérations sur la metadata\n",
    "\n",
    "###import pandas as pd\n",
    "###for index, row in products_df_sorted.iterrows():\n",
    "   ### print(index)\n",
    "    ###print(row)"
   ]
  },
  {
   "cell_type": "code",
   "execution_count": null,
   "id": "89cb0c01",
   "metadata": {},
   "outputs": [],
   "source": [
    "###for label, content in products_df_sorted.items():\n",
    "   ### print(content)\n",
    "   ### print(label)"
   ]
  },
  {
   "cell_type": "code",
   "execution_count": null,
   "id": "2c62a576",
   "metadata": {},
   "outputs": [],
   "source": [
    "###for label, content in products_df_sorted['cloudcoverpercentage'].items():\n",
    "   ### print(label, content)"
   ]
  },
  {
   "cell_type": "code",
   "execution_count": null,
   "id": "c2a4bef2",
   "metadata": {},
   "outputs": [],
   "source": [
    "# Filtrage des éléments à garder selon couverture nuageuse\n",
    "###products_df_sorted.filter(items=['cloudcoverpercentage'])"
   ]
  },
  {
   "cell_type": "code",
   "execution_count": null,
   "id": "946136c1",
   "metadata": {},
   "outputs": [],
   "source": [
    "###products_df_sorted.describe()"
   ]
  },
  {
   "cell_type": "code",
   "execution_count": null,
   "id": "02202ac7",
   "metadata": {},
   "outputs": [],
   "source": [
    "# Suppression de la CC > 5\n",
    "\n",
    "###products_df_sorted = products_df_sorted[products_df_sorted.cloudcoverpercentage < 5]"
   ]
  },
  {
   "cell_type": "code",
   "execution_count": null,
   "id": "fdcc0aaa",
   "metadata": {},
   "outputs": [],
   "source": [
    "###products = products_df_sorted.filter(items=['cloudcoverpercentage','title','link'])\n",
    "###len(products)\n",
    "###products"
   ]
  },
  {
   "cell_type": "code",
   "execution_count": 13,
   "id": "76a5964e",
   "metadata": {
    "scrolled": true
   },
   "outputs": [
    {
     "data": {
      "application/vnd.jupyter.widget-view+json": {
       "model_id": "f8e5aa1c00e34c37bb948c1c179cdd5b",
       "version_major": 2,
       "version_minor": 0
      },
      "text/plain": [
       "Fetching archival status:  18%|#7        | 7/39 [00:02<00:09,  3.23product/s]"
      ]
     },
     "metadata": {},
     "output_type": "display_data"
    },
    {
     "data": {
      "application/vnd.jupyter.widget-view+json": {
       "model_id": "4f150cb0c01047b480b1324f618cab5e",
       "version_major": 2,
       "version_minor": 0
      },
      "text/plain": [
       "Downloading products:   0%|          | 0/39 [00:00<?, ?product/s]"
      ]
     },
     "metadata": {},
     "output_type": "display_data"
    },
    {
     "data": {
      "application/vnd.jupyter.widget-view+json": {
       "model_id": "1e1d53816f40451582fa15612a28fcea",
       "version_major": 2,
       "version_minor": 0
      },
      "text/plain": [
       "LTA retrieval:   0%|          | 0/39 [00:00<?, ?product/s]"
      ]
     },
     "metadata": {},
     "output_type": "display_data"
    },
    {
     "name": "stderr",
     "output_type": "stream",
     "text": [
      "8479b465-6530-41d1-8a9d-31234473f6c3 failed: Traceback (most recent call last):\n",
      "  File \"D:\\Anaconda\\envs\\GDAL\\lib\\site-packages\\urllib3\\connectionpool.py\", line 706, in urlopen\n",
      "    chunked=chunked,\n",
      "  File \"D:\\Anaconda\\envs\\GDAL\\lib\\site-packages\\urllib3\\connectionpool.py\", line 445, in _make_request\n",
      "    six.raise_from(e, None)\n",
      "  File \"<string>\", line 3, in raise_from\n",
      "  File \"D:\\Anaconda\\envs\\GDAL\\lib\\site-packages\\urllib3\\connectionpool.py\", line 440, in _make_request\n",
      "    httplib_response = conn.getresponse()\n",
      "  File \"D:\\Anaconda\\envs\\GDAL\\lib\\http\\client.py\", line 1379, in getresponse\n",
      "    response.begin()\n",
      "  File \"D:\\Anaconda\\envs\\GDAL\\lib\\http\\client.py\", line 311, in begin\n",
      "    version, status, reason = self._read_status()\n",
      "  File \"D:\\Anaconda\\envs\\GDAL\\lib\\http\\client.py\", line 272, in _read_status\n",
      "    line = str(self.fp.readline(_MAXLINE + 1), \"iso-8859-1\")\n",
      "  File \"D:\\Anaconda\\envs\\GDAL\\lib\\socket.py\", line 586, in readinto\n",
      "    return self._sock.recv_into(b)\n",
      "  File \"D:\\Anaconda\\envs\\GDAL\\lib\\ssl.py\", line 1012, in recv_into\n",
      "    return self.read(nbytes, buffer)\n",
      "  File \"D:\\Anaconda\\envs\\GDAL\\lib\\ssl.py\", line 874, in read\n",
      "    return self._sslobj.read(len, buffer)\n",
      "  File \"D:\\Anaconda\\envs\\GDAL\\lib\\ssl.py\", line 631, in read\n",
      "    v = self._sslobj.read(len, buffer)\n",
      "TimeoutError: [WinError 10060] Une tentative de connexion a échoué car le parti connecté n’a pas répondu convenablement au-delà d’une certaine durée ou une connexion établie a échoué car l’hôte de connexion n’a pas répondu\n",
      "\n",
      "During handling of the above exception, another exception occurred:\n",
      "\n",
      "Traceback (most recent call last):\n",
      "  File \"D:\\Anaconda\\envs\\GDAL\\lib\\site-packages\\requests\\adapters.py\", line 449, in send\n",
      "    timeout=timeout\n",
      "  File \"D:\\Anaconda\\envs\\GDAL\\lib\\site-packages\\urllib3\\connectionpool.py\", line 756, in urlopen\n",
      "    method, url, error=e, _pool=self, _stacktrace=sys.exc_info()[2]\n",
      "  File \"D:\\Anaconda\\envs\\GDAL\\lib\\site-packages\\urllib3\\util\\retry.py\", line 532, in increment\n",
      "    raise six.reraise(type(error), error, _stacktrace)\n",
      "  File \"D:\\Anaconda\\envs\\GDAL\\lib\\site-packages\\urllib3\\packages\\six.py\", line 769, in reraise\n",
      "    raise value.with_traceback(tb)\n",
      "  File \"D:\\Anaconda\\envs\\GDAL\\lib\\site-packages\\urllib3\\connectionpool.py\", line 706, in urlopen\n",
      "    chunked=chunked,\n",
      "  File \"D:\\Anaconda\\envs\\GDAL\\lib\\site-packages\\urllib3\\connectionpool.py\", line 445, in _make_request\n",
      "    six.raise_from(e, None)\n",
      "  File \"<string>\", line 3, in raise_from\n",
      "  File \"D:\\Anaconda\\envs\\GDAL\\lib\\site-packages\\urllib3\\connectionpool.py\", line 440, in _make_request\n",
      "    httplib_response = conn.getresponse()\n",
      "  File \"D:\\Anaconda\\envs\\GDAL\\lib\\http\\client.py\", line 1379, in getresponse\n",
      "    response.begin()\n",
      "  File \"D:\\Anaconda\\envs\\GDAL\\lib\\http\\client.py\", line 311, in begin\n",
      "    version, status, reason = self._read_status()\n",
      "  File \"D:\\Anaconda\\envs\\GDAL\\lib\\http\\client.py\", line 272, in _read_status\n",
      "    line = str(self.fp.readline(_MAXLINE + 1), \"iso-8859-1\")\n",
      "  File \"D:\\Anaconda\\envs\\GDAL\\lib\\socket.py\", line 586, in readinto\n",
      "    return self._sock.recv_into(b)\n",
      "  File \"D:\\Anaconda\\envs\\GDAL\\lib\\ssl.py\", line 1012, in recv_into\n",
      "    return self.read(nbytes, buffer)\n",
      "  File \"D:\\Anaconda\\envs\\GDAL\\lib\\ssl.py\", line 874, in read\n",
      "    return self._sslobj.read(len, buffer)\n",
      "  File \"D:\\Anaconda\\envs\\GDAL\\lib\\ssl.py\", line 631, in read\n",
      "    v = self._sslobj.read(len, buffer)\n",
      "urllib3.exceptions.ProtocolError: ('Connection aborted.', TimeoutError(10060, 'Une tentative de connexion a échoué car le parti connecté n’a pas répondu convenablement au-delà d’une certaine durée ou une connexion établie a échoué car l’hôte de connexion n’a pas répondu', None, 10060, None))\n",
      "\n",
      "During handling of the above exception, another exception occurred:\n",
      "\n",
      "Traceback (most recent call last):\n",
      "  File \"D:\\Anaconda\\envs\\GDAL\\lib\\concurrent\\futures\\thread.py\", line 56, in run\n",
      "    result = self.fn(*self.args, **self.kwargs)\n",
      "  File \"D:\\Anaconda\\envs\\GDAL\\lib\\site-packages\\sentinelsat\\download.py\", line 625, in _trigger_and_wait\n",
      "    if self.api.is_online(uuid):\n",
      "  File \"D:\\Anaconda\\envs\\GDAL\\lib\\site-packages\\sentinelsat\\sentinel.py\", line 541, in is_online\n",
      "    r = self.session.get(url)\n",
      "  File \"D:\\Anaconda\\envs\\GDAL\\lib\\site-packages\\requests\\sessions.py\", line 555, in get\n",
      "    return self.request('GET', url, **kwargs)\n",
      "  File \"D:\\Anaconda\\envs\\GDAL\\lib\\site-packages\\requests\\sessions.py\", line 542, in request\n",
      "    resp = self.send(prep, **send_kwargs)\n",
      "  File \"D:\\Anaconda\\envs\\GDAL\\lib\\site-packages\\requests\\sessions.py\", line 655, in send\n",
      "    r = adapter.send(request, **kwargs)\n",
      "  File \"D:\\Anaconda\\envs\\GDAL\\lib\\site-packages\\requests\\adapters.py\", line 498, in send\n",
      "    raise ConnectionError(err, request=request)\n",
      "requests.exceptions.ConnectionError: ('Connection aborted.', TimeoutError(10060, 'Une tentative de connexion a échoué car le parti connecté n’a pas répondu convenablement au-delà d’une certaine durée ou une connexion établie a échoué car l’hôte de connexion n’a pas répondu', None, 10060, None))\n",
      "\n"
     ]
    },
    {
     "data": {
      "application/vnd.jupyter.widget-view+json": {
       "model_id": "540fa8790834499db34eff5e92163124",
       "version_major": 2,
       "version_minor": 0
      },
      "text/plain": [
       "Downloading S2B_MSIL1C_20201107T050229_N0209_R133_T42FWM_20201107T063548.zip:   0%|          | 0.00/23.2M [00:…"
      ]
     },
     "metadata": {},
     "output_type": "display_data"
    },
    {
     "data": {
      "application/vnd.jupyter.widget-view+json": {
       "model_id": "",
       "version_major": 2,
       "version_minor": 0
      },
      "text/plain": [
       "MD5 checksumming:   0%|          | 0.00/23.2M [00:00<?, ?B/s]"
      ]
     },
     "metadata": {},
     "output_type": "display_data"
    },
    {
     "data": {
      "application/vnd.jupyter.widget-view+json": {
       "model_id": "beff7e83f4f24b7990c08f8984ca7bc5",
       "version_major": 2,
       "version_minor": 0
      },
      "text/plain": [
       "Downloading S2B_MSIL1C_20200706T052219_N0209_R076_T42FVL_20200706T081900.zip:   0%|          | 0.00/627M [00:0…"
      ]
     },
     "metadata": {},
     "output_type": "display_data"
    },
    {
     "data": {
      "application/vnd.jupyter.widget-view+json": {
       "model_id": "53b95963c0be49f598ae651505d978f6",
       "version_major": 2,
       "version_minor": 0
      },
      "text/plain": [
       "Downloading S2B_MSIL1C_20200102T050229_N0208_R133_T42FWL_20200102T072107.zip:   0%|          | 0.00/338M [00:0…"
      ]
     },
     "metadata": {},
     "output_type": "display_data"
    },
    {
     "data": {
      "application/vnd.jupyter.widget-view+json": {
       "model_id": "03493fc49a67486aa3b8cb8e68f08bad",
       "version_major": 2,
       "version_minor": 0
      },
      "text/plain": [
       "Downloading S2B_MSIL1C_20200318T052219_N0209_R076_T42FWM_20200318T082933.zip:   0%|          | 0.00/65.4M [00:…"
      ]
     },
     "metadata": {},
     "output_type": "display_data"
    },
    {
     "name": "stderr",
     "output_type": "stream",
     "text": [
      "There was an error downloading S2A_MSIL1C_20200320T051221_N0209_R033_T42FWK_20200320T074841\n",
      "Traceback (most recent call last):\n",
      "  File \"D:\\Anaconda\\envs\\GDAL\\lib\\site-packages\\sentinelsat\\sentinel.py\", line 1012, in _check_scihub_response\n",
      "    response.raise_for_status()\n",
      "  File \"D:\\Anaconda\\envs\\GDAL\\lib\\site-packages\\requests\\models.py\", line 953, in raise_for_status\n",
      "    raise HTTPError(http_error_msg, response=self)\n",
      "requests.exceptions.HTTPError: 500 Server Error: Internal Server Error for url: https://apihub.copernicus.eu/apihub/odata/v1/Products('219145ca-2b23-447b-8ea2-f2c33df8f2f1')/Online/$value\n",
      "\n",
      "During handling of the above exception, another exception occurred:\n",
      "\n",
      "Traceback (most recent call last):\n",
      "  File \"D:\\Anaconda\\envs\\GDAL\\lib\\site-packages\\sentinelsat\\download.py\", line 684, in _download_online_retry\n",
      "    return self.download(uuid, directory, stop_event=stop_event)\n",
      "  File \"D:\\Anaconda\\envs\\GDAL\\lib\\site-packages\\sentinelsat\\download.py\", line 142, in download\n",
      "    if not self.api.is_online(id):\n",
      "  File \"D:\\Anaconda\\envs\\GDAL\\lib\\site-packages\\sentinelsat\\sentinel.py\", line 542, in is_online\n",
      "    self._check_scihub_response(r)\n",
      "  File \"D:\\Anaconda\\envs\\GDAL\\lib\\site-packages\\sentinelsat\\sentinel.py\", line 1058, in _check_scihub_response\n",
      "    raise ServerError(msg, response)\n",
      "sentinelsat.exceptions.ServerError: HTTP status 500 Internal Server Error: TransactionSystemException : Could not roll back Hibernate transaction; nested exception is org.hibernate.TransactionException: Unable to rollback against JDBC Connection\n",
      "There was an error downloading S2A_MSIL1C_20200320T051221_N0209_R033_T42FWK_20200320T074841\n",
      "Traceback (most recent call last):\n",
      "  File \"D:\\Anaconda\\envs\\GDAL\\lib\\site-packages\\sentinelsat\\sentinel.py\", line 1012, in _check_scihub_response\n",
      "    response.raise_for_status()\n",
      "  File \"D:\\Anaconda\\envs\\GDAL\\lib\\site-packages\\requests\\models.py\", line 953, in raise_for_status\n",
      "    raise HTTPError(http_error_msg, response=self)\n",
      "requests.exceptions.HTTPError: 500 Server Error: Internal Server Error for url: https://apihub.copernicus.eu/apihub/odata/v1/Products('219145ca-2b23-447b-8ea2-f2c33df8f2f1')/$value\n",
      "\n",
      "During handling of the above exception, another exception occurred:\n",
      "\n",
      "Traceback (most recent call last):\n",
      "  File \"D:\\Anaconda\\envs\\GDAL\\lib\\site-packages\\sentinelsat\\download.py\", line 684, in _download_online_retry\n",
      "    return self.download(uuid, directory, stop_event=stop_event)\n",
      "  File \"D:\\Anaconda\\envs\\GDAL\\lib\\site-packages\\sentinelsat\\download.py\", line 132, in download\n",
      "    filename = self.api._get_filename(product_info)\n",
      "  File \"D:\\Anaconda\\envs\\GDAL\\lib\\site-packages\\sentinelsat\\sentinel.py\", line 591, in _get_filename\n",
      "    self._check_scihub_response(req, test_json=False)\n",
      "  File \"D:\\Anaconda\\envs\\GDAL\\lib\\site-packages\\sentinelsat\\sentinel.py\", line 1058, in _check_scihub_response\n",
      "    raise ServerError(msg, response)\n",
      "sentinelsat.exceptions.ServerError: HTTP status 500 Internal Server Error: TransactionSystemException : Could not roll back Hibernate transaction; nested exception is org.hibernate.TransactionException: Unable to rollback against JDBC Connection\n"
     ]
    },
    {
     "data": {
      "application/vnd.jupyter.widget-view+json": {
       "model_id": "edbb39d7bd1a42eb968fdcd486eeb94d",
       "version_major": 2,
       "version_minor": 0
      },
      "text/plain": [
       "Downloading S2A_MSIL1C_20200320T051221_N0209_R033_T42FWK_20200320T074841.zip:   0%|          | 0.00/576M [00:0…"
      ]
     },
     "metadata": {},
     "output_type": "display_data"
    },
    {
     "data": {
      "application/vnd.jupyter.widget-view+json": {
       "model_id": "",
       "version_major": 2,
       "version_minor": 0
      },
      "text/plain": [
       "MD5 checksumming:   0%|          | 0.00/65.4M [00:00<?, ?B/s]"
      ]
     },
     "metadata": {},
     "output_type": "display_data"
    },
    {
     "data": {
      "application/vnd.jupyter.widget-view+json": {
       "model_id": "4f1476e7e255400d8c02211743c6854a",
       "version_major": 2,
       "version_minor": 0
      },
      "text/plain": [
       "Downloading S2B_MSIL1C_20201227T050229_N0209_R133_T42FWM_20201227T063520.zip:   0%|          | 0.00/22.0M [00:…"
      ]
     },
     "metadata": {},
     "output_type": "display_data"
    },
    {
     "data": {
      "application/vnd.jupyter.widget-view+json": {
       "model_id": "",
       "version_major": 2,
       "version_minor": 0
      },
      "text/plain": [
       "MD5 checksumming:   0%|          | 0.00/22.0M [00:00<?, ?B/s]"
      ]
     },
     "metadata": {},
     "output_type": "display_data"
    },
    {
     "data": {
      "application/vnd.jupyter.widget-view+json": {
       "model_id": "a254a3e56d1846f2835cccb7874e493f",
       "version_major": 2,
       "version_minor": 0
      },
      "text/plain": [
       "Downloading S2B_MSIL1C_20200706T052219_N0209_R076_T42FWM_20200706T081900.zip:   0%|          | 0.00/68.7M [00:…"
      ]
     },
     "metadata": {},
     "output_type": "display_data"
    },
    {
     "data": {
      "application/vnd.jupyter.widget-view+json": {
       "model_id": "",
       "version_major": 2,
       "version_minor": 0
      },
      "text/plain": [
       "MD5 checksumming:   0%|          | 0.00/68.7M [00:00<?, ?B/s]"
      ]
     },
     "metadata": {},
     "output_type": "display_data"
    },
    {
     "data": {
      "application/vnd.jupyter.widget-view+json": {
       "model_id": "d5197724950c408dbe66cfd5ca168e01",
       "version_major": 2,
       "version_minor": 0
      },
      "text/plain": [
       "Downloading S2B_MSIL1C_20200318T052219_N0209_R076_T42FVM_20200318T082933.zip:   0%|          | 0.00/495M [00:0…"
      ]
     },
     "metadata": {},
     "output_type": "display_data"
    },
    {
     "data": {
      "application/vnd.jupyter.widget-view+json": {
       "model_id": "",
       "version_major": 2,
       "version_minor": 0
      },
      "text/plain": [
       "MD5 checksumming:   0%|          | 0.00/627M [00:00<?, ?B/s]"
      ]
     },
     "metadata": {},
     "output_type": "display_data"
    },
    {
     "name": "stderr",
     "output_type": "stream",
     "text": [
      "8479b465-6530-41d1-8a9d-31234473f6c3 failed: Traceback (most recent call last):\n",
      "  File \"D:\\Anaconda\\envs\\GDAL\\lib\\site-packages\\urllib3\\connectionpool.py\", line 706, in urlopen\n",
      "    chunked=chunked,\n",
      "  File \"D:\\Anaconda\\envs\\GDAL\\lib\\site-packages\\urllib3\\connectionpool.py\", line 445, in _make_request\n",
      "    six.raise_from(e, None)\n",
      "  File \"<string>\", line 3, in raise_from\n",
      "  File \"D:\\Anaconda\\envs\\GDAL\\lib\\site-packages\\urllib3\\connectionpool.py\", line 440, in _make_request\n",
      "    httplib_response = conn.getresponse()\n",
      "  File \"D:\\Anaconda\\envs\\GDAL\\lib\\http\\client.py\", line 1379, in getresponse\n",
      "    response.begin()\n",
      "  File \"D:\\Anaconda\\envs\\GDAL\\lib\\http\\client.py\", line 311, in begin\n",
      "    version, status, reason = self._read_status()\n",
      "  File \"D:\\Anaconda\\envs\\GDAL\\lib\\http\\client.py\", line 272, in _read_status\n",
      "    line = str(self.fp.readline(_MAXLINE + 1), \"iso-8859-1\")\n",
      "  File \"D:\\Anaconda\\envs\\GDAL\\lib\\socket.py\", line 586, in readinto\n",
      "    return self._sock.recv_into(b)\n",
      "  File \"D:\\Anaconda\\envs\\GDAL\\lib\\ssl.py\", line 1012, in recv_into\n",
      "    return self.read(nbytes, buffer)\n",
      "  File \"D:\\Anaconda\\envs\\GDAL\\lib\\ssl.py\", line 874, in read\n",
      "    return self._sslobj.read(len, buffer)\n",
      "  File \"D:\\Anaconda\\envs\\GDAL\\lib\\ssl.py\", line 631, in read\n",
      "    v = self._sslobj.read(len, buffer)\n",
      "TimeoutError: [WinError 10060] Une tentative de connexion a échoué car le parti connecté n’a pas répondu convenablement au-delà d’une certaine durée ou une connexion établie a échoué car l’hôte de connexion n’a pas répondu\n",
      "\n",
      "During handling of the above exception, another exception occurred:\n",
      "\n",
      "Traceback (most recent call last):\n",
      "  File \"D:\\Anaconda\\envs\\GDAL\\lib\\site-packages\\requests\\adapters.py\", line 449, in send\n",
      "    timeout=timeout\n",
      "  File \"D:\\Anaconda\\envs\\GDAL\\lib\\site-packages\\urllib3\\connectionpool.py\", line 756, in urlopen\n",
      "    method, url, error=e, _pool=self, _stacktrace=sys.exc_info()[2]\n",
      "  File \"D:\\Anaconda\\envs\\GDAL\\lib\\site-packages\\urllib3\\util\\retry.py\", line 532, in increment\n",
      "    raise six.reraise(type(error), error, _stacktrace)\n",
      "  File \"D:\\Anaconda\\envs\\GDAL\\lib\\site-packages\\urllib3\\packages\\six.py\", line 769, in reraise\n",
      "    raise value.with_traceback(tb)\n",
      "  File \"D:\\Anaconda\\envs\\GDAL\\lib\\site-packages\\urllib3\\connectionpool.py\", line 706, in urlopen\n",
      "    chunked=chunked,\n",
      "  File \"D:\\Anaconda\\envs\\GDAL\\lib\\site-packages\\urllib3\\connectionpool.py\", line 445, in _make_request\n",
      "    six.raise_from(e, None)\n",
      "  File \"<string>\", line 3, in raise_from\n",
      "  File \"D:\\Anaconda\\envs\\GDAL\\lib\\site-packages\\urllib3\\connectionpool.py\", line 440, in _make_request\n",
      "    httplib_response = conn.getresponse()\n",
      "  File \"D:\\Anaconda\\envs\\GDAL\\lib\\http\\client.py\", line 1379, in getresponse\n",
      "    response.begin()\n",
      "  File \"D:\\Anaconda\\envs\\GDAL\\lib\\http\\client.py\", line 311, in begin\n",
      "    version, status, reason = self._read_status()\n",
      "  File \"D:\\Anaconda\\envs\\GDAL\\lib\\http\\client.py\", line 272, in _read_status\n",
      "    line = str(self.fp.readline(_MAXLINE + 1), \"iso-8859-1\")\n",
      "  File \"D:\\Anaconda\\envs\\GDAL\\lib\\socket.py\", line 586, in readinto\n",
      "    return self._sock.recv_into(b)\n",
      "  File \"D:\\Anaconda\\envs\\GDAL\\lib\\ssl.py\", line 1012, in recv_into\n",
      "    return self.read(nbytes, buffer)\n",
      "  File \"D:\\Anaconda\\envs\\GDAL\\lib\\ssl.py\", line 874, in read\n",
      "    return self._sslobj.read(len, buffer)\n",
      "  File \"D:\\Anaconda\\envs\\GDAL\\lib\\ssl.py\", line 631, in read\n",
      "    v = self._sslobj.read(len, buffer)\n",
      "urllib3.exceptions.ProtocolError: ('Connection aborted.', TimeoutError(10060, 'Une tentative de connexion a échoué car le parti connecté n’a pas répondu convenablement au-delà d’une certaine durée ou une connexion établie a échoué car l’hôte de connexion n’a pas répondu', None, 10060, None))\n",
      "\n",
      "During handling of the above exception, another exception occurred:\n",
      "\n",
      "Traceback (most recent call last):\n",
      "  File \"D:\\Anaconda\\envs\\GDAL\\lib\\concurrent\\futures\\thread.py\", line 56, in run\n",
      "    result = self.fn(*self.args, **self.kwargs)\n",
      "  File \"D:\\Anaconda\\envs\\GDAL\\lib\\site-packages\\sentinelsat\\download.py\", line 625, in _trigger_and_wait\n",
      "    if self.api.is_online(uuid):\n",
      "  File \"D:\\Anaconda\\envs\\GDAL\\lib\\site-packages\\sentinelsat\\sentinel.py\", line 541, in is_online\n",
      "    r = self.session.get(url)\n",
      "  File \"D:\\Anaconda\\envs\\GDAL\\lib\\site-packages\\requests\\sessions.py\", line 555, in get\n",
      "    return self.request('GET', url, **kwargs)\n",
      "  File \"D:\\Anaconda\\envs\\GDAL\\lib\\site-packages\\requests\\sessions.py\", line 542, in request\n",
      "    resp = self.send(prep, **send_kwargs)\n",
      "  File \"D:\\Anaconda\\envs\\GDAL\\lib\\site-packages\\requests\\sessions.py\", line 655, in send\n",
      "    r = adapter.send(request, **kwargs)\n",
      "  File \"D:\\Anaconda\\envs\\GDAL\\lib\\site-packages\\requests\\adapters.py\", line 498, in send\n",
      "    raise ConnectionError(err, request=request)\n",
      "requests.exceptions.ConnectionError: ('Connection aborted.', TimeoutError(10060, 'Une tentative de connexion a échoué car le parti connecté n’a pas répondu convenablement au-delà d’une certaine durée ou une connexion établie a échoué car l’hôte de connexion n’a pas répondu', None, 10060, None))\n",
      "\n"
     ]
    },
    {
     "data": {
      "application/vnd.jupyter.widget-view+json": {
       "model_id": "ad304ccd30034d158b01624387c9e1c3",
       "version_major": 2,
       "version_minor": 0
      },
      "text/plain": [
       "Downloading S2B_MSIL1C_20200603T051229_N0209_R033_T42FXL_20200603T095104.zip:   0%|          | 0.00/506M [00:0…"
      ]
     },
     "metadata": {},
     "output_type": "display_data"
    },
    {
     "data": {
      "application/vnd.jupyter.widget-view+json": {
       "model_id": "",
       "version_major": 2,
       "version_minor": 0
      },
      "text/plain": [
       "MD5 checksumming:   0%|          | 0.00/338M [00:00<?, ?B/s]"
      ]
     },
     "metadata": {},
     "output_type": "display_data"
    },
    {
     "name": "stderr",
     "output_type": "stream",
     "text": [
      "116ea1ae-d331-42f9-bf7c-437219a26c73 failed: Traceback (most recent call last):\n",
      "  File \"D:\\Anaconda\\envs\\GDAL\\lib\\site-packages\\urllib3\\connectionpool.py\", line 706, in urlopen\n",
      "    chunked=chunked,\n",
      "  File \"D:\\Anaconda\\envs\\GDAL\\lib\\site-packages\\urllib3\\connectionpool.py\", line 445, in _make_request\n",
      "    six.raise_from(e, None)\n",
      "  File \"<string>\", line 3, in raise_from\n",
      "  File \"D:\\Anaconda\\envs\\GDAL\\lib\\site-packages\\urllib3\\connectionpool.py\", line 440, in _make_request\n",
      "    httplib_response = conn.getresponse()\n",
      "  File \"D:\\Anaconda\\envs\\GDAL\\lib\\http\\client.py\", line 1379, in getresponse\n",
      "    response.begin()\n",
      "  File \"D:\\Anaconda\\envs\\GDAL\\lib\\http\\client.py\", line 311, in begin\n",
      "    version, status, reason = self._read_status()\n",
      "  File \"D:\\Anaconda\\envs\\GDAL\\lib\\http\\client.py\", line 272, in _read_status\n",
      "    line = str(self.fp.readline(_MAXLINE + 1), \"iso-8859-1\")\n",
      "  File \"D:\\Anaconda\\envs\\GDAL\\lib\\socket.py\", line 586, in readinto\n",
      "    return self._sock.recv_into(b)\n",
      "  File \"D:\\Anaconda\\envs\\GDAL\\lib\\ssl.py\", line 1012, in recv_into\n",
      "    return self.read(nbytes, buffer)\n",
      "  File \"D:\\Anaconda\\envs\\GDAL\\lib\\ssl.py\", line 874, in read\n",
      "    return self._sslobj.read(len, buffer)\n",
      "  File \"D:\\Anaconda\\envs\\GDAL\\lib\\ssl.py\", line 631, in read\n",
      "    v = self._sslobj.read(len, buffer)\n",
      "TimeoutError: [WinError 10060] Une tentative de connexion a échoué car le parti connecté n’a pas répondu convenablement au-delà d’une certaine durée ou une connexion établie a échoué car l’hôte de connexion n’a pas répondu\n",
      "\n",
      "During handling of the above exception, another exception occurred:\n",
      "\n",
      "Traceback (most recent call last):\n",
      "  File \"D:\\Anaconda\\envs\\GDAL\\lib\\site-packages\\requests\\adapters.py\", line 449, in send\n",
      "    timeout=timeout\n",
      "  File \"D:\\Anaconda\\envs\\GDAL\\lib\\site-packages\\urllib3\\connectionpool.py\", line 756, in urlopen\n",
      "    method, url, error=e, _pool=self, _stacktrace=sys.exc_info()[2]\n",
      "  File \"D:\\Anaconda\\envs\\GDAL\\lib\\site-packages\\urllib3\\util\\retry.py\", line 532, in increment\n",
      "    raise six.reraise(type(error), error, _stacktrace)\n",
      "  File \"D:\\Anaconda\\envs\\GDAL\\lib\\site-packages\\urllib3\\packages\\six.py\", line 769, in reraise\n",
      "    raise value.with_traceback(tb)\n",
      "  File \"D:\\Anaconda\\envs\\GDAL\\lib\\site-packages\\urllib3\\connectionpool.py\", line 706, in urlopen\n",
      "    chunked=chunked,\n",
      "  File \"D:\\Anaconda\\envs\\GDAL\\lib\\site-packages\\urllib3\\connectionpool.py\", line 445, in _make_request\n",
      "    six.raise_from(e, None)\n",
      "  File \"<string>\", line 3, in raise_from\n",
      "  File \"D:\\Anaconda\\envs\\GDAL\\lib\\site-packages\\urllib3\\connectionpool.py\", line 440, in _make_request\n",
      "    httplib_response = conn.getresponse()\n",
      "  File \"D:\\Anaconda\\envs\\GDAL\\lib\\http\\client.py\", line 1379, in getresponse\n",
      "    response.begin()\n",
      "  File \"D:\\Anaconda\\envs\\GDAL\\lib\\http\\client.py\", line 311, in begin\n",
      "    version, status, reason = self._read_status()\n",
      "  File \"D:\\Anaconda\\envs\\GDAL\\lib\\http\\client.py\", line 272, in _read_status\n",
      "    line = str(self.fp.readline(_MAXLINE + 1), \"iso-8859-1\")\n",
      "  File \"D:\\Anaconda\\envs\\GDAL\\lib\\socket.py\", line 586, in readinto\n",
      "    return self._sock.recv_into(b)\n",
      "  File \"D:\\Anaconda\\envs\\GDAL\\lib\\ssl.py\", line 1012, in recv_into\n",
      "    return self.read(nbytes, buffer)\n",
      "  File \"D:\\Anaconda\\envs\\GDAL\\lib\\ssl.py\", line 874, in read\n",
      "    return self._sslobj.read(len, buffer)\n",
      "  File \"D:\\Anaconda\\envs\\GDAL\\lib\\ssl.py\", line 631, in read\n",
      "    v = self._sslobj.read(len, buffer)\n",
      "urllib3.exceptions.ProtocolError: ('Connection aborted.', TimeoutError(10060, 'Une tentative de connexion a échoué car le parti connecté n’a pas répondu convenablement au-delà d’une certaine durée ou une connexion établie a échoué car l’hôte de connexion n’a pas répondu', None, 10060, None))\n",
      "\n",
      "During handling of the above exception, another exception occurred:\n",
      "\n",
      "Traceback (most recent call last):\n",
      "  File \"D:\\Anaconda\\envs\\GDAL\\lib\\concurrent\\futures\\thread.py\", line 56, in run\n",
      "    result = self.fn(*self.args, **self.kwargs)\n",
      "  File \"D:\\Anaconda\\envs\\GDAL\\lib\\site-packages\\sentinelsat\\download.py\", line 625, in _trigger_and_wait\n",
      "    if self.api.is_online(uuid):\n",
      "  File \"D:\\Anaconda\\envs\\GDAL\\lib\\site-packages\\sentinelsat\\sentinel.py\", line 541, in is_online\n",
      "    r = self.session.get(url)\n",
      "  File \"D:\\Anaconda\\envs\\GDAL\\lib\\site-packages\\requests\\sessions.py\", line 555, in get\n",
      "    return self.request('GET', url, **kwargs)\n",
      "  File \"D:\\Anaconda\\envs\\GDAL\\lib\\site-packages\\requests\\sessions.py\", line 542, in request\n",
      "    resp = self.send(prep, **send_kwargs)\n",
      "  File \"D:\\Anaconda\\envs\\GDAL\\lib\\site-packages\\requests\\sessions.py\", line 655, in send\n",
      "    r = adapter.send(request, **kwargs)\n",
      "  File \"D:\\Anaconda\\envs\\GDAL\\lib\\site-packages\\requests\\adapters.py\", line 498, in send\n",
      "    raise ConnectionError(err, request=request)\n",
      "requests.exceptions.ConnectionError: ('Connection aborted.', TimeoutError(10060, 'Une tentative de connexion a échoué car le parti connecté n’a pas répondu convenablement au-delà d’une certaine durée ou une connexion établie a échoué car l’hôte de connexion n’a pas répondu', None, 10060, None))\n",
      "\n",
      "116ea1ae-d331-42f9-bf7c-437219a26c73 failed: Traceback (most recent call last):\n",
      "  File \"D:\\Anaconda\\envs\\GDAL\\lib\\site-packages\\urllib3\\connectionpool.py\", line 706, in urlopen\n",
      "    chunked=chunked,\n",
      "  File \"D:\\Anaconda\\envs\\GDAL\\lib\\site-packages\\urllib3\\connectionpool.py\", line 445, in _make_request\n",
      "    six.raise_from(e, None)\n",
      "  File \"<string>\", line 3, in raise_from\n",
      "  File \"D:\\Anaconda\\envs\\GDAL\\lib\\site-packages\\urllib3\\connectionpool.py\", line 440, in _make_request\n",
      "    httplib_response = conn.getresponse()\n",
      "  File \"D:\\Anaconda\\envs\\GDAL\\lib\\http\\client.py\", line 1379, in getresponse\n",
      "    response.begin()\n",
      "  File \"D:\\Anaconda\\envs\\GDAL\\lib\\http\\client.py\", line 311, in begin\n",
      "    version, status, reason = self._read_status()\n",
      "  File \"D:\\Anaconda\\envs\\GDAL\\lib\\http\\client.py\", line 272, in _read_status\n",
      "    line = str(self.fp.readline(_MAXLINE + 1), \"iso-8859-1\")\n",
      "  File \"D:\\Anaconda\\envs\\GDAL\\lib\\socket.py\", line 586, in readinto\n",
      "    return self._sock.recv_into(b)\n",
      "  File \"D:\\Anaconda\\envs\\GDAL\\lib\\ssl.py\", line 1012, in recv_into\n",
      "    return self.read(nbytes, buffer)\n",
      "  File \"D:\\Anaconda\\envs\\GDAL\\lib\\ssl.py\", line 874, in read\n",
      "    return self._sslobj.read(len, buffer)\n",
      "  File \"D:\\Anaconda\\envs\\GDAL\\lib\\ssl.py\", line 631, in read\n",
      "    v = self._sslobj.read(len, buffer)\n",
      "TimeoutError: [WinError 10060] Une tentative de connexion a échoué car le parti connecté n’a pas répondu convenablement au-delà d’une certaine durée ou une connexion établie a échoué car l’hôte de connexion n’a pas répondu\n",
      "\n",
      "During handling of the above exception, another exception occurred:\n",
      "\n",
      "Traceback (most recent call last):\n",
      "  File \"D:\\Anaconda\\envs\\GDAL\\lib\\site-packages\\requests\\adapters.py\", line 449, in send\n",
      "    timeout=timeout\n",
      "  File \"D:\\Anaconda\\envs\\GDAL\\lib\\site-packages\\urllib3\\connectionpool.py\", line 756, in urlopen\n",
      "    method, url, error=e, _pool=self, _stacktrace=sys.exc_info()[2]\n",
      "  File \"D:\\Anaconda\\envs\\GDAL\\lib\\site-packages\\urllib3\\util\\retry.py\", line 532, in increment\n",
      "    raise six.reraise(type(error), error, _stacktrace)\n",
      "  File \"D:\\Anaconda\\envs\\GDAL\\lib\\site-packages\\urllib3\\packages\\six.py\", line 769, in reraise\n",
      "    raise value.with_traceback(tb)\n",
      "  File \"D:\\Anaconda\\envs\\GDAL\\lib\\site-packages\\urllib3\\connectionpool.py\", line 706, in urlopen\n",
      "    chunked=chunked,\n",
      "  File \"D:\\Anaconda\\envs\\GDAL\\lib\\site-packages\\urllib3\\connectionpool.py\", line 445, in _make_request\n",
      "    six.raise_from(e, None)\n",
      "  File \"<string>\", line 3, in raise_from\n",
      "  File \"D:\\Anaconda\\envs\\GDAL\\lib\\site-packages\\urllib3\\connectionpool.py\", line 440, in _make_request\n",
      "    httplib_response = conn.getresponse()\n",
      "  File \"D:\\Anaconda\\envs\\GDAL\\lib\\http\\client.py\", line 1379, in getresponse\n",
      "    response.begin()\n",
      "  File \"D:\\Anaconda\\envs\\GDAL\\lib\\http\\client.py\", line 311, in begin\n",
      "    version, status, reason = self._read_status()\n",
      "  File \"D:\\Anaconda\\envs\\GDAL\\lib\\http\\client.py\", line 272, in _read_status\n",
      "    line = str(self.fp.readline(_MAXLINE + 1), \"iso-8859-1\")\n",
      "  File \"D:\\Anaconda\\envs\\GDAL\\lib\\socket.py\", line 586, in readinto\n",
      "    return self._sock.recv_into(b)\n",
      "  File \"D:\\Anaconda\\envs\\GDAL\\lib\\ssl.py\", line 1012, in recv_into\n",
      "    return self.read(nbytes, buffer)\n",
      "  File \"D:\\Anaconda\\envs\\GDAL\\lib\\ssl.py\", line 874, in read\n",
      "    return self._sslobj.read(len, buffer)\n",
      "  File \"D:\\Anaconda\\envs\\GDAL\\lib\\ssl.py\", line 631, in read\n",
      "    v = self._sslobj.read(len, buffer)\n",
      "urllib3.exceptions.ProtocolError: ('Connection aborted.', TimeoutError(10060, 'Une tentative de connexion a échoué car le parti connecté n’a pas répondu convenablement au-delà d’une certaine durée ou une connexion établie a échoué car l’hôte de connexion n’a pas répondu', None, 10060, None))\n",
      "\n",
      "During handling of the above exception, another exception occurred:\n",
      "\n",
      "Traceback (most recent call last):\n",
      "  File \"D:\\Anaconda\\envs\\GDAL\\lib\\concurrent\\futures\\thread.py\", line 56, in run\n",
      "    result = self.fn(*self.args, **self.kwargs)\n",
      "  File \"D:\\Anaconda\\envs\\GDAL\\lib\\site-packages\\sentinelsat\\download.py\", line 625, in _trigger_and_wait\n",
      "    if self.api.is_online(uuid):\n",
      "  File \"D:\\Anaconda\\envs\\GDAL\\lib\\site-packages\\sentinelsat\\sentinel.py\", line 541, in is_online\n",
      "    r = self.session.get(url)\n",
      "  File \"D:\\Anaconda\\envs\\GDAL\\lib\\site-packages\\requests\\sessions.py\", line 555, in get\n",
      "    return self.request('GET', url, **kwargs)\n",
      "  File \"D:\\Anaconda\\envs\\GDAL\\lib\\site-packages\\requests\\sessions.py\", line 542, in request\n",
      "    resp = self.send(prep, **send_kwargs)\n",
      "  File \"D:\\Anaconda\\envs\\GDAL\\lib\\site-packages\\requests\\sessions.py\", line 655, in send\n",
      "    r = adapter.send(request, **kwargs)\n",
      "  File \"D:\\Anaconda\\envs\\GDAL\\lib\\site-packages\\requests\\adapters.py\", line 498, in send\n",
      "    raise ConnectionError(err, request=request)\n",
      "requests.exceptions.ConnectionError: ('Connection aborted.', TimeoutError(10060, 'Une tentative de connexion a échoué car le parti connecté n’a pas répondu convenablement au-delà d’une certaine durée ou une connexion établie a échoué car l’hôte de connexion n’a pas répondu', None, 10060, None))\n",
      "\n"
     ]
    },
    {
     "data": {
      "application/vnd.jupyter.widget-view+json": {
       "model_id": "4d248b07c0c345fcbb7f0d7b819cc81f",
       "version_major": 2,
       "version_minor": 0
      },
      "text/plain": [
       "Downloading S2B_MSIL1C_20200812T051229_N0209_R033_T42FWM_20200812T070852.zip:   0%|          | 0.00/305M [00:0…"
      ]
     },
     "metadata": {},
     "output_type": "display_data"
    },
    {
     "data": {
      "application/vnd.jupyter.widget-view+json": {
       "model_id": "",
       "version_major": 2,
       "version_minor": 0
      },
      "text/plain": [
       "MD5 checksumming:   0%|          | 0.00/576M [00:00<?, ?B/s]"
      ]
     },
     "metadata": {},
     "output_type": "display_data"
    },
    {
     "data": {
      "application/vnd.jupyter.widget-view+json": {
       "model_id": "1dcb93d0740242d28cd7b5f4c20c3457",
       "version_major": 2,
       "version_minor": 0
      },
      "text/plain": [
       "Downloading S2A_MSIL1C_20200127T050221_N0208_R133_T42FWM_20200127T073156.zip:   0%|          | 0.00/22.5M [00:…"
      ]
     },
     "metadata": {},
     "output_type": "display_data"
    },
    {
     "data": {
      "application/vnd.jupyter.widget-view+json": {
       "model_id": "",
       "version_major": 2,
       "version_minor": 0
      },
      "text/plain": [
       "MD5 checksumming:   0%|          | 0.00/22.5M [00:00<?, ?B/s]"
      ]
     },
     "metadata": {},
     "output_type": "display_data"
    },
    {
     "data": {
      "application/vnd.jupyter.widget-view+json": {
       "model_id": "727f55b43c7a421dae190c432e24de20",
       "version_major": 2,
       "version_minor": 0
      },
      "text/plain": [
       "Downloading S2B_MSIL1C_20200227T052219_N0209_R076_T42FVK_20200227T082027.zip:   0%|          | 0.00/153M [00:0…"
      ]
     },
     "metadata": {},
     "output_type": "display_data"
    },
    {
     "data": {
      "application/vnd.jupyter.widget-view+json": {
       "model_id": "",
       "version_major": 2,
       "version_minor": 0
      },
      "text/plain": [
       "MD5 checksumming:   0%|          | 0.00/495M [00:00<?, ?B/s]"
      ]
     },
     "metadata": {},
     "output_type": "display_data"
    },
    {
     "data": {
      "application/vnd.jupyter.widget-view+json": {
       "model_id": "cf414b2ce8d0422eb739fb600a9d186b",
       "version_major": 2,
       "version_minor": 0
      },
      "text/plain": [
       "Downloading S2B_MSIL1C_20200227T052219_N0209_R076_T42FVL_20200227T082027.zip:   0%|          | 0.00/511M [00:0…"
      ]
     },
     "metadata": {},
     "output_type": "display_data"
    },
    {
     "data": {
      "application/vnd.jupyter.widget-view+json": {
       "model_id": "",
       "version_major": 2,
       "version_minor": 0
      },
      "text/plain": [
       "MD5 checksumming:   0%|          | 0.00/153M [00:00<?, ?B/s]"
      ]
     },
     "metadata": {},
     "output_type": "display_data"
    },
    {
     "name": "stderr",
     "output_type": "stream",
     "text": [
      "There was an error downloading S2B_MSIL1C_20200706T052219_N0209_R076_T42FVM_20200706T081900\n",
      "Traceback (most recent call last):\n",
      "  File \"D:\\Anaconda\\envs\\GDAL\\lib\\site-packages\\sentinelsat\\sentinel.py\", line 1012, in _check_scihub_response\n",
      "    response.raise_for_status()\n",
      "  File \"D:\\Anaconda\\envs\\GDAL\\lib\\site-packages\\requests\\models.py\", line 953, in raise_for_status\n",
      "    raise HTTPError(http_error_msg, response=self)\n",
      "requests.exceptions.HTTPError: 500 Server Error: Internal Server Error for url: https://apihub.copernicus.eu/apihub/odata/v1/Products('bdd34c43-53ea-49d8-b43b-12cdf54e4757')?$format=json\n",
      "\n",
      "During handling of the above exception, another exception occurred:\n",
      "\n",
      "Traceback (most recent call last):\n",
      "  File \"D:\\Anaconda\\envs\\GDAL\\lib\\site-packages\\sentinelsat\\download.py\", line 684, in _download_online_retry\n",
      "    return self.download(uuid, directory, stop_event=stop_event)\n",
      "  File \"D:\\Anaconda\\envs\\GDAL\\lib\\site-packages\\sentinelsat\\download.py\", line 131, in download\n",
      "    product_info = self.api.get_product_odata(id)\n",
      "  File \"D:\\Anaconda\\envs\\GDAL\\lib\\site-packages\\sentinelsat\\sentinel.py\", line 515, in get_product_odata\n",
      "    self._check_scihub_response(response)\n",
      "  File \"D:\\Anaconda\\envs\\GDAL\\lib\\site-packages\\sentinelsat\\sentinel.py\", line 1058, in _check_scihub_response\n",
      "    raise ServerError(msg, response)\n",
      "sentinelsat.exceptions.ServerError: HTTP status 500 Internal Server Error: Could not roll back Hibernate transaction; nested exception is org.hibernate.TransactionException: Unable to rollback against JDBC Connection\n"
     ]
    },
    {
     "data": {
      "application/vnd.jupyter.widget-view+json": {
       "model_id": "d93703bac5554b428dfb1429b16b272e",
       "version_major": 2,
       "version_minor": 0
      },
      "text/plain": [
       "Downloading S2B_MSIL1C_20200706T052219_N0209_R076_T42FVM_20200706T081900.zip:   0%|          | 0.00/502M [00:0…"
      ]
     },
     "metadata": {},
     "output_type": "display_data"
    },
    {
     "data": {
      "application/vnd.jupyter.widget-view+json": {
       "model_id": "",
       "version_major": 2,
       "version_minor": 0
      },
      "text/plain": [
       "MD5 checksumming:   0%|          | 0.00/305M [00:00<?, ?B/s]"
      ]
     },
     "metadata": {},
     "output_type": "display_data"
    },
    {
     "data": {
      "application/vnd.jupyter.widget-view+json": {
       "model_id": "842fb872d3824f77acaafc9d53f30449",
       "version_major": 2,
       "version_minor": 0
      },
      "text/plain": [
       "Downloading S2A_MSIL1C_20200701T052221_N0209_R076_T42FWM_20200701T082910.zip:   0%|          | 0.00/70.1M [00:…"
      ]
     },
     "metadata": {},
     "output_type": "display_data"
    },
    {
     "data": {
      "application/vnd.jupyter.widget-view+json": {
       "model_id": "",
       "version_major": 2,
       "version_minor": 0
      },
      "text/plain": [
       "MD5 checksumming:   0%|          | 0.00/511M [00:00<?, ?B/s]"
      ]
     },
     "metadata": {},
     "output_type": "display_data"
    },
    {
     "data": {
      "application/vnd.jupyter.widget-view+json": {
       "model_id": "6508afd57d974e2cbb4e2de44c3ea43c",
       "version_major": 2,
       "version_minor": 0
      },
      "text/plain": [
       "Downloading S2B_MSIL1C_20200829T050229_N0209_R133_T42FWM_20200829T062453.zip:   0%|          | 0.00/31.7M [00:…"
      ]
     },
     "metadata": {},
     "output_type": "display_data"
    },
    {
     "data": {
      "application/vnd.jupyter.widget-view+json": {
       "model_id": "",
       "version_major": 2,
       "version_minor": 0
      },
      "text/plain": [
       "MD5 checksumming:   0%|          | 0.00/31.7M [00:00<?, ?B/s]"
      ]
     },
     "metadata": {},
     "output_type": "display_data"
    },
    {
     "data": {
      "application/vnd.jupyter.widget-view+json": {
       "model_id": "d45e390b6729443da7af226f56bec17c",
       "version_major": 2,
       "version_minor": 0
      },
      "text/plain": [
       "Downloading S2B_MSIL1C_20200227T052219_N0209_R076_T42FVM_20200227T082027.zip:   0%|          | 0.00/426M [00:0…"
      ]
     },
     "metadata": {},
     "output_type": "display_data"
    },
    {
     "data": {
      "application/vnd.jupyter.widget-view+json": {
       "model_id": "",
       "version_major": 2,
       "version_minor": 0
      },
      "text/plain": [
       "MD5 checksumming:   0%|          | 0.00/70.1M [00:00<?, ?B/s]"
      ]
     },
     "metadata": {},
     "output_type": "display_data"
    },
    {
     "data": {
      "application/vnd.jupyter.widget-view+json": {
       "model_id": "2a4446b425f14a51bdcb56a28d9b6a52",
       "version_major": 2,
       "version_minor": 0
      },
      "text/plain": [
       "Downloading S2B_MSIL1C_20200302T050229_N0209_R133_T42FWM_20200302T075917.zip:   0%|          | 0.00/34.1M [00:…"
      ]
     },
     "metadata": {},
     "output_type": "display_data"
    },
    {
     "data": {
      "application/vnd.jupyter.widget-view+json": {
       "model_id": "",
       "version_major": 2,
       "version_minor": 0
      },
      "text/plain": [
       "MD5 checksumming:   0%|          | 0.00/506M [00:00<?, ?B/s]"
      ]
     },
     "metadata": {},
     "output_type": "display_data"
    },
    {
     "data": {
      "application/vnd.jupyter.widget-view+json": {
       "model_id": "",
       "version_major": 2,
       "version_minor": 0
      },
      "text/plain": [
       "MD5 checksumming:   0%|          | 0.00/34.1M [00:00<?, ?B/s]"
      ]
     },
     "metadata": {},
     "output_type": "display_data"
    },
    {
     "data": {
      "application/vnd.jupyter.widget-view+json": {
       "model_id": "",
       "version_major": 2,
       "version_minor": 0
      },
      "text/plain": [
       "MD5 checksumming:   0%|          | 0.00/426M [00:00<?, ?B/s]"
      ]
     },
     "metadata": {},
     "output_type": "display_data"
    },
    {
     "data": {
      "application/vnd.jupyter.widget-view+json": {
       "model_id": "",
       "version_major": 2,
       "version_minor": 0
      },
      "text/plain": [
       "MD5 checksumming:   0%|          | 0.00/502M [00:00<?, ?B/s]"
      ]
     },
     "metadata": {},
     "output_type": "display_data"
    },
    {
     "data": {
      "application/vnd.jupyter.widget-view+json": {
       "model_id": "115af03010fa4118b58e705e47ac4dca",
       "version_major": 2,
       "version_minor": 0
      },
      "text/plain": [
       "Downloading S2A_MSIL1C_20201029T052221_N0209_R076_T42FWL_20201029T064515.zip:   0%|          | 0.00/21.1M [00:…"
      ]
     },
     "metadata": {},
     "output_type": "display_data"
    },
    {
     "data": {
      "application/vnd.jupyter.widget-view+json": {
       "model_id": "ba704bb05a864fc0bd2db291bcff974d",
       "version_major": 2,
       "version_minor": 0
      },
      "text/plain": [
       "Downloading S2A_MSIL1C_20200618T051231_N0209_R033_T42FXL_20200618T080921.zip:   0%|          | 0.00/312M [00:0…"
      ]
     },
     "metadata": {},
     "output_type": "display_data"
    },
    {
     "data": {
      "application/vnd.jupyter.widget-view+json": {
       "model_id": "618ecc5288f445b4947efe7f84414e89",
       "version_major": 2,
       "version_minor": 0
      },
      "text/plain": [
       "Downloading S2A_MSIL1C_20200913T050231_N0209_R133_T42FWM_20200913T062347.zip:   0%|          | 0.00/27.4M [00:…"
      ]
     },
     "metadata": {},
     "output_type": "display_data"
    },
    {
     "data": {
      "application/vnd.jupyter.widget-view+json": {
       "model_id": "",
       "version_major": 2,
       "version_minor": 0
      },
      "text/plain": [
       "MD5 checksumming:   0%|          | 0.00/21.1M [00:00<?, ?B/s]"
      ]
     },
     "metadata": {},
     "output_type": "display_data"
    },
    {
     "data": {
      "application/vnd.jupyter.widget-view+json": {
       "model_id": "1fa9256079a14eb6879ec4cfd24e79c0",
       "version_major": 2,
       "version_minor": 0
      },
      "text/plain": [
       "Downloading S2A_MSIL1C_20200701T052221_N0209_R076_T42FWL_20200701T082910.zip:   0%|          | 0.00/20.8M [00:…"
      ]
     },
     "metadata": {},
     "output_type": "display_data"
    },
    {
     "name": "stderr",
     "output_type": "stream",
     "text": [
      "911bcc2e-8fb3-41ff-bcf7-0d8c3393b576 failed: Traceback (most recent call last):\n",
      "  File \"D:\\Anaconda\\envs\\GDAL\\lib\\site-packages\\urllib3\\connectionpool.py\", line 706, in urlopen\n",
      "    chunked=chunked,\n",
      "  File \"D:\\Anaconda\\envs\\GDAL\\lib\\site-packages\\urllib3\\connectionpool.py\", line 445, in _make_request\n",
      "    six.raise_from(e, None)\n",
      "  File \"<string>\", line 3, in raise_from\n",
      "  File \"D:\\Anaconda\\envs\\GDAL\\lib\\site-packages\\urllib3\\connectionpool.py\", line 440, in _make_request\n",
      "    httplib_response = conn.getresponse()\n",
      "  File \"D:\\Anaconda\\envs\\GDAL\\lib\\http\\client.py\", line 1379, in getresponse\n",
      "    response.begin()\n",
      "  File \"D:\\Anaconda\\envs\\GDAL\\lib\\http\\client.py\", line 311, in begin\n",
      "    version, status, reason = self._read_status()\n",
      "  File \"D:\\Anaconda\\envs\\GDAL\\lib\\http\\client.py\", line 272, in _read_status\n",
      "    line = str(self.fp.readline(_MAXLINE + 1), \"iso-8859-1\")\n",
      "  File \"D:\\Anaconda\\envs\\GDAL\\lib\\socket.py\", line 586, in readinto\n",
      "    return self._sock.recv_into(b)\n",
      "  File \"D:\\Anaconda\\envs\\GDAL\\lib\\ssl.py\", line 1012, in recv_into\n",
      "    return self.read(nbytes, buffer)\n",
      "  File \"D:\\Anaconda\\envs\\GDAL\\lib\\ssl.py\", line 874, in read\n",
      "    return self._sslobj.read(len, buffer)\n",
      "  File \"D:\\Anaconda\\envs\\GDAL\\lib\\ssl.py\", line 631, in read\n",
      "    v = self._sslobj.read(len, buffer)\n",
      "TimeoutError: [WinError 10060] Une tentative de connexion a échoué car le parti connecté n’a pas répondu convenablement au-delà d’une certaine durée ou une connexion établie a échoué car l’hôte de connexion n’a pas répondu\n",
      "\n",
      "During handling of the above exception, another exception occurred:\n",
      "\n",
      "Traceback (most recent call last):\n",
      "  File \"D:\\Anaconda\\envs\\GDAL\\lib\\site-packages\\requests\\adapters.py\", line 449, in send\n",
      "    timeout=timeout\n",
      "  File \"D:\\Anaconda\\envs\\GDAL\\lib\\site-packages\\urllib3\\connectionpool.py\", line 756, in urlopen\n",
      "    method, url, error=e, _pool=self, _stacktrace=sys.exc_info()[2]\n",
      "  File \"D:\\Anaconda\\envs\\GDAL\\lib\\site-packages\\urllib3\\util\\retry.py\", line 532, in increment\n",
      "    raise six.reraise(type(error), error, _stacktrace)\n",
      "  File \"D:\\Anaconda\\envs\\GDAL\\lib\\site-packages\\urllib3\\packages\\six.py\", line 769, in reraise\n",
      "    raise value.with_traceback(tb)\n",
      "  File \"D:\\Anaconda\\envs\\GDAL\\lib\\site-packages\\urllib3\\connectionpool.py\", line 706, in urlopen\n",
      "    chunked=chunked,\n",
      "  File \"D:\\Anaconda\\envs\\GDAL\\lib\\site-packages\\urllib3\\connectionpool.py\", line 445, in _make_request\n",
      "    six.raise_from(e, None)\n",
      "  File \"<string>\", line 3, in raise_from\n",
      "  File \"D:\\Anaconda\\envs\\GDAL\\lib\\site-packages\\urllib3\\connectionpool.py\", line 440, in _make_request\n",
      "    httplib_response = conn.getresponse()\n",
      "  File \"D:\\Anaconda\\envs\\GDAL\\lib\\http\\client.py\", line 1379, in getresponse\n",
      "    response.begin()\n",
      "  File \"D:\\Anaconda\\envs\\GDAL\\lib\\http\\client.py\", line 311, in begin\n",
      "    version, status, reason = self._read_status()\n",
      "  File \"D:\\Anaconda\\envs\\GDAL\\lib\\http\\client.py\", line 272, in _read_status\n",
      "    line = str(self.fp.readline(_MAXLINE + 1), \"iso-8859-1\")\n",
      "  File \"D:\\Anaconda\\envs\\GDAL\\lib\\socket.py\", line 586, in readinto\n",
      "    return self._sock.recv_into(b)\n",
      "  File \"D:\\Anaconda\\envs\\GDAL\\lib\\ssl.py\", line 1012, in recv_into\n",
      "    return self.read(nbytes, buffer)\n",
      "  File \"D:\\Anaconda\\envs\\GDAL\\lib\\ssl.py\", line 874, in read\n",
      "    return self._sslobj.read(len, buffer)\n",
      "  File \"D:\\Anaconda\\envs\\GDAL\\lib\\ssl.py\", line 631, in read\n",
      "    v = self._sslobj.read(len, buffer)\n",
      "urllib3.exceptions.ProtocolError: ('Connection aborted.', TimeoutError(10060, 'Une tentative de connexion a échoué car le parti connecté n’a pas répondu convenablement au-delà d’une certaine durée ou une connexion établie a échoué car l’hôte de connexion n’a pas répondu', None, 10060, None))\n",
      "\n",
      "During handling of the above exception, another exception occurred:\n",
      "\n",
      "Traceback (most recent call last):\n",
      "  File \"D:\\Anaconda\\envs\\GDAL\\lib\\concurrent\\futures\\thread.py\", line 56, in run\n",
      "    result = self.fn(*self.args, **self.kwargs)\n",
      "  File \"D:\\Anaconda\\envs\\GDAL\\lib\\site-packages\\sentinelsat\\download.py\", line 625, in _trigger_and_wait\n",
      "    if self.api.is_online(uuid):\n",
      "  File \"D:\\Anaconda\\envs\\GDAL\\lib\\site-packages\\sentinelsat\\sentinel.py\", line 541, in is_online\n",
      "    r = self.session.get(url)\n",
      "  File \"D:\\Anaconda\\envs\\GDAL\\lib\\site-packages\\requests\\sessions.py\", line 555, in get\n",
      "    return self.request('GET', url, **kwargs)\n",
      "  File \"D:\\Anaconda\\envs\\GDAL\\lib\\site-packages\\requests\\sessions.py\", line 542, in request\n",
      "    resp = self.send(prep, **send_kwargs)\n",
      "  File \"D:\\Anaconda\\envs\\GDAL\\lib\\site-packages\\requests\\sessions.py\", line 655, in send\n",
      "    r = adapter.send(request, **kwargs)\n",
      "  File \"D:\\Anaconda\\envs\\GDAL\\lib\\site-packages\\requests\\adapters.py\", line 498, in send\n",
      "    raise ConnectionError(err, request=request)\n",
      "requests.exceptions.ConnectionError: ('Connection aborted.', TimeoutError(10060, 'Une tentative de connexion a échoué car le parti connecté n’a pas répondu convenablement au-delà d’une certaine durée ou une connexion établie a échoué car l’hôte de connexion n’a pas répondu', None, 10060, None))\n",
      "\n",
      "22ef8e98-0f09-46dc-8004-3bd8cfe5d40f failed: Traceback (most recent call last):\n",
      "  File \"D:\\Anaconda\\envs\\GDAL\\lib\\site-packages\\urllib3\\connectionpool.py\", line 706, in urlopen\n",
      "    chunked=chunked,\n",
      "  File \"D:\\Anaconda\\envs\\GDAL\\lib\\site-packages\\urllib3\\connectionpool.py\", line 445, in _make_request\n",
      "    six.raise_from(e, None)\n",
      "  File \"<string>\", line 3, in raise_from\n",
      "  File \"D:\\Anaconda\\envs\\GDAL\\lib\\site-packages\\urllib3\\connectionpool.py\", line 440, in _make_request\n",
      "    httplib_response = conn.getresponse()\n",
      "  File \"D:\\Anaconda\\envs\\GDAL\\lib\\http\\client.py\", line 1379, in getresponse\n",
      "    response.begin()\n",
      "  File \"D:\\Anaconda\\envs\\GDAL\\lib\\http\\client.py\", line 311, in begin\n",
      "    version, status, reason = self._read_status()\n",
      "  File \"D:\\Anaconda\\envs\\GDAL\\lib\\http\\client.py\", line 272, in _read_status\n",
      "    line = str(self.fp.readline(_MAXLINE + 1), \"iso-8859-1\")\n",
      "  File \"D:\\Anaconda\\envs\\GDAL\\lib\\socket.py\", line 586, in readinto\n",
      "    return self._sock.recv_into(b)\n",
      "  File \"D:\\Anaconda\\envs\\GDAL\\lib\\ssl.py\", line 1012, in recv_into\n",
      "    return self.read(nbytes, buffer)\n",
      "  File \"D:\\Anaconda\\envs\\GDAL\\lib\\ssl.py\", line 874, in read\n",
      "    return self._sslobj.read(len, buffer)\n",
      "  File \"D:\\Anaconda\\envs\\GDAL\\lib\\ssl.py\", line 631, in read\n",
      "    v = self._sslobj.read(len, buffer)\n",
      "TimeoutError: [WinError 10060] Une tentative de connexion a échoué car le parti connecté n’a pas répondu convenablement au-delà d’une certaine durée ou une connexion établie a échoué car l’hôte de connexion n’a pas répondu\n",
      "\n",
      "During handling of the above exception, another exception occurred:\n",
      "\n",
      "Traceback (most recent call last):\n",
      "  File \"D:\\Anaconda\\envs\\GDAL\\lib\\site-packages\\requests\\adapters.py\", line 449, in send\n",
      "    timeout=timeout\n",
      "  File \"D:\\Anaconda\\envs\\GDAL\\lib\\site-packages\\urllib3\\connectionpool.py\", line 756, in urlopen\n",
      "    method, url, error=e, _pool=self, _stacktrace=sys.exc_info()[2]\n",
      "  File \"D:\\Anaconda\\envs\\GDAL\\lib\\site-packages\\urllib3\\util\\retry.py\", line 532, in increment\n",
      "    raise six.reraise(type(error), error, _stacktrace)\n",
      "  File \"D:\\Anaconda\\envs\\GDAL\\lib\\site-packages\\urllib3\\packages\\six.py\", line 769, in reraise\n",
      "    raise value.with_traceback(tb)\n",
      "  File \"D:\\Anaconda\\envs\\GDAL\\lib\\site-packages\\urllib3\\connectionpool.py\", line 706, in urlopen\n",
      "    chunked=chunked,\n",
      "  File \"D:\\Anaconda\\envs\\GDAL\\lib\\site-packages\\urllib3\\connectionpool.py\", line 445, in _make_request\n",
      "    six.raise_from(e, None)\n",
      "  File \"<string>\", line 3, in raise_from\n",
      "  File \"D:\\Anaconda\\envs\\GDAL\\lib\\site-packages\\urllib3\\connectionpool.py\", line 440, in _make_request\n",
      "    httplib_response = conn.getresponse()\n",
      "  File \"D:\\Anaconda\\envs\\GDAL\\lib\\http\\client.py\", line 1379, in getresponse\n",
      "    response.begin()\n",
      "  File \"D:\\Anaconda\\envs\\GDAL\\lib\\http\\client.py\", line 311, in begin\n",
      "    version, status, reason = self._read_status()\n",
      "  File \"D:\\Anaconda\\envs\\GDAL\\lib\\http\\client.py\", line 272, in _read_status\n",
      "    line = str(self.fp.readline(_MAXLINE + 1), \"iso-8859-1\")\n",
      "  File \"D:\\Anaconda\\envs\\GDAL\\lib\\socket.py\", line 586, in readinto\n",
      "    return self._sock.recv_into(b)\n",
      "  File \"D:\\Anaconda\\envs\\GDAL\\lib\\ssl.py\", line 1012, in recv_into\n",
      "    return self.read(nbytes, buffer)\n",
      "  File \"D:\\Anaconda\\envs\\GDAL\\lib\\ssl.py\", line 874, in read\n",
      "    return self._sslobj.read(len, buffer)\n",
      "  File \"D:\\Anaconda\\envs\\GDAL\\lib\\ssl.py\", line 631, in read\n",
      "    v = self._sslobj.read(len, buffer)\n",
      "urllib3.exceptions.ProtocolError: ('Connection aborted.', TimeoutError(10060, 'Une tentative de connexion a échoué car le parti connecté n’a pas répondu convenablement au-delà d’une certaine durée ou une connexion établie a échoué car l’hôte de connexion n’a pas répondu', None, 10060, None))\n",
      "\n",
      "During handling of the above exception, another exception occurred:\n",
      "\n",
      "Traceback (most recent call last):\n",
      "  File \"D:\\Anaconda\\envs\\GDAL\\lib\\concurrent\\futures\\thread.py\", line 56, in run\n",
      "    result = self.fn(*self.args, **self.kwargs)\n",
      "  File \"D:\\Anaconda\\envs\\GDAL\\lib\\site-packages\\sentinelsat\\download.py\", line 625, in _trigger_and_wait\n",
      "    if self.api.is_online(uuid):\n",
      "  File \"D:\\Anaconda\\envs\\GDAL\\lib\\site-packages\\sentinelsat\\sentinel.py\", line 541, in is_online\n",
      "    r = self.session.get(url)\n",
      "  File \"D:\\Anaconda\\envs\\GDAL\\lib\\site-packages\\requests\\sessions.py\", line 555, in get\n",
      "    return self.request('GET', url, **kwargs)\n",
      "  File \"D:\\Anaconda\\envs\\GDAL\\lib\\site-packages\\requests\\sessions.py\", line 542, in request\n",
      "    resp = self.send(prep, **send_kwargs)\n",
      "  File \"D:\\Anaconda\\envs\\GDAL\\lib\\site-packages\\requests\\sessions.py\", line 655, in send\n",
      "    r = adapter.send(request, **kwargs)\n",
      "  File \"D:\\Anaconda\\envs\\GDAL\\lib\\site-packages\\requests\\adapters.py\", line 498, in send\n",
      "    raise ConnectionError(err, request=request)\n",
      "requests.exceptions.ConnectionError: ('Connection aborted.', TimeoutError(10060, 'Une tentative de connexion a échoué car le parti connecté n’a pas répondu convenablement au-delà d’une certaine durée ou une connexion établie a échoué car l’hôte de connexion n’a pas répondu', None, 10060, None))\n",
      "\n"
     ]
    },
    {
     "data": {
      "application/vnd.jupyter.widget-view+json": {
       "model_id": "",
       "version_major": 2,
       "version_minor": 0
      },
      "text/plain": [
       "MD5 checksumming:   0%|          | 0.00/20.8M [00:00<?, ?B/s]"
      ]
     },
     "metadata": {},
     "output_type": "display_data"
    },
    {
     "name": "stderr",
     "output_type": "stream",
     "text": [
      "22ef8e98-0f09-46dc-8004-3bd8cfe5d40f failed: Traceback (most recent call last):\n",
      "  File \"D:\\Anaconda\\envs\\GDAL\\lib\\site-packages\\urllib3\\connectionpool.py\", line 706, in urlopen\n",
      "    chunked=chunked,\n",
      "  File \"D:\\Anaconda\\envs\\GDAL\\lib\\site-packages\\urllib3\\connectionpool.py\", line 445, in _make_request\n",
      "    six.raise_from(e, None)\n",
      "  File \"<string>\", line 3, in raise_from\n",
      "  File \"D:\\Anaconda\\envs\\GDAL\\lib\\site-packages\\urllib3\\connectionpool.py\", line 440, in _make_request\n",
      "    httplib_response = conn.getresponse()\n",
      "  File \"D:\\Anaconda\\envs\\GDAL\\lib\\http\\client.py\", line 1379, in getresponse\n",
      "    response.begin()\n",
      "  File \"D:\\Anaconda\\envs\\GDAL\\lib\\http\\client.py\", line 311, in begin\n",
      "    version, status, reason = self._read_status()\n",
      "  File \"D:\\Anaconda\\envs\\GDAL\\lib\\http\\client.py\", line 272, in _read_status\n",
      "    line = str(self.fp.readline(_MAXLINE + 1), \"iso-8859-1\")\n",
      "  File \"D:\\Anaconda\\envs\\GDAL\\lib\\socket.py\", line 586, in readinto\n",
      "    return self._sock.recv_into(b)\n",
      "  File \"D:\\Anaconda\\envs\\GDAL\\lib\\ssl.py\", line 1012, in recv_into\n",
      "    return self.read(nbytes, buffer)\n",
      "  File \"D:\\Anaconda\\envs\\GDAL\\lib\\ssl.py\", line 874, in read\n",
      "    return self._sslobj.read(len, buffer)\n",
      "  File \"D:\\Anaconda\\envs\\GDAL\\lib\\ssl.py\", line 631, in read\n",
      "    v = self._sslobj.read(len, buffer)\n",
      "TimeoutError: [WinError 10060] Une tentative de connexion a échoué car le parti connecté n’a pas répondu convenablement au-delà d’une certaine durée ou une connexion établie a échoué car l’hôte de connexion n’a pas répondu\n",
      "\n",
      "During handling of the above exception, another exception occurred:\n",
      "\n",
      "Traceback (most recent call last):\n",
      "  File \"D:\\Anaconda\\envs\\GDAL\\lib\\site-packages\\requests\\adapters.py\", line 449, in send\n",
      "    timeout=timeout\n",
      "  File \"D:\\Anaconda\\envs\\GDAL\\lib\\site-packages\\urllib3\\connectionpool.py\", line 756, in urlopen\n",
      "    method, url, error=e, _pool=self, _stacktrace=sys.exc_info()[2]\n",
      "  File \"D:\\Anaconda\\envs\\GDAL\\lib\\site-packages\\urllib3\\util\\retry.py\", line 532, in increment\n",
      "    raise six.reraise(type(error), error, _stacktrace)\n",
      "  File \"D:\\Anaconda\\envs\\GDAL\\lib\\site-packages\\urllib3\\packages\\six.py\", line 769, in reraise\n",
      "    raise value.with_traceback(tb)\n",
      "  File \"D:\\Anaconda\\envs\\GDAL\\lib\\site-packages\\urllib3\\connectionpool.py\", line 706, in urlopen\n",
      "    chunked=chunked,\n",
      "  File \"D:\\Anaconda\\envs\\GDAL\\lib\\site-packages\\urllib3\\connectionpool.py\", line 445, in _make_request\n",
      "    six.raise_from(e, None)\n",
      "  File \"<string>\", line 3, in raise_from\n",
      "  File \"D:\\Anaconda\\envs\\GDAL\\lib\\site-packages\\urllib3\\connectionpool.py\", line 440, in _make_request\n",
      "    httplib_response = conn.getresponse()\n",
      "  File \"D:\\Anaconda\\envs\\GDAL\\lib\\http\\client.py\", line 1379, in getresponse\n",
      "    response.begin()\n",
      "  File \"D:\\Anaconda\\envs\\GDAL\\lib\\http\\client.py\", line 311, in begin\n",
      "    version, status, reason = self._read_status()\n",
      "  File \"D:\\Anaconda\\envs\\GDAL\\lib\\http\\client.py\", line 272, in _read_status\n",
      "    line = str(self.fp.readline(_MAXLINE + 1), \"iso-8859-1\")\n",
      "  File \"D:\\Anaconda\\envs\\GDAL\\lib\\socket.py\", line 586, in readinto\n",
      "    return self._sock.recv_into(b)\n",
      "  File \"D:\\Anaconda\\envs\\GDAL\\lib\\ssl.py\", line 1012, in recv_into\n",
      "    return self.read(nbytes, buffer)\n",
      "  File \"D:\\Anaconda\\envs\\GDAL\\lib\\ssl.py\", line 874, in read\n",
      "    return self._sslobj.read(len, buffer)\n",
      "  File \"D:\\Anaconda\\envs\\GDAL\\lib\\ssl.py\", line 631, in read\n",
      "    v = self._sslobj.read(len, buffer)\n",
      "urllib3.exceptions.ProtocolError: ('Connection aborted.', TimeoutError(10060, 'Une tentative de connexion a échoué car le parti connecté n’a pas répondu convenablement au-delà d’une certaine durée ou une connexion établie a échoué car l’hôte de connexion n’a pas répondu', None, 10060, None))\n",
      "\n",
      "During handling of the above exception, another exception occurred:\n",
      "\n",
      "Traceback (most recent call last):\n",
      "  File \"D:\\Anaconda\\envs\\GDAL\\lib\\concurrent\\futures\\thread.py\", line 56, in run\n",
      "    result = self.fn(*self.args, **self.kwargs)\n",
      "  File \"D:\\Anaconda\\envs\\GDAL\\lib\\site-packages\\sentinelsat\\download.py\", line 625, in _trigger_and_wait\n",
      "    if self.api.is_online(uuid):\n",
      "  File \"D:\\Anaconda\\envs\\GDAL\\lib\\site-packages\\sentinelsat\\sentinel.py\", line 541, in is_online\n",
      "    r = self.session.get(url)\n",
      "  File \"D:\\Anaconda\\envs\\GDAL\\lib\\site-packages\\requests\\sessions.py\", line 555, in get\n",
      "    return self.request('GET', url, **kwargs)\n",
      "  File \"D:\\Anaconda\\envs\\GDAL\\lib\\site-packages\\requests\\sessions.py\", line 542, in request\n",
      "    resp = self.send(prep, **send_kwargs)\n",
      "  File \"D:\\Anaconda\\envs\\GDAL\\lib\\site-packages\\requests\\sessions.py\", line 655, in send\n",
      "    r = adapter.send(request, **kwargs)\n",
      "  File \"D:\\Anaconda\\envs\\GDAL\\lib\\site-packages\\requests\\adapters.py\", line 498, in send\n",
      "    raise ConnectionError(err, request=request)\n",
      "requests.exceptions.ConnectionError: ('Connection aborted.', TimeoutError(10060, 'Une tentative de connexion a échoué car le parti connecté n’a pas répondu convenablement au-delà d’une certaine durée ou une connexion établie a échoué car l’hôte de connexion n’a pas répondu', None, 10060, None))\n",
      "\n"
     ]
    },
    {
     "data": {
      "application/vnd.jupyter.widget-view+json": {
       "model_id": "",
       "version_major": 2,
       "version_minor": 0
      },
      "text/plain": [
       "MD5 checksumming:   0%|          | 0.00/27.4M [00:00<?, ?B/s]"
      ]
     },
     "metadata": {},
     "output_type": "display_data"
    },
    {
     "name": "stderr",
     "output_type": "stream",
     "text": [
      "911bcc2e-8fb3-41ff-bcf7-0d8c3393b576 failed: Traceback (most recent call last):\n",
      "  File \"D:\\Anaconda\\envs\\GDAL\\lib\\site-packages\\urllib3\\connectionpool.py\", line 706, in urlopen\n",
      "    chunked=chunked,\n",
      "  File \"D:\\Anaconda\\envs\\GDAL\\lib\\site-packages\\urllib3\\connectionpool.py\", line 445, in _make_request\n",
      "    six.raise_from(e, None)\n",
      "  File \"<string>\", line 3, in raise_from\n",
      "  File \"D:\\Anaconda\\envs\\GDAL\\lib\\site-packages\\urllib3\\connectionpool.py\", line 440, in _make_request\n",
      "    httplib_response = conn.getresponse()\n",
      "  File \"D:\\Anaconda\\envs\\GDAL\\lib\\http\\client.py\", line 1379, in getresponse\n",
      "    response.begin()\n",
      "  File \"D:\\Anaconda\\envs\\GDAL\\lib\\http\\client.py\", line 311, in begin\n",
      "    version, status, reason = self._read_status()\n",
      "  File \"D:\\Anaconda\\envs\\GDAL\\lib\\http\\client.py\", line 272, in _read_status\n",
      "    line = str(self.fp.readline(_MAXLINE + 1), \"iso-8859-1\")\n",
      "  File \"D:\\Anaconda\\envs\\GDAL\\lib\\socket.py\", line 586, in readinto\n",
      "    return self._sock.recv_into(b)\n",
      "  File \"D:\\Anaconda\\envs\\GDAL\\lib\\ssl.py\", line 1012, in recv_into\n",
      "    return self.read(nbytes, buffer)\n",
      "  File \"D:\\Anaconda\\envs\\GDAL\\lib\\ssl.py\", line 874, in read\n",
      "    return self._sslobj.read(len, buffer)\n",
      "  File \"D:\\Anaconda\\envs\\GDAL\\lib\\ssl.py\", line 631, in read\n",
      "    v = self._sslobj.read(len, buffer)\n",
      "TimeoutError: [WinError 10060] Une tentative de connexion a échoué car le parti connecté n’a pas répondu convenablement au-delà d’une certaine durée ou une connexion établie a échoué car l’hôte de connexion n’a pas répondu\n",
      "\n",
      "During handling of the above exception, another exception occurred:\n",
      "\n",
      "Traceback (most recent call last):\n",
      "  File \"D:\\Anaconda\\envs\\GDAL\\lib\\site-packages\\requests\\adapters.py\", line 449, in send\n",
      "    timeout=timeout\n",
      "  File \"D:\\Anaconda\\envs\\GDAL\\lib\\site-packages\\urllib3\\connectionpool.py\", line 756, in urlopen\n",
      "    method, url, error=e, _pool=self, _stacktrace=sys.exc_info()[2]\n",
      "  File \"D:\\Anaconda\\envs\\GDAL\\lib\\site-packages\\urllib3\\util\\retry.py\", line 532, in increment\n",
      "    raise six.reraise(type(error), error, _stacktrace)\n",
      "  File \"D:\\Anaconda\\envs\\GDAL\\lib\\site-packages\\urllib3\\packages\\six.py\", line 769, in reraise\n",
      "    raise value.with_traceback(tb)\n",
      "  File \"D:\\Anaconda\\envs\\GDAL\\lib\\site-packages\\urllib3\\connectionpool.py\", line 706, in urlopen\n",
      "    chunked=chunked,\n",
      "  File \"D:\\Anaconda\\envs\\GDAL\\lib\\site-packages\\urllib3\\connectionpool.py\", line 445, in _make_request\n",
      "    six.raise_from(e, None)\n",
      "  File \"<string>\", line 3, in raise_from\n",
      "  File \"D:\\Anaconda\\envs\\GDAL\\lib\\site-packages\\urllib3\\connectionpool.py\", line 440, in _make_request\n",
      "    httplib_response = conn.getresponse()\n",
      "  File \"D:\\Anaconda\\envs\\GDAL\\lib\\http\\client.py\", line 1379, in getresponse\n",
      "    response.begin()\n",
      "  File \"D:\\Anaconda\\envs\\GDAL\\lib\\http\\client.py\", line 311, in begin\n",
      "    version, status, reason = self._read_status()\n",
      "  File \"D:\\Anaconda\\envs\\GDAL\\lib\\http\\client.py\", line 272, in _read_status\n",
      "    line = str(self.fp.readline(_MAXLINE + 1), \"iso-8859-1\")\n",
      "  File \"D:\\Anaconda\\envs\\GDAL\\lib\\socket.py\", line 586, in readinto\n",
      "    return self._sock.recv_into(b)\n",
      "  File \"D:\\Anaconda\\envs\\GDAL\\lib\\ssl.py\", line 1012, in recv_into\n",
      "    return self.read(nbytes, buffer)\n",
      "  File \"D:\\Anaconda\\envs\\GDAL\\lib\\ssl.py\", line 874, in read\n",
      "    return self._sslobj.read(len, buffer)\n",
      "  File \"D:\\Anaconda\\envs\\GDAL\\lib\\ssl.py\", line 631, in read\n",
      "    v = self._sslobj.read(len, buffer)\n",
      "urllib3.exceptions.ProtocolError: ('Connection aborted.', TimeoutError(10060, 'Une tentative de connexion a échoué car le parti connecté n’a pas répondu convenablement au-delà d’une certaine durée ou une connexion établie a échoué car l’hôte de connexion n’a pas répondu', None, 10060, None))\n",
      "\n",
      "During handling of the above exception, another exception occurred:\n",
      "\n",
      "Traceback (most recent call last):\n",
      "  File \"D:\\Anaconda\\envs\\GDAL\\lib\\concurrent\\futures\\thread.py\", line 56, in run\n",
      "    result = self.fn(*self.args, **self.kwargs)\n",
      "  File \"D:\\Anaconda\\envs\\GDAL\\lib\\site-packages\\sentinelsat\\download.py\", line 625, in _trigger_and_wait\n",
      "    if self.api.is_online(uuid):\n",
      "  File \"D:\\Anaconda\\envs\\GDAL\\lib\\site-packages\\sentinelsat\\sentinel.py\", line 541, in is_online\n",
      "    r = self.session.get(url)\n",
      "  File \"D:\\Anaconda\\envs\\GDAL\\lib\\site-packages\\requests\\sessions.py\", line 555, in get\n",
      "    return self.request('GET', url, **kwargs)\n",
      "  File \"D:\\Anaconda\\envs\\GDAL\\lib\\site-packages\\requests\\sessions.py\", line 542, in request\n",
      "    resp = self.send(prep, **send_kwargs)\n",
      "  File \"D:\\Anaconda\\envs\\GDAL\\lib\\site-packages\\requests\\sessions.py\", line 655, in send\n",
      "    r = adapter.send(request, **kwargs)\n",
      "  File \"D:\\Anaconda\\envs\\GDAL\\lib\\site-packages\\requests\\adapters.py\", line 498, in send\n",
      "    raise ConnectionError(err, request=request)\n",
      "requests.exceptions.ConnectionError: ('Connection aborted.', TimeoutError(10060, 'Une tentative de connexion a échoué car le parti connecté n’a pas répondu convenablement au-delà d’une certaine durée ou une connexion établie a échoué car l’hôte de connexion n’a pas répondu', None, 10060, None))\n",
      "\n"
     ]
    },
    {
     "data": {
      "application/vnd.jupyter.widget-view+json": {
       "model_id": "",
       "version_major": 2,
       "version_minor": 0
      },
      "text/plain": [
       "MD5 checksumming:   0%|          | 0.00/312M [00:00<?, ?B/s]"
      ]
     },
     "metadata": {},
     "output_type": "display_data"
    },
    {
     "data": {
      "application/vnd.jupyter.widget-view+json": {
       "model_id": "114d7a886de542e1bbcf060da1fd0682",
       "version_major": 2,
       "version_minor": 0
      },
      "text/plain": [
       "Downloading S2B_MSIL1C_20200710T050229_N0209_R133_T42FWM_20200710T075851.zip:   0%|          | 0.00/28.8M [00:…"
      ]
     },
     "metadata": {},
     "output_type": "display_data"
    },
    {
     "data": {
      "application/vnd.jupyter.widget-view+json": {
       "model_id": "99bfe19c0e1849f7b4b572df2db33395",
       "version_major": 2,
       "version_minor": 0
      },
      "text/plain": [
       "Downloading S2A_MSIL1C_20200107T050221_N0208_R133_T42FWM_20200107T072755.zip:   0%|          | 0.00/19.3M [00:…"
      ]
     },
     "metadata": {},
     "output_type": "display_data"
    },
    {
     "data": {
      "application/vnd.jupyter.widget-view+json": {
       "model_id": "90f345f2c53145b0a9b72dc7738dc933",
       "version_major": 2,
       "version_minor": 0
      },
      "text/plain": [
       "Downloading S2B_MSIL1C_20200318T052219_N0209_R076_T42FVK_20200318T082933.zip:   0%|          | 0.00/211M [00:0…"
      ]
     },
     "metadata": {},
     "output_type": "display_data"
    },
    {
     "data": {
      "application/vnd.jupyter.widget-view+json": {
       "model_id": "46b27b01753446eb8b4bb614d9db91f5",
       "version_major": 2,
       "version_minor": 0
      },
      "text/plain": [
       "Downloading S2B_MSIL1C_20200102T050229_N0208_R133_T42FWM_20200102T072107.zip:   0%|          | 0.00/25.8M [00:…"
      ]
     },
     "metadata": {},
     "output_type": "display_data"
    },
    {
     "data": {
      "application/vnd.jupyter.widget-view+json": {
       "model_id": "",
       "version_major": 2,
       "version_minor": 0
      },
      "text/plain": [
       "MD5 checksumming:   0%|          | 0.00/19.3M [00:00<?, ?B/s]"
      ]
     },
     "metadata": {},
     "output_type": "display_data"
    },
    {
     "data": {
      "application/vnd.jupyter.widget-view+json": {
       "model_id": "",
       "version_major": 2,
       "version_minor": 0
      },
      "text/plain": [
       "MD5 checksumming:   0%|          | 0.00/25.8M [00:00<?, ?B/s]"
      ]
     },
     "metadata": {},
     "output_type": "display_data"
    },
    {
     "data": {
      "application/vnd.jupyter.widget-view+json": {
       "model_id": "",
       "version_major": 2,
       "version_minor": 0
      },
      "text/plain": [
       "MD5 checksumming:   0%|          | 0.00/28.8M [00:00<?, ?B/s]"
      ]
     },
     "metadata": {},
     "output_type": "display_data"
    },
    {
     "data": {
      "application/vnd.jupyter.widget-view+json": {
       "model_id": "",
       "version_major": 2,
       "version_minor": 0
      },
      "text/plain": [
       "MD5 checksumming:   0%|          | 0.00/211M [00:00<?, ?B/s]"
      ]
     },
     "metadata": {},
     "output_type": "display_data"
    },
    {
     "name": "stderr",
     "output_type": "stream",
     "text": [
      "b94e118b-33b1-4b0c-93ec-97a8efcce907 failed: Traceback (most recent call last):\n",
      "  File \"D:\\Anaconda\\envs\\GDAL\\lib\\site-packages\\urllib3\\connectionpool.py\", line 706, in urlopen\n",
      "    chunked=chunked,\n",
      "  File \"D:\\Anaconda\\envs\\GDAL\\lib\\site-packages\\urllib3\\connectionpool.py\", line 445, in _make_request\n",
      "    six.raise_from(e, None)\n",
      "  File \"<string>\", line 3, in raise_from\n",
      "  File \"D:\\Anaconda\\envs\\GDAL\\lib\\site-packages\\urllib3\\connectionpool.py\", line 440, in _make_request\n",
      "    httplib_response = conn.getresponse()\n",
      "  File \"D:\\Anaconda\\envs\\GDAL\\lib\\http\\client.py\", line 1379, in getresponse\n",
      "    response.begin()\n",
      "  File \"D:\\Anaconda\\envs\\GDAL\\lib\\http\\client.py\", line 311, in begin\n",
      "    version, status, reason = self._read_status()\n",
      "  File \"D:\\Anaconda\\envs\\GDAL\\lib\\http\\client.py\", line 272, in _read_status\n",
      "    line = str(self.fp.readline(_MAXLINE + 1), \"iso-8859-1\")\n",
      "  File \"D:\\Anaconda\\envs\\GDAL\\lib\\socket.py\", line 586, in readinto\n",
      "    return self._sock.recv_into(b)\n",
      "  File \"D:\\Anaconda\\envs\\GDAL\\lib\\ssl.py\", line 1012, in recv_into\n",
      "    return self.read(nbytes, buffer)\n",
      "  File \"D:\\Anaconda\\envs\\GDAL\\lib\\ssl.py\", line 874, in read\n",
      "    return self._sslobj.read(len, buffer)\n",
      "  File \"D:\\Anaconda\\envs\\GDAL\\lib\\ssl.py\", line 631, in read\n",
      "    v = self._sslobj.read(len, buffer)\n",
      "TimeoutError: [WinError 10060] Une tentative de connexion a échoué car le parti connecté n’a pas répondu convenablement au-delà d’une certaine durée ou une connexion établie a échoué car l’hôte de connexion n’a pas répondu\n",
      "\n",
      "During handling of the above exception, another exception occurred:\n",
      "\n",
      "Traceback (most recent call last):\n",
      "  File \"D:\\Anaconda\\envs\\GDAL\\lib\\site-packages\\requests\\adapters.py\", line 449, in send\n",
      "    timeout=timeout\n",
      "  File \"D:\\Anaconda\\envs\\GDAL\\lib\\site-packages\\urllib3\\connectionpool.py\", line 756, in urlopen\n",
      "    method, url, error=e, _pool=self, _stacktrace=sys.exc_info()[2]\n",
      "  File \"D:\\Anaconda\\envs\\GDAL\\lib\\site-packages\\urllib3\\util\\retry.py\", line 532, in increment\n",
      "    raise six.reraise(type(error), error, _stacktrace)\n",
      "  File \"D:\\Anaconda\\envs\\GDAL\\lib\\site-packages\\urllib3\\packages\\six.py\", line 769, in reraise\n",
      "    raise value.with_traceback(tb)\n",
      "  File \"D:\\Anaconda\\envs\\GDAL\\lib\\site-packages\\urllib3\\connectionpool.py\", line 706, in urlopen\n",
      "    chunked=chunked,\n",
      "  File \"D:\\Anaconda\\envs\\GDAL\\lib\\site-packages\\urllib3\\connectionpool.py\", line 445, in _make_request\n",
      "    six.raise_from(e, None)\n",
      "  File \"<string>\", line 3, in raise_from\n",
      "  File \"D:\\Anaconda\\envs\\GDAL\\lib\\site-packages\\urllib3\\connectionpool.py\", line 440, in _make_request\n",
      "    httplib_response = conn.getresponse()\n",
      "  File \"D:\\Anaconda\\envs\\GDAL\\lib\\http\\client.py\", line 1379, in getresponse\n",
      "    response.begin()\n",
      "  File \"D:\\Anaconda\\envs\\GDAL\\lib\\http\\client.py\", line 311, in begin\n",
      "    version, status, reason = self._read_status()\n",
      "  File \"D:\\Anaconda\\envs\\GDAL\\lib\\http\\client.py\", line 272, in _read_status\n",
      "    line = str(self.fp.readline(_MAXLINE + 1), \"iso-8859-1\")\n",
      "  File \"D:\\Anaconda\\envs\\GDAL\\lib\\socket.py\", line 586, in readinto\n",
      "    return self._sock.recv_into(b)\n",
      "  File \"D:\\Anaconda\\envs\\GDAL\\lib\\ssl.py\", line 1012, in recv_into\n",
      "    return self.read(nbytes, buffer)\n",
      "  File \"D:\\Anaconda\\envs\\GDAL\\lib\\ssl.py\", line 874, in read\n",
      "    return self._sslobj.read(len, buffer)\n",
      "  File \"D:\\Anaconda\\envs\\GDAL\\lib\\ssl.py\", line 631, in read\n",
      "    v = self._sslobj.read(len, buffer)\n",
      "urllib3.exceptions.ProtocolError: ('Connection aborted.', TimeoutError(10060, 'Une tentative de connexion a échoué car le parti connecté n’a pas répondu convenablement au-delà d’une certaine durée ou une connexion établie a échoué car l’hôte de connexion n’a pas répondu', None, 10060, None))\n",
      "\n",
      "During handling of the above exception, another exception occurred:\n",
      "\n",
      "Traceback (most recent call last):\n",
      "  File \"D:\\Anaconda\\envs\\GDAL\\lib\\concurrent\\futures\\thread.py\", line 56, in run\n",
      "    result = self.fn(*self.args, **self.kwargs)\n",
      "  File \"D:\\Anaconda\\envs\\GDAL\\lib\\site-packages\\sentinelsat\\download.py\", line 625, in _trigger_and_wait\n",
      "    if self.api.is_online(uuid):\n",
      "  File \"D:\\Anaconda\\envs\\GDAL\\lib\\site-packages\\sentinelsat\\sentinel.py\", line 541, in is_online\n",
      "    r = self.session.get(url)\n",
      "  File \"D:\\Anaconda\\envs\\GDAL\\lib\\site-packages\\requests\\sessions.py\", line 555, in get\n",
      "    return self.request('GET', url, **kwargs)\n",
      "  File \"D:\\Anaconda\\envs\\GDAL\\lib\\site-packages\\requests\\sessions.py\", line 542, in request\n",
      "    resp = self.send(prep, **send_kwargs)\n",
      "  File \"D:\\Anaconda\\envs\\GDAL\\lib\\site-packages\\requests\\sessions.py\", line 655, in send\n",
      "    r = adapter.send(request, **kwargs)\n",
      "  File \"D:\\Anaconda\\envs\\GDAL\\lib\\site-packages\\requests\\adapters.py\", line 498, in send\n",
      "    raise ConnectionError(err, request=request)\n",
      "requests.exceptions.ConnectionError: ('Connection aborted.', TimeoutError(10060, 'Une tentative de connexion a échoué car le parti connecté n’a pas répondu convenablement au-delà d’une certaine durée ou une connexion établie a échoué car l’hôte de connexion n’a pas répondu', None, 10060, None))\n",
      "\n",
      "b94e118b-33b1-4b0c-93ec-97a8efcce907 failed: Traceback (most recent call last):\n",
      "  File \"D:\\Anaconda\\envs\\GDAL\\lib\\site-packages\\urllib3\\connectionpool.py\", line 706, in urlopen\n",
      "    chunked=chunked,\n",
      "  File \"D:\\Anaconda\\envs\\GDAL\\lib\\site-packages\\urllib3\\connectionpool.py\", line 445, in _make_request\n",
      "    six.raise_from(e, None)\n",
      "  File \"<string>\", line 3, in raise_from\n",
      "  File \"D:\\Anaconda\\envs\\GDAL\\lib\\site-packages\\urllib3\\connectionpool.py\", line 440, in _make_request\n",
      "    httplib_response = conn.getresponse()\n",
      "  File \"D:\\Anaconda\\envs\\GDAL\\lib\\http\\client.py\", line 1379, in getresponse\n",
      "    response.begin()\n",
      "  File \"D:\\Anaconda\\envs\\GDAL\\lib\\http\\client.py\", line 311, in begin\n",
      "    version, status, reason = self._read_status()\n",
      "  File \"D:\\Anaconda\\envs\\GDAL\\lib\\http\\client.py\", line 272, in _read_status\n",
      "    line = str(self.fp.readline(_MAXLINE + 1), \"iso-8859-1\")\n",
      "  File \"D:\\Anaconda\\envs\\GDAL\\lib\\socket.py\", line 586, in readinto\n",
      "    return self._sock.recv_into(b)\n",
      "  File \"D:\\Anaconda\\envs\\GDAL\\lib\\ssl.py\", line 1012, in recv_into\n",
      "    return self.read(nbytes, buffer)\n",
      "  File \"D:\\Anaconda\\envs\\GDAL\\lib\\ssl.py\", line 874, in read\n",
      "    return self._sslobj.read(len, buffer)\n",
      "  File \"D:\\Anaconda\\envs\\GDAL\\lib\\ssl.py\", line 631, in read\n",
      "    v = self._sslobj.read(len, buffer)\n",
      "TimeoutError: [WinError 10060] Une tentative de connexion a échoué car le parti connecté n’a pas répondu convenablement au-delà d’une certaine durée ou une connexion établie a échoué car l’hôte de connexion n’a pas répondu\n",
      "\n",
      "During handling of the above exception, another exception occurred:\n",
      "\n",
      "Traceback (most recent call last):\n",
      "  File \"D:\\Anaconda\\envs\\GDAL\\lib\\site-packages\\requests\\adapters.py\", line 449, in send\n",
      "    timeout=timeout\n",
      "  File \"D:\\Anaconda\\envs\\GDAL\\lib\\site-packages\\urllib3\\connectionpool.py\", line 756, in urlopen\n",
      "    method, url, error=e, _pool=self, _stacktrace=sys.exc_info()[2]\n",
      "  File \"D:\\Anaconda\\envs\\GDAL\\lib\\site-packages\\urllib3\\util\\retry.py\", line 532, in increment\n",
      "    raise six.reraise(type(error), error, _stacktrace)\n",
      "  File \"D:\\Anaconda\\envs\\GDAL\\lib\\site-packages\\urllib3\\packages\\six.py\", line 769, in reraise\n",
      "    raise value.with_traceback(tb)\n",
      "  File \"D:\\Anaconda\\envs\\GDAL\\lib\\site-packages\\urllib3\\connectionpool.py\", line 706, in urlopen\n",
      "    chunked=chunked,\n",
      "  File \"D:\\Anaconda\\envs\\GDAL\\lib\\site-packages\\urllib3\\connectionpool.py\", line 445, in _make_request\n",
      "    six.raise_from(e, None)\n",
      "  File \"<string>\", line 3, in raise_from\n",
      "  File \"D:\\Anaconda\\envs\\GDAL\\lib\\site-packages\\urllib3\\connectionpool.py\", line 440, in _make_request\n",
      "    httplib_response = conn.getresponse()\n",
      "  File \"D:\\Anaconda\\envs\\GDAL\\lib\\http\\client.py\", line 1379, in getresponse\n",
      "    response.begin()\n",
      "  File \"D:\\Anaconda\\envs\\GDAL\\lib\\http\\client.py\", line 311, in begin\n",
      "    version, status, reason = self._read_status()\n",
      "  File \"D:\\Anaconda\\envs\\GDAL\\lib\\http\\client.py\", line 272, in _read_status\n",
      "    line = str(self.fp.readline(_MAXLINE + 1), \"iso-8859-1\")\n",
      "  File \"D:\\Anaconda\\envs\\GDAL\\lib\\socket.py\", line 586, in readinto\n",
      "    return self._sock.recv_into(b)\n",
      "  File \"D:\\Anaconda\\envs\\GDAL\\lib\\ssl.py\", line 1012, in recv_into\n",
      "    return self.read(nbytes, buffer)\n",
      "  File \"D:\\Anaconda\\envs\\GDAL\\lib\\ssl.py\", line 874, in read\n",
      "    return self._sslobj.read(len, buffer)\n",
      "  File \"D:\\Anaconda\\envs\\GDAL\\lib\\ssl.py\", line 631, in read\n",
      "    v = self._sslobj.read(len, buffer)\n",
      "urllib3.exceptions.ProtocolError: ('Connection aborted.', TimeoutError(10060, 'Une tentative de connexion a échoué car le parti connecté n’a pas répondu convenablement au-delà d’une certaine durée ou une connexion établie a échoué car l’hôte de connexion n’a pas répondu', None, 10060, None))\n",
      "\n",
      "During handling of the above exception, another exception occurred:\n",
      "\n",
      "Traceback (most recent call last):\n",
      "  File \"D:\\Anaconda\\envs\\GDAL\\lib\\concurrent\\futures\\thread.py\", line 56, in run\n",
      "    result = self.fn(*self.args, **self.kwargs)\n",
      "  File \"D:\\Anaconda\\envs\\GDAL\\lib\\site-packages\\sentinelsat\\download.py\", line 625, in _trigger_and_wait\n",
      "    if self.api.is_online(uuid):\n",
      "  File \"D:\\Anaconda\\envs\\GDAL\\lib\\site-packages\\sentinelsat\\sentinel.py\", line 541, in is_online\n",
      "    r = self.session.get(url)\n",
      "  File \"D:\\Anaconda\\envs\\GDAL\\lib\\site-packages\\requests\\sessions.py\", line 555, in get\n",
      "    return self.request('GET', url, **kwargs)\n",
      "  File \"D:\\Anaconda\\envs\\GDAL\\lib\\site-packages\\requests\\sessions.py\", line 542, in request\n",
      "    resp = self.send(prep, **send_kwargs)\n",
      "  File \"D:\\Anaconda\\envs\\GDAL\\lib\\site-packages\\requests\\sessions.py\", line 655, in send\n",
      "    r = adapter.send(request, **kwargs)\n",
      "  File \"D:\\Anaconda\\envs\\GDAL\\lib\\site-packages\\requests\\adapters.py\", line 498, in send\n",
      "    raise ConnectionError(err, request=request)\n",
      "requests.exceptions.ConnectionError: ('Connection aborted.', TimeoutError(10060, 'Une tentative de connexion a échoué car le parti connecté n’a pas répondu convenablement au-delà d’une certaine durée ou une connexion établie a échoué car l’hôte de connexion n’a pas répondu', None, 10060, None))\n",
      "\n"
     ]
    },
    {
     "name": "stderr",
     "output_type": "stream",
     "text": [
      "2345a205-ea65-44fe-a92b-fc8859332619 failed: Traceback (most recent call last):\n",
      "  File \"D:\\Anaconda\\envs\\GDAL\\lib\\site-packages\\urllib3\\connectionpool.py\", line 706, in urlopen\n",
      "    chunked=chunked,\n",
      "  File \"D:\\Anaconda\\envs\\GDAL\\lib\\site-packages\\urllib3\\connectionpool.py\", line 445, in _make_request\n",
      "    six.raise_from(e, None)\n",
      "  File \"<string>\", line 3, in raise_from\n",
      "  File \"D:\\Anaconda\\envs\\GDAL\\lib\\site-packages\\urllib3\\connectionpool.py\", line 440, in _make_request\n",
      "    httplib_response = conn.getresponse()\n",
      "  File \"D:\\Anaconda\\envs\\GDAL\\lib\\http\\client.py\", line 1379, in getresponse\n",
      "    response.begin()\n",
      "  File \"D:\\Anaconda\\envs\\GDAL\\lib\\http\\client.py\", line 311, in begin\n",
      "    version, status, reason = self._read_status()\n",
      "  File \"D:\\Anaconda\\envs\\GDAL\\lib\\http\\client.py\", line 272, in _read_status\n",
      "    line = str(self.fp.readline(_MAXLINE + 1), \"iso-8859-1\")\n",
      "  File \"D:\\Anaconda\\envs\\GDAL\\lib\\socket.py\", line 586, in readinto\n",
      "    return self._sock.recv_into(b)\n",
      "  File \"D:\\Anaconda\\envs\\GDAL\\lib\\ssl.py\", line 1012, in recv_into\n",
      "    return self.read(nbytes, buffer)\n",
      "  File \"D:\\Anaconda\\envs\\GDAL\\lib\\ssl.py\", line 874, in read\n",
      "    return self._sslobj.read(len, buffer)\n",
      "  File \"D:\\Anaconda\\envs\\GDAL\\lib\\ssl.py\", line 631, in read\n",
      "    v = self._sslobj.read(len, buffer)\n",
      "TimeoutError: [WinError 10060] Une tentative de connexion a échoué car le parti connecté n’a pas répondu convenablement au-delà d’une certaine durée ou une connexion établie a échoué car l’hôte de connexion n’a pas répondu\n",
      "\n",
      "During handling of the above exception, another exception occurred:\n",
      "\n",
      "Traceback (most recent call last):\n",
      "  File \"D:\\Anaconda\\envs\\GDAL\\lib\\site-packages\\requests\\adapters.py\", line 449, in send\n",
      "    timeout=timeout\n",
      "  File \"D:\\Anaconda\\envs\\GDAL\\lib\\site-packages\\urllib3\\connectionpool.py\", line 756, in urlopen\n",
      "    method, url, error=e, _pool=self, _stacktrace=sys.exc_info()[2]\n",
      "  File \"D:\\Anaconda\\envs\\GDAL\\lib\\site-packages\\urllib3\\util\\retry.py\", line 532, in increment\n",
      "    raise six.reraise(type(error), error, _stacktrace)\n",
      "  File \"D:\\Anaconda\\envs\\GDAL\\lib\\site-packages\\urllib3\\packages\\six.py\", line 769, in reraise\n",
      "    raise value.with_traceback(tb)\n",
      "  File \"D:\\Anaconda\\envs\\GDAL\\lib\\site-packages\\urllib3\\connectionpool.py\", line 706, in urlopen\n",
      "    chunked=chunked,\n",
      "  File \"D:\\Anaconda\\envs\\GDAL\\lib\\site-packages\\urllib3\\connectionpool.py\", line 445, in _make_request\n",
      "    six.raise_from(e, None)\n",
      "  File \"<string>\", line 3, in raise_from\n",
      "  File \"D:\\Anaconda\\envs\\GDAL\\lib\\site-packages\\urllib3\\connectionpool.py\", line 440, in _make_request\n",
      "    httplib_response = conn.getresponse()\n",
      "  File \"D:\\Anaconda\\envs\\GDAL\\lib\\http\\client.py\", line 1379, in getresponse\n",
      "    response.begin()\n",
      "  File \"D:\\Anaconda\\envs\\GDAL\\lib\\http\\client.py\", line 311, in begin\n",
      "    version, status, reason = self._read_status()\n",
      "  File \"D:\\Anaconda\\envs\\GDAL\\lib\\http\\client.py\", line 272, in _read_status\n",
      "    line = str(self.fp.readline(_MAXLINE + 1), \"iso-8859-1\")\n",
      "  File \"D:\\Anaconda\\envs\\GDAL\\lib\\socket.py\", line 586, in readinto\n",
      "    return self._sock.recv_into(b)\n",
      "  File \"D:\\Anaconda\\envs\\GDAL\\lib\\ssl.py\", line 1012, in recv_into\n",
      "    return self.read(nbytes, buffer)\n",
      "  File \"D:\\Anaconda\\envs\\GDAL\\lib\\ssl.py\", line 874, in read\n",
      "    return self._sslobj.read(len, buffer)\n",
      "  File \"D:\\Anaconda\\envs\\GDAL\\lib\\ssl.py\", line 631, in read\n",
      "    v = self._sslobj.read(len, buffer)\n",
      "urllib3.exceptions.ProtocolError: ('Connection aborted.', TimeoutError(10060, 'Une tentative de connexion a échoué car le parti connecté n’a pas répondu convenablement au-delà d’une certaine durée ou une connexion établie a échoué car l’hôte de connexion n’a pas répondu', None, 10060, None))\n",
      "\n",
      "During handling of the above exception, another exception occurred:\n",
      "\n",
      "Traceback (most recent call last):\n",
      "  File \"D:\\Anaconda\\envs\\GDAL\\lib\\concurrent\\futures\\thread.py\", line 56, in run\n",
      "    result = self.fn(*self.args, **self.kwargs)\n",
      "  File \"D:\\Anaconda\\envs\\GDAL\\lib\\site-packages\\sentinelsat\\download.py\", line 625, in _trigger_and_wait\n",
      "    if self.api.is_online(uuid):\n",
      "  File \"D:\\Anaconda\\envs\\GDAL\\lib\\site-packages\\sentinelsat\\sentinel.py\", line 541, in is_online\n",
      "    r = self.session.get(url)\n",
      "  File \"D:\\Anaconda\\envs\\GDAL\\lib\\site-packages\\requests\\sessions.py\", line 555, in get\n",
      "    return self.request('GET', url, **kwargs)\n",
      "  File \"D:\\Anaconda\\envs\\GDAL\\lib\\site-packages\\requests\\sessions.py\", line 542, in request\n",
      "    resp = self.send(prep, **send_kwargs)\n",
      "  File \"D:\\Anaconda\\envs\\GDAL\\lib\\site-packages\\requests\\sessions.py\", line 655, in send\n",
      "    r = adapter.send(request, **kwargs)\n",
      "  File \"D:\\Anaconda\\envs\\GDAL\\lib\\site-packages\\requests\\adapters.py\", line 498, in send\n",
      "    raise ConnectionError(err, request=request)\n",
      "requests.exceptions.ConnectionError: ('Connection aborted.', TimeoutError(10060, 'Une tentative de connexion a échoué car le parti connecté n’a pas répondu convenablement au-delà d’une certaine durée ou une connexion établie a échoué car l’hôte de connexion n’a pas répondu', None, 10060, None))\n",
      "\n",
      "c0a8fcec-07d1-471c-b934-3800c8ff74d1 failed: Traceback (most recent call last):\n",
      "  File \"D:\\Anaconda\\envs\\GDAL\\lib\\site-packages\\urllib3\\connectionpool.py\", line 706, in urlopen\n",
      "    chunked=chunked,\n",
      "  File \"D:\\Anaconda\\envs\\GDAL\\lib\\site-packages\\urllib3\\connectionpool.py\", line 445, in _make_request\n",
      "    six.raise_from(e, None)\n",
      "  File \"<string>\", line 3, in raise_from\n",
      "  File \"D:\\Anaconda\\envs\\GDAL\\lib\\site-packages\\urllib3\\connectionpool.py\", line 440, in _make_request\n",
      "    httplib_response = conn.getresponse()\n",
      "  File \"D:\\Anaconda\\envs\\GDAL\\lib\\http\\client.py\", line 1379, in getresponse\n",
      "    response.begin()\n",
      "  File \"D:\\Anaconda\\envs\\GDAL\\lib\\http\\client.py\", line 311, in begin\n",
      "    version, status, reason = self._read_status()\n",
      "  File \"D:\\Anaconda\\envs\\GDAL\\lib\\http\\client.py\", line 272, in _read_status\n",
      "    line = str(self.fp.readline(_MAXLINE + 1), \"iso-8859-1\")\n",
      "  File \"D:\\Anaconda\\envs\\GDAL\\lib\\socket.py\", line 586, in readinto\n",
      "    return self._sock.recv_into(b)\n",
      "  File \"D:\\Anaconda\\envs\\GDAL\\lib\\ssl.py\", line 1012, in recv_into\n",
      "    return self.read(nbytes, buffer)\n",
      "  File \"D:\\Anaconda\\envs\\GDAL\\lib\\ssl.py\", line 874, in read\n",
      "    return self._sslobj.read(len, buffer)\n",
      "  File \"D:\\Anaconda\\envs\\GDAL\\lib\\ssl.py\", line 631, in read\n",
      "    v = self._sslobj.read(len, buffer)\n",
      "TimeoutError: [WinError 10060] Une tentative de connexion a échoué car le parti connecté n’a pas répondu convenablement au-delà d’une certaine durée ou une connexion établie a échoué car l’hôte de connexion n’a pas répondu\n",
      "\n",
      "During handling of the above exception, another exception occurred:\n",
      "\n",
      "Traceback (most recent call last):\n",
      "  File \"D:\\Anaconda\\envs\\GDAL\\lib\\site-packages\\requests\\adapters.py\", line 449, in send\n",
      "    timeout=timeout\n",
      "  File \"D:\\Anaconda\\envs\\GDAL\\lib\\site-packages\\urllib3\\connectionpool.py\", line 756, in urlopen\n",
      "    method, url, error=e, _pool=self, _stacktrace=sys.exc_info()[2]\n",
      "  File \"D:\\Anaconda\\envs\\GDAL\\lib\\site-packages\\urllib3\\util\\retry.py\", line 532, in increment\n",
      "    raise six.reraise(type(error), error, _stacktrace)\n",
      "  File \"D:\\Anaconda\\envs\\GDAL\\lib\\site-packages\\urllib3\\packages\\six.py\", line 769, in reraise\n",
      "    raise value.with_traceback(tb)\n",
      "  File \"D:\\Anaconda\\envs\\GDAL\\lib\\site-packages\\urllib3\\connectionpool.py\", line 706, in urlopen\n",
      "    chunked=chunked,\n",
      "  File \"D:\\Anaconda\\envs\\GDAL\\lib\\site-packages\\urllib3\\connectionpool.py\", line 445, in _make_request\n",
      "    six.raise_from(e, None)\n",
      "  File \"<string>\", line 3, in raise_from\n",
      "  File \"D:\\Anaconda\\envs\\GDAL\\lib\\site-packages\\urllib3\\connectionpool.py\", line 440, in _make_request\n",
      "    httplib_response = conn.getresponse()\n",
      "  File \"D:\\Anaconda\\envs\\GDAL\\lib\\http\\client.py\", line 1379, in getresponse\n",
      "    response.begin()\n",
      "  File \"D:\\Anaconda\\envs\\GDAL\\lib\\http\\client.py\", line 311, in begin\n",
      "    version, status, reason = self._read_status()\n",
      "  File \"D:\\Anaconda\\envs\\GDAL\\lib\\http\\client.py\", line 272, in _read_status\n",
      "    line = str(self.fp.readline(_MAXLINE + 1), \"iso-8859-1\")\n",
      "  File \"D:\\Anaconda\\envs\\GDAL\\lib\\socket.py\", line 586, in readinto\n",
      "    return self._sock.recv_into(b)\n",
      "  File \"D:\\Anaconda\\envs\\GDAL\\lib\\ssl.py\", line 1012, in recv_into\n",
      "    return self.read(nbytes, buffer)\n",
      "  File \"D:\\Anaconda\\envs\\GDAL\\lib\\ssl.py\", line 874, in read\n",
      "    return self._sslobj.read(len, buffer)\n",
      "  File \"D:\\Anaconda\\envs\\GDAL\\lib\\ssl.py\", line 631, in read\n",
      "    v = self._sslobj.read(len, buffer)\n",
      "urllib3.exceptions.ProtocolError: ('Connection aborted.', TimeoutError(10060, 'Une tentative de connexion a échoué car le parti connecté n’a pas répondu convenablement au-delà d’une certaine durée ou une connexion établie a échoué car l’hôte de connexion n’a pas répondu', None, 10060, None))\n",
      "\n",
      "During handling of the above exception, another exception occurred:\n",
      "\n",
      "Traceback (most recent call last):\n",
      "  File \"D:\\Anaconda\\envs\\GDAL\\lib\\concurrent\\futures\\thread.py\", line 56, in run\n",
      "    result = self.fn(*self.args, **self.kwargs)\n",
      "  File \"D:\\Anaconda\\envs\\GDAL\\lib\\site-packages\\sentinelsat\\download.py\", line 625, in _trigger_and_wait\n",
      "    if self.api.is_online(uuid):\n",
      "  File \"D:\\Anaconda\\envs\\GDAL\\lib\\site-packages\\sentinelsat\\sentinel.py\", line 541, in is_online\n",
      "    r = self.session.get(url)\n",
      "  File \"D:\\Anaconda\\envs\\GDAL\\lib\\site-packages\\requests\\sessions.py\", line 555, in get\n",
      "    return self.request('GET', url, **kwargs)\n",
      "  File \"D:\\Anaconda\\envs\\GDAL\\lib\\site-packages\\requests\\sessions.py\", line 542, in request\n",
      "    resp = self.send(prep, **send_kwargs)\n",
      "  File \"D:\\Anaconda\\envs\\GDAL\\lib\\site-packages\\requests\\sessions.py\", line 655, in send\n",
      "    r = adapter.send(request, **kwargs)\n",
      "  File \"D:\\Anaconda\\envs\\GDAL\\lib\\site-packages\\requests\\adapters.py\", line 498, in send\n",
      "    raise ConnectionError(err, request=request)\n",
      "requests.exceptions.ConnectionError: ('Connection aborted.', TimeoutError(10060, 'Une tentative de connexion a échoué car le parti connecté n’a pas répondu convenablement au-delà d’une certaine durée ou une connexion établie a échoué car l’hôte de connexion n’a pas répondu', None, 10060, None))\n",
      "\n"
     ]
    },
    {
     "name": "stderr",
     "output_type": "stream",
     "text": [
      "c0a8fcec-07d1-471c-b934-3800c8ff74d1 failed: Traceback (most recent call last):\n",
      "  File \"D:\\Anaconda\\envs\\GDAL\\lib\\site-packages\\urllib3\\connectionpool.py\", line 706, in urlopen\n",
      "    chunked=chunked,\n",
      "  File \"D:\\Anaconda\\envs\\GDAL\\lib\\site-packages\\urllib3\\connectionpool.py\", line 445, in _make_request\n",
      "    six.raise_from(e, None)\n",
      "  File \"<string>\", line 3, in raise_from\n",
      "  File \"D:\\Anaconda\\envs\\GDAL\\lib\\site-packages\\urllib3\\connectionpool.py\", line 440, in _make_request\n",
      "    httplib_response = conn.getresponse()\n",
      "  File \"D:\\Anaconda\\envs\\GDAL\\lib\\http\\client.py\", line 1379, in getresponse\n",
      "    response.begin()\n",
      "  File \"D:\\Anaconda\\envs\\GDAL\\lib\\http\\client.py\", line 311, in begin\n",
      "    version, status, reason = self._read_status()\n",
      "  File \"D:\\Anaconda\\envs\\GDAL\\lib\\http\\client.py\", line 272, in _read_status\n",
      "    line = str(self.fp.readline(_MAXLINE + 1), \"iso-8859-1\")\n",
      "  File \"D:\\Anaconda\\envs\\GDAL\\lib\\socket.py\", line 586, in readinto\n",
      "    return self._sock.recv_into(b)\n",
      "  File \"D:\\Anaconda\\envs\\GDAL\\lib\\ssl.py\", line 1012, in recv_into\n",
      "    return self.read(nbytes, buffer)\n",
      "  File \"D:\\Anaconda\\envs\\GDAL\\lib\\ssl.py\", line 874, in read\n",
      "    return self._sslobj.read(len, buffer)\n",
      "  File \"D:\\Anaconda\\envs\\GDAL\\lib\\ssl.py\", line 631, in read\n",
      "    v = self._sslobj.read(len, buffer)\n",
      "TimeoutError: [WinError 10060] Une tentative de connexion a échoué car le parti connecté n’a pas répondu convenablement au-delà d’une certaine durée ou une connexion établie a échoué car l’hôte de connexion n’a pas répondu\n",
      "\n",
      "During handling of the above exception, another exception occurred:\n",
      "\n",
      "Traceback (most recent call last):\n",
      "  File \"D:\\Anaconda\\envs\\GDAL\\lib\\site-packages\\requests\\adapters.py\", line 449, in send\n",
      "    timeout=timeout\n",
      "  File \"D:\\Anaconda\\envs\\GDAL\\lib\\site-packages\\urllib3\\connectionpool.py\", line 756, in urlopen\n",
      "    method, url, error=e, _pool=self, _stacktrace=sys.exc_info()[2]\n",
      "  File \"D:\\Anaconda\\envs\\GDAL\\lib\\site-packages\\urllib3\\util\\retry.py\", line 532, in increment\n",
      "    raise six.reraise(type(error), error, _stacktrace)\n",
      "  File \"D:\\Anaconda\\envs\\GDAL\\lib\\site-packages\\urllib3\\packages\\six.py\", line 769, in reraise\n",
      "    raise value.with_traceback(tb)\n",
      "  File \"D:\\Anaconda\\envs\\GDAL\\lib\\site-packages\\urllib3\\connectionpool.py\", line 706, in urlopen\n",
      "    chunked=chunked,\n",
      "  File \"D:\\Anaconda\\envs\\GDAL\\lib\\site-packages\\urllib3\\connectionpool.py\", line 445, in _make_request\n",
      "    six.raise_from(e, None)\n",
      "  File \"<string>\", line 3, in raise_from\n",
      "  File \"D:\\Anaconda\\envs\\GDAL\\lib\\site-packages\\urllib3\\connectionpool.py\", line 440, in _make_request\n",
      "    httplib_response = conn.getresponse()\n",
      "  File \"D:\\Anaconda\\envs\\GDAL\\lib\\http\\client.py\", line 1379, in getresponse\n",
      "    response.begin()\n",
      "  File \"D:\\Anaconda\\envs\\GDAL\\lib\\http\\client.py\", line 311, in begin\n",
      "    version, status, reason = self._read_status()\n",
      "  File \"D:\\Anaconda\\envs\\GDAL\\lib\\http\\client.py\", line 272, in _read_status\n",
      "    line = str(self.fp.readline(_MAXLINE + 1), \"iso-8859-1\")\n",
      "  File \"D:\\Anaconda\\envs\\GDAL\\lib\\socket.py\", line 586, in readinto\n",
      "    return self._sock.recv_into(b)\n",
      "  File \"D:\\Anaconda\\envs\\GDAL\\lib\\ssl.py\", line 1012, in recv_into\n",
      "    return self.read(nbytes, buffer)\n",
      "  File \"D:\\Anaconda\\envs\\GDAL\\lib\\ssl.py\", line 874, in read\n",
      "    return self._sslobj.read(len, buffer)\n",
      "  File \"D:\\Anaconda\\envs\\GDAL\\lib\\ssl.py\", line 631, in read\n",
      "    v = self._sslobj.read(len, buffer)\n",
      "urllib3.exceptions.ProtocolError: ('Connection aborted.', TimeoutError(10060, 'Une tentative de connexion a échoué car le parti connecté n’a pas répondu convenablement au-delà d’une certaine durée ou une connexion établie a échoué car l’hôte de connexion n’a pas répondu', None, 10060, None))\n",
      "\n",
      "During handling of the above exception, another exception occurred:\n",
      "\n",
      "Traceback (most recent call last):\n",
      "  File \"D:\\Anaconda\\envs\\GDAL\\lib\\concurrent\\futures\\thread.py\", line 56, in run\n",
      "    result = self.fn(*self.args, **self.kwargs)\n",
      "  File \"D:\\Anaconda\\envs\\GDAL\\lib\\site-packages\\sentinelsat\\download.py\", line 625, in _trigger_and_wait\n",
      "    if self.api.is_online(uuid):\n",
      "  File \"D:\\Anaconda\\envs\\GDAL\\lib\\site-packages\\sentinelsat\\sentinel.py\", line 541, in is_online\n",
      "    r = self.session.get(url)\n",
      "  File \"D:\\Anaconda\\envs\\GDAL\\lib\\site-packages\\requests\\sessions.py\", line 555, in get\n",
      "    return self.request('GET', url, **kwargs)\n",
      "  File \"D:\\Anaconda\\envs\\GDAL\\lib\\site-packages\\requests\\sessions.py\", line 542, in request\n",
      "    resp = self.send(prep, **send_kwargs)\n",
      "  File \"D:\\Anaconda\\envs\\GDAL\\lib\\site-packages\\requests\\sessions.py\", line 655, in send\n",
      "    r = adapter.send(request, **kwargs)\n",
      "  File \"D:\\Anaconda\\envs\\GDAL\\lib\\site-packages\\requests\\adapters.py\", line 498, in send\n",
      "    raise ConnectionError(err, request=request)\n",
      "requests.exceptions.ConnectionError: ('Connection aborted.', TimeoutError(10060, 'Une tentative de connexion a échoué car le parti connecté n’a pas répondu convenablement au-delà d’une certaine durée ou une connexion établie a échoué car l’hôte de connexion n’a pas répondu', None, 10060, None))\n",
      "\n"
     ]
    },
    {
     "data": {
      "application/vnd.jupyter.widget-view+json": {
       "model_id": "d65bd11ad006416d92b5e41ba98d289b",
       "version_major": 2,
       "version_minor": 0
      },
      "text/plain": [
       "Downloading S2B_MSIL1C_20200911T051229_N0209_R033_T42FXL_20200911T063658.zip:   0%|          | 0.00/545M [00:0…"
      ]
     },
     "metadata": {},
     "output_type": "display_data"
    },
    {
     "data": {
      "application/vnd.jupyter.widget-view+json": {
       "model_id": "efac5331653c4b8ca7e26b8617aa3fc5",
       "version_major": 2,
       "version_minor": 0
      },
      "text/plain": [
       "Downloading S2B_MSIL1C_20201127T050229_N0209_R133_T42FWM_20201127T062228.zip:   0%|          | 0.00/25.1M [00:…"
      ]
     },
     "metadata": {},
     "output_type": "display_data"
    },
    {
     "data": {
      "application/vnd.jupyter.widget-view+json": {
       "model_id": "0346be4841ce47d8a35422a4f5026716",
       "version_major": 2,
       "version_minor": 0
      },
      "text/plain": [
       "Downloading S2B_MSIL1C_20200812T051229_N0209_R033_T42FVM_20200812T070852.zip:   0%|          | 0.00/468M [00:0…"
      ]
     },
     "metadata": {},
     "output_type": "display_data"
    },
    {
     "data": {
      "application/vnd.jupyter.widget-view+json": {
       "model_id": "",
       "version_major": 2,
       "version_minor": 0
      },
      "text/plain": [
       "MD5 checksumming:   0%|          | 0.00/25.1M [00:00<?, ?B/s]"
      ]
     },
     "metadata": {},
     "output_type": "display_data"
    },
    {
     "name": "stderr",
     "output_type": "stream",
     "text": [
      "2345a205-ea65-44fe-a92b-fc8859332619 failed: Traceback (most recent call last):\n",
      "  File \"D:\\Anaconda\\envs\\GDAL\\lib\\site-packages\\urllib3\\connectionpool.py\", line 706, in urlopen\n",
      "    chunked=chunked,\n",
      "  File \"D:\\Anaconda\\envs\\GDAL\\lib\\site-packages\\urllib3\\connectionpool.py\", line 445, in _make_request\n",
      "    six.raise_from(e, None)\n",
      "  File \"<string>\", line 3, in raise_from\n",
      "  File \"D:\\Anaconda\\envs\\GDAL\\lib\\site-packages\\urllib3\\connectionpool.py\", line 440, in _make_request\n",
      "    httplib_response = conn.getresponse()\n",
      "  File \"D:\\Anaconda\\envs\\GDAL\\lib\\http\\client.py\", line 1379, in getresponse\n",
      "    response.begin()\n",
      "  File \"D:\\Anaconda\\envs\\GDAL\\lib\\http\\client.py\", line 311, in begin\n",
      "    version, status, reason = self._read_status()\n",
      "  File \"D:\\Anaconda\\envs\\GDAL\\lib\\http\\client.py\", line 272, in _read_status\n",
      "    line = str(self.fp.readline(_MAXLINE + 1), \"iso-8859-1\")\n",
      "  File \"D:\\Anaconda\\envs\\GDAL\\lib\\socket.py\", line 586, in readinto\n",
      "    return self._sock.recv_into(b)\n",
      "  File \"D:\\Anaconda\\envs\\GDAL\\lib\\ssl.py\", line 1012, in recv_into\n",
      "    return self.read(nbytes, buffer)\n",
      "  File \"D:\\Anaconda\\envs\\GDAL\\lib\\ssl.py\", line 874, in read\n",
      "    return self._sslobj.read(len, buffer)\n",
      "  File \"D:\\Anaconda\\envs\\GDAL\\lib\\ssl.py\", line 631, in read\n",
      "    v = self._sslobj.read(len, buffer)\n",
      "TimeoutError: [WinError 10060] Une tentative de connexion a échoué car le parti connecté n’a pas répondu convenablement au-delà d’une certaine durée ou une connexion établie a échoué car l’hôte de connexion n’a pas répondu\n",
      "\n",
      "During handling of the above exception, another exception occurred:\n",
      "\n",
      "Traceback (most recent call last):\n",
      "  File \"D:\\Anaconda\\envs\\GDAL\\lib\\site-packages\\requests\\adapters.py\", line 449, in send\n",
      "    timeout=timeout\n",
      "  File \"D:\\Anaconda\\envs\\GDAL\\lib\\site-packages\\urllib3\\connectionpool.py\", line 756, in urlopen\n",
      "    method, url, error=e, _pool=self, _stacktrace=sys.exc_info()[2]\n",
      "  File \"D:\\Anaconda\\envs\\GDAL\\lib\\site-packages\\urllib3\\util\\retry.py\", line 532, in increment\n",
      "    raise six.reraise(type(error), error, _stacktrace)\n",
      "  File \"D:\\Anaconda\\envs\\GDAL\\lib\\site-packages\\urllib3\\packages\\six.py\", line 769, in reraise\n",
      "    raise value.with_traceback(tb)\n",
      "  File \"D:\\Anaconda\\envs\\GDAL\\lib\\site-packages\\urllib3\\connectionpool.py\", line 706, in urlopen\n",
      "    chunked=chunked,\n",
      "  File \"D:\\Anaconda\\envs\\GDAL\\lib\\site-packages\\urllib3\\connectionpool.py\", line 445, in _make_request\n",
      "    six.raise_from(e, None)\n",
      "  File \"<string>\", line 3, in raise_from\n",
      "  File \"D:\\Anaconda\\envs\\GDAL\\lib\\site-packages\\urllib3\\connectionpool.py\", line 440, in _make_request\n",
      "    httplib_response = conn.getresponse()\n",
      "  File \"D:\\Anaconda\\envs\\GDAL\\lib\\http\\client.py\", line 1379, in getresponse\n",
      "    response.begin()\n",
      "  File \"D:\\Anaconda\\envs\\GDAL\\lib\\http\\client.py\", line 311, in begin\n",
      "    version, status, reason = self._read_status()\n",
      "  File \"D:\\Anaconda\\envs\\GDAL\\lib\\http\\client.py\", line 272, in _read_status\n",
      "    line = str(self.fp.readline(_MAXLINE + 1), \"iso-8859-1\")\n",
      "  File \"D:\\Anaconda\\envs\\GDAL\\lib\\socket.py\", line 586, in readinto\n",
      "    return self._sock.recv_into(b)\n",
      "  File \"D:\\Anaconda\\envs\\GDAL\\lib\\ssl.py\", line 1012, in recv_into\n",
      "    return self.read(nbytes, buffer)\n",
      "  File \"D:\\Anaconda\\envs\\GDAL\\lib\\ssl.py\", line 874, in read\n",
      "    return self._sslobj.read(len, buffer)\n",
      "  File \"D:\\Anaconda\\envs\\GDAL\\lib\\ssl.py\", line 631, in read\n",
      "    v = self._sslobj.read(len, buffer)\n",
      "urllib3.exceptions.ProtocolError: ('Connection aborted.', TimeoutError(10060, 'Une tentative de connexion a échoué car le parti connecté n’a pas répondu convenablement au-delà d’une certaine durée ou une connexion établie a échoué car l’hôte de connexion n’a pas répondu', None, 10060, None))\n",
      "\n",
      "During handling of the above exception, another exception occurred:\n",
      "\n",
      "Traceback (most recent call last):\n",
      "  File \"D:\\Anaconda\\envs\\GDAL\\lib\\concurrent\\futures\\thread.py\", line 56, in run\n",
      "    result = self.fn(*self.args, **self.kwargs)\n",
      "  File \"D:\\Anaconda\\envs\\GDAL\\lib\\site-packages\\sentinelsat\\download.py\", line 625, in _trigger_and_wait\n",
      "    if self.api.is_online(uuid):\n",
      "  File \"D:\\Anaconda\\envs\\GDAL\\lib\\site-packages\\sentinelsat\\sentinel.py\", line 541, in is_online\n",
      "    r = self.session.get(url)\n",
      "  File \"D:\\Anaconda\\envs\\GDAL\\lib\\site-packages\\requests\\sessions.py\", line 555, in get\n",
      "    return self.request('GET', url, **kwargs)\n",
      "  File \"D:\\Anaconda\\envs\\GDAL\\lib\\site-packages\\requests\\sessions.py\", line 542, in request\n",
      "    resp = self.send(prep, **send_kwargs)\n",
      "  File \"D:\\Anaconda\\envs\\GDAL\\lib\\site-packages\\requests\\sessions.py\", line 655, in send\n",
      "    r = adapter.send(request, **kwargs)\n",
      "  File \"D:\\Anaconda\\envs\\GDAL\\lib\\site-packages\\requests\\adapters.py\", line 498, in send\n",
      "    raise ConnectionError(err, request=request)\n",
      "requests.exceptions.ConnectionError: ('Connection aborted.', TimeoutError(10060, 'Une tentative de connexion a échoué car le parti connecté n’a pas répondu convenablement au-delà d’une certaine durée ou une connexion établie a échoué car l’hôte de connexion n’a pas répondu', None, 10060, None))\n",
      "\n"
     ]
    },
    {
     "data": {
      "application/vnd.jupyter.widget-view+json": {
       "model_id": "9ec7aa42fd7940d483873992bd64e03e",
       "version_major": 2,
       "version_minor": 0
      },
      "text/plain": [
       "Downloading S2B_MSIL1C_20201107T050229_N0209_R133_T42FXL_20201107T063548.zip:   0%|          | 0.00/564M [00:0…"
      ]
     },
     "metadata": {},
     "output_type": "display_data"
    },
    {
     "data": {
      "application/vnd.jupyter.widget-view+json": {
       "model_id": "",
       "version_major": 2,
       "version_minor": 0
      },
      "text/plain": [
       "MD5 checksumming:   0%|          | 0.00/468M [00:00<?, ?B/s]"
      ]
     },
     "metadata": {},
     "output_type": "display_data"
    },
    {
     "data": {
      "application/vnd.jupyter.widget-view+json": {
       "model_id": "a7d43f701f594e3aba0f40c4705640a8",
       "version_major": 2,
       "version_minor": 0
      },
      "text/plain": [
       "Downloading S2B_MSIL1C_20200706T052219_N0209_R076_T42FVK_20200706T081900.zip:   0%|          | 0.00/213M [00:0…"
      ]
     },
     "metadata": {},
     "output_type": "display_data"
    },
    {
     "data": {
      "application/vnd.jupyter.widget-view+json": {
       "model_id": "5c25b9e8816446e2bde51b04abdea205",
       "version_major": 2,
       "version_minor": 0
      },
      "text/plain": [
       "Downloading S2B_MSIL1C_20201107T050229_N0209_R133_T42FWL_20201107T063548.zip:   0%|          | 0.00/350M [00:0…"
      ]
     },
     "metadata": {},
     "output_type": "display_data"
    },
    {
     "data": {
      "application/vnd.jupyter.widget-view+json": {
       "model_id": "",
       "version_major": 2,
       "version_minor": 0
      },
      "text/plain": [
       "MD5 checksumming:   0%|          | 0.00/545M [00:00<?, ?B/s]"
      ]
     },
     "metadata": {},
     "output_type": "display_data"
    },
    {
     "data": {
      "application/vnd.jupyter.widget-view+json": {
       "model_id": "",
       "version_major": 2,
       "version_minor": 0
      },
      "text/plain": [
       "MD5 checksumming:   0%|          | 0.00/213M [00:00<?, ?B/s]"
      ]
     },
     "metadata": {},
     "output_type": "display_data"
    },
    {
     "data": {
      "application/vnd.jupyter.widget-view+json": {
       "model_id": "",
       "version_major": 2,
       "version_minor": 0
      },
      "text/plain": [
       "MD5 checksumming:   0%|          | 0.00/564M [00:00<?, ?B/s]"
      ]
     },
     "metadata": {},
     "output_type": "display_data"
    },
    {
     "data": {
      "application/vnd.jupyter.widget-view+json": {
       "model_id": "",
       "version_major": 2,
       "version_minor": 0
      },
      "text/plain": [
       "MD5 checksumming:   0%|          | 0.00/350M [00:00<?, ?B/s]"
      ]
     },
     "metadata": {},
     "output_type": "display_data"
    },
    {
     "data": {
      "text/plain": [
       "ResultTuple(downloaded={'a7b2ec36-dec5-4dea-85cc-23991b92d7c3': {'id': 'a7b2ec36-dec5-4dea-85cc-23991b92d7c3', 'title': 'S2B_MSIL1C_20201107T050229_N0209_R133_T42FWM_20201107T063548', 'size': 23207248, 'md5': '90f555ecfa480aaad4c99c4b9c972f84', 'date': datetime.datetime(2020, 11, 7, 5, 2, 29, 24000), 'footprint': 'POLYGON((69.91717117522259 -48.83504176149312,69.97882431527411 -48.703807888135216,70.33770725131416 -48.76501052354464,70.33565914885232 -48.76944677218936,70.33566309019321 -48.76944743232559,70.3356572961863 -48.76945996977398,70.49486443535957 -48.79618033293231,70.49588191444421 -48.83128764713504,69.91717117522259 -48.83504176149312))', 'url': \"https://apihub.copernicus.eu/apihub/odata/v1/Products('a7b2ec36-dec5-4dea-85cc-23991b92d7c3')/$value\", 'Online': True, 'Creation Date': datetime.datetime(2020, 11, 7, 7, 32, 36, 400000), 'Ingestion Date': datetime.datetime(2020, 11, 7, 7, 26, 8, 970000), 'quicklook_url': \"https://apihub.copernicus.eu/apihub/odata/v1/Products('a7b2ec36-dec5-4dea-85cc-23991b92d7c3')/Products('Quicklook')/$value\", 'path': 'F:\\\\Images Sat Kerguelen\\\\2020\\\\Sentinel-2 L1C\\\\S2B_MSIL1C_20201107T050229_N0209_R133_T42FWM_20201107T063548.zip', 'downloaded_bytes': 23207248}, '5a774a9d-6cbb-4b28-a3e6-ed631dad76f7': {'id': '5a774a9d-6cbb-4b28-a3e6-ed631dad76f7', 'title': 'S2B_MSIL1C_20200318T052219_N0209_R076_T42FWM_20200318T082933', 'size': 65426853, 'md5': '2625a635661810f3a44eed36334bd837', 'date': datetime.datetime(2020, 3, 18, 5, 22, 19, 24000), 'footprint': 'POLYGON((68.9997306297135 -48.23475728728076,69.32979550082223 -48.30294383325961,69.27739205831935 -48.443526240406975,69.22279609984214 -48.58928155999482,69.16798484110257 -48.73497883816344,69.12808411287439 -48.84016059352745,68.99972742786481 -48.8409932472895,68.9997306297135 -48.23475728728076))', 'url': \"https://apihub.copernicus.eu/apihub/odata/v1/Products('5a774a9d-6cbb-4b28-a3e6-ed631dad76f7')/$value\", 'Online': True, 'Creation Date': datetime.datetime(2020, 3, 18, 10, 24, 8, 534000), 'Ingestion Date': datetime.datetime(2020, 3, 18, 10, 22, 59, 881000), 'quicklook_url': \"https://apihub.copernicus.eu/apihub/odata/v1/Products('5a774a9d-6cbb-4b28-a3e6-ed631dad76f7')/Products('Quicklook')/$value\", 'path': 'F:\\\\Images Sat Kerguelen\\\\2020\\\\Sentinel-2 L1C\\\\S2B_MSIL1C_20200318T052219_N0209_R076_T42FWM_20200318T082933.zip', 'downloaded_bytes': 65426853}, '04c7682c-f80e-483a-b110-3e7ba8028c40': {'id': '04c7682c-f80e-483a-b110-3e7ba8028c40', 'title': 'S2B_MSIL1C_20200102T050229_N0208_R133_T42FWL_20200102T072107', 'size': 337559245, 'md5': 'd9767c68696550b94f001d9b0ee9ff7d', 'date': datetime.datetime(2020, 1, 2, 5, 2, 29, 24000), 'footprint': 'POLYGON((69.48960136125181 -49.73746869462746,69.50769890954872 -49.700256729587096,69.57808086973 -49.55654421666637,69.62847834582752 -49.45055021273577,69.64635991584899 -49.41307605552548,69.66000436796409 -49.38433957448776,69.71540429693714 -49.26821308281565,69.78344801815882 -49.12394331731441,69.85150198578215 -48.979771760467926,69.91917881661544 -48.835578136114016,69.96070536649792 -48.74678739514507,70.28378014051542 -48.744694383179336,70.3441977603002 -48.754999851974425,70.34351589587484 -48.75648160703765,70.34363636050055 -48.756502166641845,70.34228595034455 -48.75943530197438,70.4945382431137 -48.784993686199186,70.52334161923173 -49.73067261888172,69.48960136125181 -49.73746869462746))', 'url': \"https://apihub.copernicus.eu/apihub/odata/v1/Products('04c7682c-f80e-483a-b110-3e7ba8028c40')/$value\", 'Online': True, 'Creation Date': datetime.datetime(2020, 1, 2, 8, 45, 24, 191000), 'Ingestion Date': datetime.datetime(2020, 1, 2, 8, 43, 27, 60000), 'quicklook_url': \"https://apihub.copernicus.eu/apihub/odata/v1/Products('04c7682c-f80e-483a-b110-3e7ba8028c40')/Products('Quicklook')/$value\", 'path': 'F:\\\\Images Sat Kerguelen\\\\2020\\\\Sentinel-2 L1C\\\\S2B_MSIL1C_20200102T050229_N0208_R133_T42FWL_20200102T072107.zip', 'downloaded_bytes': 337559245}, '219145ca-2b23-447b-8ea2-f2c33df8f2f1': {'id': '219145ca-2b23-447b-8ea2-f2c33df8f2f1', 'title': 'S2A_MSIL1C_20200320T051221_N0209_R033_T42FWK_20200320T074841', 'size': 575511964, 'md5': '01da421321395f07d6ec2c96bd8f0ac6', 'date': datetime.datetime(2020, 3, 20, 5, 12, 21, 24000), 'footprint': 'POLYGON((69.95907184298436 -50.63331620848683,69.826275584293 -50.60780185310546,69.82880040439196 -50.60190939327638,69.8261804241397 -50.60142173281207,69.82657953087708 -50.60050123602492,69.51192774951153 -50.54203111791843,69.51174180141294 -50.54245214470191,69.51143121979537 -50.542394370594366,69.50992633863537 -50.54576880903625,69.50968104785234 -50.54572275800426,69.50872576148949 -50.54787324704556,69.1610669715454 -50.4829807175312,69.16307273221535 -50.4784752478154,69.16302323957183 -50.47846618154782,69.16338486557063 -50.477647595667854,69.16049690805748 -50.47711891311768,69.16073557699804 -50.476587600606166,69.16049686900978 -50.47654394281643,69.16061030493191 -50.47629381015316,68.99971828685185 -50.446857988303364,68.99972292561614 -49.652183138758915,70.52057884887613 -49.642197578751734,70.55219885217886 -50.62936611260332,69.95907184298436 -50.63331620848683))', 'url': \"https://apihub.copernicus.eu/apihub/odata/v1/Products('219145ca-2b23-447b-8ea2-f2c33df8f2f1')/$value\", 'Online': True, 'Creation Date': datetime.datetime(2020, 3, 20, 11, 33, 40, 731000), 'Ingestion Date': datetime.datetime(2020, 3, 20, 11, 33, 2, 927000), 'quicklook_url': \"https://apihub.copernicus.eu/apihub/odata/v1/Products('219145ca-2b23-447b-8ea2-f2c33df8f2f1')/Products('Quicklook')/$value\", 'path': 'F:\\\\Images Sat Kerguelen\\\\2020\\\\Sentinel-2 L1C\\\\S2A_MSIL1C_20200320T051221_N0209_R033_T42FWK_20200320T074841.zip', 'downloaded_bytes': 575511964}, 'b551bff4-33bb-40d4-bcb1-fc0613a29cf7': {'id': 'b551bff4-33bb-40d4-bcb1-fc0613a29cf7', 'title': 'S2B_MSIL1C_20200706T052219_N0209_R076_T42FVL_20200706T081900', 'size': 626607503, 'md5': '6ae597d0ca0eadea2d0cd94b604c208d', 'date': datetime.datetime(2020, 7, 6, 5, 22, 19, 24000), 'footprint': 'POLYGON((69.13295922896478 -48.818141732813785,69.110079319846 -48.878758692909706,69.05493564020428 -49.02456485367484,68.99895629111683 -49.17018490733846,68.95965775653904 -49.27271518111964,68.94381181096577 -49.313701131394325,68.8886066136246 -49.459499295566566,68.83002209271689 -49.60459724418291,68.78038349809027 -49.738690057592805,67.61176975413018 -49.73237086806509,67.63917680224735 -48.74497768846318,69.13278260997073 -48.75293650976542,69.13295922896478 -48.818141732813785))', 'url': \"https://apihub.copernicus.eu/apihub/odata/v1/Products('b551bff4-33bb-40d4-bcb1-fc0613a29cf7')/$value\", 'Online': True, 'Creation Date': datetime.datetime(2020, 7, 6, 12, 41, 6, 630000), 'Ingestion Date': datetime.datetime(2020, 7, 6, 12, 40, 18, 494000), 'quicklook_url': \"https://apihub.copernicus.eu/apihub/odata/v1/Products('b551bff4-33bb-40d4-bcb1-fc0613a29cf7')/Products('Quicklook')/$value\", 'path': 'F:\\\\Images Sat Kerguelen\\\\2020\\\\Sentinel-2 L1C\\\\S2B_MSIL1C_20200706T052219_N0209_R076_T42FVL_20200706T081900.zip', 'downloaded_bytes': 626607503}, 'ca1a3e78-cfcd-4ec4-8ae1-49297fb3839c': {'id': 'ca1a3e78-cfcd-4ec4-8ae1-49297fb3839c', 'title': 'S2B_MSIL1C_20201227T050229_N0209_R133_T42FWM_20201227T063520', 'size': 22003215, 'md5': 'd7dfaba2c40a72a4f47457749f3bcfc6', 'date': datetime.datetime(2020, 12, 27, 5, 2, 29, 24000), 'footprint': 'POLYGON((69.90959065040514 -48.83509093659068,69.96338703764893 -48.72027213843385,70.32223078344542 -48.7815119055353,70.32153651840935 -48.783016748160925,70.3216382427528 -48.783034117719055,70.32029282462848 -48.785951411020285,70.3203148027342 -48.785955094799,70.3203043420385 -48.785977789359045,70.49542116001996 -48.815389678727726,70.49588191444421 -48.83128764713504,69.90959065040514 -48.83509093659068))', 'url': \"https://apihub.copernicus.eu/apihub/odata/v1/Products('ca1a3e78-cfcd-4ec4-8ae1-49297fb3839c')/$value\", 'Online': True, 'Creation Date': datetime.datetime(2020, 12, 27, 7, 49, 2, 159000), 'Ingestion Date': datetime.datetime(2020, 12, 27, 7, 48, 16, 551000), 'quicklook_url': \"https://apihub.copernicus.eu/apihub/odata/v1/Products('ca1a3e78-cfcd-4ec4-8ae1-49297fb3839c')/Products('Quicklook')/$value\", 'path': 'F:\\\\Images Sat Kerguelen\\\\2020\\\\Sentinel-2 L1C\\\\S2B_MSIL1C_20201227T050229_N0209_R133_T42FWM_20201227T063520.zip', 'downloaded_bytes': 22003215}, '98077f52-d883-4e41-9687-dc10d3e100b4': {'id': '98077f52-d883-4e41-9687-dc10d3e100b4', 'title': 'S2B_MSIL1C_20200706T052219_N0209_R076_T42FWM_20200706T081900', 'size': 68732500, 'md5': '0763e02417ab2f9a48d7586ef841a287', 'date': datetime.datetime(2020, 7, 6, 5, 22, 19, 24000), 'footprint': 'POLYGON((68.9997306504632 -48.23082855317347,69.32713929476895 -48.29848800053362,69.2747302977233 -48.4391293879647,69.2203400754306 -48.58498681004552,69.165801507561 -48.73083132938993,69.13532181234974 -48.811882414998045,69.12463976274798 -48.84018293713262,68.99972742786481 -48.8409932472895,68.9997306504632 -48.23082855317347))', 'url': \"https://apihub.copernicus.eu/apihub/odata/v1/Products('98077f52-d883-4e41-9687-dc10d3e100b4')/$value\", 'Online': True, 'Creation Date': datetime.datetime(2020, 7, 6, 12, 39, 9, 555000), 'Ingestion Date': datetime.datetime(2020, 7, 6, 12, 38, 11, 392000), 'quicklook_url': \"https://apihub.copernicus.eu/apihub/odata/v1/Products('98077f52-d883-4e41-9687-dc10d3e100b4')/Products('Quicklook')/$value\", 'path': 'F:\\\\Images Sat Kerguelen\\\\2020\\\\Sentinel-2 L1C\\\\S2B_MSIL1C_20200706T052219_N0209_R076_T42FWM_20200706T081900.zip', 'downloaded_bytes': 68732500}, '67894238-969a-4ba1-b6f7-b4f498233d2a': {'id': '67894238-969a-4ba1-b6f7-b4f498233d2a', 'title': 'S2B_MSIL1C_20200318T052219_N0209_R076_T42FVM_20200318T082933', 'size': 495252934, 'md5': '458ab1daf7c3a880939125024bfd35ab', 'date': datetime.datetime(2020, 3, 18, 5, 22, 19, 24000), 'footprint': 'POLYGON((67.65961402716559 -47.968998872083155,67.71643076187362 -47.97957663575032,67.71425993277792 -47.98493741468442,68.00977868159154 -48.041363249457376,68.00990423022469 -48.041048643982265,68.01004120233054 -48.04107477747975,68.01018558562582 -48.04071351187301,68.01030998978145 -48.04073722981149,68.01045481099983 -48.04037472422228,68.01078465864569 -48.04043768216049,68.01126654263277 -48.03923192329853,68.01150691411202 -48.039277633523206,68.0128310726687 -48.035957447690954,68.34780870168065 -48.09998998127115,68.34553047715379 -48.10579626629627,68.64678526026736 -48.16568843605755,68.6469667546593 -48.16521866628087,68.64710590688901 -48.16524628691684,68.64723347801807 -48.16491654854469,68.64743165314755 -48.16495582720028,68.64774052885299 -48.16415748356046,68.64776739087134 -48.16416279189776,68.64798156831641 -48.16360853525055,68.64808326838735 -48.163628602835054,68.64825098526282 -48.1631947135517,68.64839783661536 -48.16322364805282,68.64850714254126 -48.16294075594234,68.64866714687336 -48.16297220328852,68.64883884510661 -48.16252756645917,68.64889529739676 -48.162538659278816,68.64908210603579 -48.16205528422612,68.64912425587275 -48.16206355448514,68.649291897662 -48.16162972391153,68.64942977425055 -48.161656738295136,68.65030407976384 -48.159393639459886,68.99473992836457 -48.22696751126789,68.99236179629153 -48.233234994716724,69.13152288629342 -48.2619836283717,69.132979804063 -48.82725512999823,69.127807892875 -48.840888733230486,67.63679589166671 -48.83293316597654,67.65961402716559 -47.968998872083155))', 'url': \"https://apihub.copernicus.eu/apihub/odata/v1/Products('67894238-969a-4ba1-b6f7-b4f498233d2a')/$value\", 'Online': True, 'Creation Date': datetime.datetime(2020, 3, 18, 10, 23, 11, 37000), 'Ingestion Date': datetime.datetime(2020, 3, 18, 10, 22, 39, 307000), 'quicklook_url': \"https://apihub.copernicus.eu/apihub/odata/v1/Products('67894238-969a-4ba1-b6f7-b4f498233d2a')/Products('Quicklook')/$value\", 'path': 'F:\\\\Images Sat Kerguelen\\\\2020\\\\Sentinel-2 L1C\\\\S2B_MSIL1C_20200318T052219_N0209_R076_T42FVM_20200318T082933.zip', 'downloaded_bytes': 495252934}, '345cdde3-b28c-41d1-90b8-b6dde8118b77': {'id': '345cdde3-b28c-41d1-90b8-b6dde8118b77', 'title': 'S2B_MSIL1C_20200603T051229_N0209_R033_T42FXL_20200603T095104', 'size': 505500847, 'md5': 'cf30836a9085ecba2b3065d9698a585c', 'date': datetime.datetime(2020, 6, 3, 5, 12, 29, 24000), 'footprint': 'POLYGON((71.34530220308064 -48.72696951790341,71.65134292743333 -48.78989230589559,71.59811870464472 -48.93034050824348,71.54282684976516 -49.076066252203695,71.53129465187419 -49.10634170593859,71.48646008528708 -49.22393168872255,71.43063806614194 -49.369660406530585,71.42070378461337 -49.39556324738756,71.37536177159582 -49.51320016064536,71.31910692270513 -49.6588808318464,71.29715347978632 -49.715498040372076,70.38767534767723 -49.73237751756609,70.36027924628367 -48.74498411169783,71.34530220308064 -48.72696951790341))', 'url': \"https://apihub.copernicus.eu/apihub/odata/v1/Products('345cdde3-b28c-41d1-90b8-b6dde8118b77')/$value\", 'Online': True, 'Creation Date': datetime.datetime(2020, 6, 3, 11, 10, 43, 126000), 'Ingestion Date': datetime.datetime(2020, 6, 3, 11, 9, 11, 795000), 'quicklook_url': \"https://apihub.copernicus.eu/apihub/odata/v1/Products('345cdde3-b28c-41d1-90b8-b6dde8118b77')/Products('Quicklook')/$value\", 'path': 'F:\\\\Images Sat Kerguelen\\\\2020\\\\Sentinel-2 L1C\\\\S2B_MSIL1C_20200603T051229_N0209_R033_T42FXL_20200603T095104.zip', 'downloaded_bytes': 505500847}, '6753eeba-2429-4de4-b56c-483182ae0417': {'id': '6753eeba-2429-4de4-b56c-483182ae0417', 'title': 'S2B_MSIL1C_20200812T051229_N0209_R033_T42FWM_20200812T070852', 'size': 304660113, 'md5': '97b0bf196bb73df5eb10620b3acf7667', 'date': datetime.datetime(2020, 8, 12, 5, 12, 29, 24000), 'footprint': 'POLYGON((68.99973060811288 -48.23884713399411,69.07961508460623 -48.2528408678956,69.07975001778009 -48.25252722571981,69.07975033028305 -48.25252728052296,69.08007915966164 -48.25176244298564,69.08061447200625 -48.25185643096111,69.08218872909465 -48.24819000932388,69.41755987837402 -48.3088078028151,69.41526020489528 -48.3142387480756,69.7124060384641 -48.36854938100228,69.7125155084898 -48.36828714878195,69.71252747686566 -48.3682893362939,69.71265924175766 -48.367973459794726,69.71266065980284 -48.367973719040926,69.7127391629804 -48.36778519668477,69.71300802299054 -48.36783432444312,69.7133697414269 -48.36696604257621,69.71339434898113 -48.36697053933002,69.71352442663871 -48.366659371597486,69.7136411382085 -48.36668071921652,69.71506519966199 -48.36327160609821,70.04933424761352 -48.4253295152564,70.04700221686346 -48.43100779355317,70.34509344692755 -48.48774187391563,70.34522566167698 -48.48741515410492,70.34525655556742 -48.487421029583984,70.3454082703909 -48.48704586004466,70.34545477052271 -48.487054697020014,70.34560007087785 -48.48669473414922,70.34593566932635 -48.48675858429206,70.34626481210611 -48.485943568554966,70.34639095938626 -48.48596752375441,70.34658971732455 -48.48547708902046,70.34675239922792 -48.485507926772975,70.3481755952107 -48.48199335090128,70.48652246091167 -48.508347076766796,70.49588191444421 -48.83128764713504,68.99972742786481 -48.8409932472895,68.99973060811288 -48.23884713399411))', 'url': \"https://apihub.copernicus.eu/apihub/odata/v1/Products('6753eeba-2429-4de4-b56c-483182ae0417')/$value\", 'Online': True, 'Creation Date': datetime.datetime(2020, 8, 12, 10, 4, 17, 306000), 'Ingestion Date': datetime.datetime(2020, 8, 12, 10, 3, 21, 854000), 'quicklook_url': \"https://apihub.copernicus.eu/apihub/odata/v1/Products('6753eeba-2429-4de4-b56c-483182ae0417')/Products('Quicklook')/$value\", 'path': 'F:\\\\Images Sat Kerguelen\\\\2020\\\\Sentinel-2 L1C\\\\S2B_MSIL1C_20200812T051229_N0209_R033_T42FWM_20200812T070852.zip', 'downloaded_bytes': 304660113}, 'a8ba7375-2572-478a-9ef8-acc35b957683': {'id': 'a8ba7375-2572-478a-9ef8-acc35b957683', 'title': 'S2A_MSIL1C_20200127T050221_N0208_R133_T42FWM_20200127T073156', 'size': 22531589, 'md5': '02a0655c2aff3ecf4c94857bdcfd3ecd', 'date': datetime.datetime(2020, 1, 27, 5, 2, 21, 24000), 'footprint': 'POLYGON((69.93096497843764 -48.83495228066757,69.99454566706193 -48.69874157796577,70.34998012445301 -48.75927630248912,70.34920745421793 -48.76095581890934,70.34925563802781 -48.76096403736632,70.34909867582293 -48.76130588060627,70.34932568281577 -48.76134453254936,70.34808414696498 -48.764049703700096,70.34811605484578 -48.764055046822186,70.34809646703964 -48.76409768090559,70.49464731077376 -48.78868862015866,70.49588191444421 -48.83128764713504,69.93096497843764 -48.83495228066757))', 'url': \"https://apihub.copernicus.eu/apihub/odata/v1/Products('a8ba7375-2572-478a-9ef8-acc35b957683')/$value\", 'Online': True, 'Creation Date': datetime.datetime(2020, 1, 27, 8, 41, 15, 669000), 'Ingestion Date': datetime.datetime(2020, 1, 27, 8, 40, 56, 301000), 'quicklook_url': \"https://apihub.copernicus.eu/apihub/odata/v1/Products('a8ba7375-2572-478a-9ef8-acc35b957683')/Products('Quicklook')/$value\", 'path': 'F:\\\\Images Sat Kerguelen\\\\2020\\\\Sentinel-2 L1C\\\\S2A_MSIL1C_20200127T050221_N0208_R133_T42FWM_20200127T073156.zip', 'downloaded_bytes': 22531589}, '58548b4f-e6cb-492d-95b0-874ec4f7a73d': {'id': '58548b4f-e6cb-492d-95b0-874ec4f7a73d', 'title': 'S2B_MSIL1C_20200227T052219_N0209_R076_T42FVK_20200227T082027', 'size': 152586760, 'md5': 'dd329cd3330815dbc04ea9fa82015dea', 'date': datetime.datetime(2020, 2, 27, 5, 22, 19, 24000), 'footprint': 'POLYGON((67.94335028904638 -49.99619501350911,67.94305005710709 -49.99613799291204,67.94274701478973 -49.99688194563477,67.94121124736493 -49.99658767702032,67.93925258617072 -50.00137731297795,67.60573052106675 -49.93703776155589,67.61428768376125 -49.64389055495361,68.81234877724413 -49.65036059506141,68.77673606775701 -49.74642445408617,68.71981346799156 -49.89186927602129,68.66274551774578 -50.03736543648007,68.62422958128703 -50.13572613120285,68.26039354159353 -50.06352521204962,68.26329440069978 -50.05628092550957,67.94356866172225 -49.99565850487272,67.94335028904638 -49.99619501350911))', 'url': \"https://apihub.copernicus.eu/apihub/odata/v1/Products('58548b4f-e6cb-492d-95b0-874ec4f7a73d')/$value\", 'Online': True, 'Creation Date': datetime.datetime(2020, 2, 27, 9, 35, 30, 464000), 'Ingestion Date': datetime.datetime(2020, 2, 27, 9, 35, 8, 58000), 'quicklook_url': \"https://apihub.copernicus.eu/apihub/odata/v1/Products('58548b4f-e6cb-492d-95b0-874ec4f7a73d')/Products('Quicklook')/$value\", 'path': 'F:\\\\Images Sat Kerguelen\\\\2020\\\\Sentinel-2 L1C\\\\S2B_MSIL1C_20200227T052219_N0209_R076_T42FVK_20200227T082027.zip', 'downloaded_bytes': 152586760}, 'a7a42d15-ad2b-4c14-a7c5-21bd943ecc16': {'id': 'a7a42d15-ad2b-4c14-a7c5-21bd943ecc16', 'title': 'S2B_MSIL1C_20200227T052219_N0209_R076_T42FVL_20200227T082027', 'size': 510819355, 'md5': '78328aa0a09dfd7d944b762308d3754c', 'date': datetime.datetime(2020, 2, 27, 5, 22, 19, 24000), 'footprint': 'POLYGON((69.13295884023572 -48.81799821956713,69.11238206072208 -48.87273679800367,69.05731078573089 -49.01855991545876,69.02669176164379 -49.09849664986558,69.00067520093936 -49.1663486057153,68.97966264929288 -49.22065107858951,68.94517117114194 -49.30971300114822,68.88980262764285 -49.455424797584286,68.83087463234098 -49.60038784213224,68.77960491720607 -49.73868584747616,67.61176975413018 -49.73237086806509,67.63917680224735 -48.74497768846318,69.13278260997073 -48.75293650976542,69.13295884023572 -48.81799821956713))', 'url': \"https://apihub.copernicus.eu/apihub/odata/v1/Products('a7a42d15-ad2b-4c14-a7c5-21bd943ecc16')/$value\", 'Online': True, 'Creation Date': datetime.datetime(2020, 2, 27, 9, 37, 39, 781000), 'Ingestion Date': datetime.datetime(2020, 2, 27, 9, 36, 35, 268000), 'quicklook_url': \"https://apihub.copernicus.eu/apihub/odata/v1/Products('a7a42d15-ad2b-4c14-a7c5-21bd943ecc16')/Products('Quicklook')/$value\", 'path': 'F:\\\\Images Sat Kerguelen\\\\2020\\\\Sentinel-2 L1C\\\\S2B_MSIL1C_20200227T052219_N0209_R076_T42FVL_20200227T082027.zip', 'downloaded_bytes': 510819355}, 'bdd34c43-53ea-49d8-b43b-12cdf54e4757': {'id': 'bdd34c43-53ea-49d8-b43b-12cdf54e4757', 'title': 'S2B_MSIL1C_20200706T052219_N0209_R076_T42FVM_20200706T081900', 'size': 501669549, 'md5': '1a9d2a231b45807bea79f0ce7ca70a0e', 'date': datetime.datetime(2020, 7, 6, 5, 22, 19, 24000), 'footprint': 'POLYGON((67.65971936130963 -47.965010738199155,67.71437635308662 -47.97518991552963,67.71223112376204 -47.98049888621135,68.00769692618249 -48.03693283230584,68.00782023306583 -48.0366231744615,68.00786862327307 -48.0366324100697,68.00801147707307 -48.03627329510245,68.00810064689456 -48.036290301138656,68.0082442282214 -48.035929127410974,68.00856446493573 -48.03599027105534,68.00905060511134 -48.03476731622428,68.0091924587264 -48.03479430069252,68.01048756370685 -48.03153540105442,68.34563894061442 -48.09562326378468,68.34338606033496 -48.10137763541879,68.6445855810257 -48.16127805545114,68.64476510190298 -48.16081232684193,68.64482908947956 -48.160825032037515,68.64495435088806 -48.160499829577546,68.64509822378747 -48.160528354819846,68.64562584314906 -48.15915739160105,68.64578567491367 -48.15918893999727,68.64595232836172 -48.15875621521028,68.64602585385958 -48.1587707068431,68.64613461454243 -48.1584881119319,68.64623799062669 -48.15850843622647,68.64659040916541 -48.15759245151862,68.64674187843261 -48.15762218153856,68.64690723598655 -48.15719308330051,68.64707028249224 -48.157225039967614,68.64792522081666 -48.1550066394289,68.99244843942985 -48.22262113271546,68.990095282597 -48.22883739113093,69.13151277751898 -48.25806151126303,69.13295633516265 -48.81814939951768,69.12438026267306 -48.84087044448259,67.63679589166671 -48.83293316597654,67.65971936130963 -47.965010738199155))', 'url': \"https://apihub.copernicus.eu/apihub/odata/v1/Products('bdd34c43-53ea-49d8-b43b-12cdf54e4757')/$value\", 'Online': True, 'Creation Date': datetime.datetime(2020, 7, 6, 12, 41, 7, 371000), 'Ingestion Date': datetime.datetime(2020, 7, 6, 12, 40, 19, 246000), 'quicklook_url': \"https://apihub.copernicus.eu/apihub/odata/v1/Products('bdd34c43-53ea-49d8-b43b-12cdf54e4757')/Products('Quicklook')/$value\", 'path': 'F:\\\\Images Sat Kerguelen\\\\2020\\\\Sentinel-2 L1C\\\\S2B_MSIL1C_20200706T052219_N0209_R076_T42FVM_20200706T081900.zip', 'downloaded_bytes': 501669549}, 'f2d6abbc-d486-435e-961f-32b1315ada6a': {'id': 'f2d6abbc-d486-435e-961f-32b1315ada6a', 'title': 'S2A_MSIL1C_20200701T052221_N0209_R076_T42FWM_20200701T082910', 'size': 70113432, 'md5': 'fa96ef7389b8df0b89339e8f8c2782f8', 'date': datetime.datetime(2020, 7, 1, 5, 22, 21, 24000), 'footprint': 'POLYGON((68.99973063886061 -48.233025379179246,69.31935300392144 -48.29921393154636,69.26690723045522 -48.43947688745944,69.21205735425276 -48.58506125671172,69.15699764541782 -48.73068679185084,69.11562036463673 -48.84024144624547,68.99972742786481 -48.8409932472895,68.99973063886061 -48.233025379179246))', 'url': \"https://apihub.copernicus.eu/apihub/odata/v1/Products('f2d6abbc-d486-435e-961f-32b1315ada6a')/$value\", 'Online': True, 'Creation Date': datetime.datetime(2020, 7, 1, 9, 11, 1, 571000), 'Ingestion Date': datetime.datetime(2020, 7, 1, 9, 10, 34, 617000), 'quicklook_url': \"https://apihub.copernicus.eu/apihub/odata/v1/Products('f2d6abbc-d486-435e-961f-32b1315ada6a')/Products('Quicklook')/$value\", 'path': 'F:\\\\Images Sat Kerguelen\\\\2020\\\\Sentinel-2 L1C\\\\S2A_MSIL1C_20200701T052221_N0209_R076_T42FWM_20200701T082910.zip', 'downloaded_bytes': 70113432}, '1957433b-0365-4004-b49a-601a43822c53': {'id': '1957433b-0365-4004-b49a-601a43822c53', 'title': 'S2B_MSIL1C_20200829T050229_N0209_R133_T42FWM_20200829T062453', 'size': 31703492, 'md5': 'c23a8b2b6f6769ed0e8a376968e8f73c', 'date': datetime.datetime(2020, 8, 29, 5, 2, 29, 24000), 'footprint': 'POLYGON((69.91561537430808 -48.835051854021486,69.92468475407526 -48.81561819220124,69.99072971796947 -48.67366763998154,70.34941330718873 -48.73484561709943,70.3487135844582 -48.73636777568126,70.34882978770902 -48.736387606550565,70.34834042607227 -48.7374540460444,70.34837323388732 -48.73745960849565,70.34747531133281 -48.73942088306372,70.49393191692128 -48.764004518896556,70.49588191444421 -48.83128764713504,69.91561537430808 -48.835051854021486))', 'url': \"https://apihub.copernicus.eu/apihub/odata/v1/Products('1957433b-0365-4004-b49a-601a43822c53')/$value\", 'Online': True, 'Creation Date': datetime.datetime(2020, 8, 29, 9, 53, 20, 701000), 'Ingestion Date': datetime.datetime(2020, 8, 29, 9, 52, 45, 699000), 'quicklook_url': \"https://apihub.copernicus.eu/apihub/odata/v1/Products('1957433b-0365-4004-b49a-601a43822c53')/Products('Quicklook')/$value\", 'path': 'F:\\\\Images Sat Kerguelen\\\\2020\\\\Sentinel-2 L1C\\\\S2B_MSIL1C_20200829T050229_N0209_R133_T42FWM_20200829T062453.zip', 'downloaded_bytes': 31703492}, '689d7d6d-6f58-4a46-a888-5635d26a8250': {'id': '689d7d6d-6f58-4a46-a888-5635d26a8250', 'title': 'S2B_MSIL1C_20200227T052219_N0209_R076_T42FVM_20200227T082027', 'size': 425743096, 'md5': '0c72c505e3cfb7b8f3b7540f114e78ff', 'date': datetime.datetime(2020, 2, 27, 5, 22, 19, 24000), 'footprint': 'POLYGON((67.65983357965402 -47.960686233038814,67.71603409977095 -47.971153660453886,67.7139236009735 -47.97638411115614,68.00933202199748 -48.03281019129849,68.00945229962255 -48.032507683260874,68.00950749944379 -48.032518219163435,68.00965040606134 -48.03215884145742,68.00966164464245 -48.03216098497696,68.00980588465448 -48.03179732709618,68.01015226699909 -48.031863467361696,68.0106348717428 -48.03064766060294,68.01078838859524 -48.03067686559047,68.01205539082251 -48.027487139929136,68.34717669544433 -48.091574612929065,68.3449584091823 -48.09724934459156,68.64609297819655 -48.15714071191427,68.64626885113097 -48.15668358813152,68.64635642532717 -48.15670097780568,68.6464821000641 -48.15637460289357,68.64654759171907 -48.15638758874662,68.64707294785718 -48.15501966747141,68.64722979093648 -48.1550506279175,68.64739520518556 -48.15462070907841,68.64748862840887 -48.15463912369056,68.64759805104693 -48.154354652225805,68.64771303978388 -48.15437726124805,68.64822235325481 -48.15305274431813,68.6484268113027 -48.15309282047176,68.6492599366638 -48.15092427526201,68.99385722959428 -48.21855952366007,68.99153931090929 -48.2246944826349,69.13150133003565 -48.2536199866764,69.13295596522704 -48.8180058676973,69.1243609806362 -48.84087034159976,67.63679589166671 -48.83293316597654,67.65983357965402 -47.960686233038814))', 'url': \"https://apihub.copernicus.eu/apihub/odata/v1/Products('689d7d6d-6f58-4a46-a888-5635d26a8250')/$value\", 'Online': True, 'Creation Date': datetime.datetime(2020, 2, 27, 9, 37, 43, 576000), 'Ingestion Date': datetime.datetime(2020, 2, 27, 9, 36, 41, 926000), 'quicklook_url': \"https://apihub.copernicus.eu/apihub/odata/v1/Products('689d7d6d-6f58-4a46-a888-5635d26a8250')/Products('Quicklook')/$value\", 'path': 'F:\\\\Images Sat Kerguelen\\\\2020\\\\Sentinel-2 L1C\\\\S2B_MSIL1C_20200227T052219_N0209_R076_T42FVM_20200227T082027.zip', 'downloaded_bytes': 425743096}, '5cf98546-eb9a-4218-b706-9ec95f0382f0': {'id': '5cf98546-eb9a-4218-b706-9ec95f0382f0', 'title': 'S2B_MSIL1C_20200302T050229_N0209_R133_T42FWM_20200302T075917', 'size': 34079087, 'md5': '5368e2193265f65d0a73d63516d06c94', 'date': datetime.datetime(2020, 3, 2, 5, 2, 29, 24000), 'footprint': 'POLYGON((69.91797688184938 -48.835036534849465,69.92891882916514 -48.811770132700346,69.99524296242751 -48.67000953726346,70.35385675593366 -48.73118994408159,70.3531959010547 -48.73262747382385,70.35330111050038 -48.732645433524645,70.35282642660938 -48.73367677306079,70.35283354497531 -48.73367798028424,70.35198578285465 -48.73551858473868,70.4937964086619 -48.7593289131655,70.49588191444421 -48.83128764713504,69.91797688184938 -48.835036534849465))', 'url': \"https://apihub.copernicus.eu/apihub/odata/v1/Products('5cf98546-eb9a-4218-b706-9ec95f0382f0')/$value\", 'Online': True, 'Creation Date': datetime.datetime(2020, 3, 2, 13, 19, 3, 22000), 'Ingestion Date': datetime.datetime(2020, 3, 2, 13, 18, 57, 116000), 'quicklook_url': \"https://apihub.copernicus.eu/apihub/odata/v1/Products('5cf98546-eb9a-4218-b706-9ec95f0382f0')/Products('Quicklook')/$value\", 'path': 'F:\\\\Images Sat Kerguelen\\\\2020\\\\Sentinel-2 L1C\\\\S2B_MSIL1C_20200302T050229_N0209_R133_T42FWM_20200302T075917.zip', 'downloaded_bytes': 34079087}, '9b0d7b4a-409e-4efd-89fd-1256b79e3384': {'id': '9b0d7b4a-409e-4efd-89fd-1256b79e3384', 'title': 'S2A_MSIL1C_20201029T052221_N0209_R076_T42FWL_20201029T064515', 'size': 21097014, 'md5': '6ab0893f7940c9eb26b5e3b9551be2b2', 'date': datetime.datetime(2020, 10, 29, 5, 22, 21, 24000), 'footprint': 'POLYGON((69.14455163631003 -48.75207477645905,69.10163352358231 -48.86584797193424,69.04666812318169 -49.01168300560903,68.99972580221075 -49.13169519653105,68.9997279041062 -48.7530130044756,69.14455163631003 -48.75207477645905))', 'url': \"https://apihub.copernicus.eu/apihub/odata/v1/Products('9b0d7b4a-409e-4efd-89fd-1256b79e3384')/$value\", 'Online': True, 'Creation Date': datetime.datetime(2020, 10, 29, 9, 38, 8, 455000), 'Ingestion Date': datetime.datetime(2020, 10, 29, 9, 37, 44, 197000), 'quicklook_url': \"https://apihub.copernicus.eu/apihub/odata/v1/Products('9b0d7b4a-409e-4efd-89fd-1256b79e3384')/Products('Quicklook')/$value\", 'path': 'F:\\\\Images Sat Kerguelen\\\\2020\\\\Sentinel-2 L1C\\\\S2A_MSIL1C_20201029T052221_N0209_R076_T42FWL_20201029T064515.zip', 'downloaded_bytes': 21097014}, '9d40c1a3-4834-4ccd-b5a7-62a4cf4b655d': {'id': '9d40c1a3-4834-4ccd-b5a7-62a4cf4b655d', 'title': 'S2A_MSIL1C_20200618T051231_N0209_R033_T42FXL_20200618T080921', 'size': 311665080, 'md5': '81ba8a020b8c216f75a131b38b1fa449', 'date': datetime.datetime(2020, 6, 18, 5, 12, 31, 24000), 'footprint': 'POLYGON((70.75918585523202 -49.2190380735055,70.75906446883803 -49.21901480342652,70.75859477013076 -49.22020857396992,70.75850075072736 -49.22019045350924,70.75837754934639 -49.220501515631405,70.75829704342877 -49.220485972361374,70.75795798202778 -49.22134720118285,70.75790656374225 -49.22148381546528,70.75730169801263 -49.22136644375276,70.75716332408624 -49.221708703530346,70.75707449807152 -49.2216914367973,70.7560981567495 -49.224291738845,70.41195907672734 -49.15730323477317,70.41294207839803 -49.15485757861919,70.41420517512827 -49.15170347139648,70.41108391356099 -49.15111572668428,70.41144681992132 -49.15021636497974,70.37131344430722 -49.142671877959884,70.36027924628367 -48.74498411169783,71.41354432656193 -48.72572147172774,71.65135720443753 -48.774731708043056,71.59837337351163 -48.91522705643165,71.54295698396781 -49.06094811184657,71.48757701672405 -49.20677742066334,71.43240341712723 -49.3527742236852,71.43049163542736 -49.35799399207759,71.07418247273604 -49.286570594424326,71.07504995050374 -49.28432299983841,71.07656465663436 -49.28040429556525,71.07385218465008 -49.27988350614629,71.07428022655363 -49.27878618551464,70.75938712945764 -49.21853007804881,70.75918585523202 -49.2190380735055))', 'url': \"https://apihub.copernicus.eu/apihub/odata/v1/Products('9d40c1a3-4834-4ccd-b5a7-62a4cf4b655d')/$value\", 'Online': True, 'Creation Date': datetime.datetime(2020, 6, 18, 11, 29, 7, 805000), 'Ingestion Date': datetime.datetime(2020, 6, 18, 11, 28, 44, 938000), 'quicklook_url': \"https://apihub.copernicus.eu/apihub/odata/v1/Products('9d40c1a3-4834-4ccd-b5a7-62a4cf4b655d')/Products('Quicklook')/$value\", 'path': 'F:\\\\Images Sat Kerguelen\\\\2020\\\\Sentinel-2 L1C\\\\S2A_MSIL1C_20200618T051231_N0209_R033_T42FXL_20200618T080921.zip', 'downloaded_bytes': 311665080}, 'f5524216-f91a-4fe3-adec-e952ca3f137f': {'id': 'f5524216-f91a-4fe3-adec-e952ca3f137f', 'title': 'S2A_MSIL1C_20200913T050231_N0209_R133_T42FWM_20200913T062347', 'size': 27399161, 'md5': '5749bc0ca798375db8e1efd10f952c12', 'date': datetime.datetime(2020, 9, 13, 5, 2, 31, 24000), 'footprint': 'POLYGON((69.9030417640917 -48.835133419417545,69.90364003907713 -48.83385360635704,69.97002214408093 -48.69134925936185,70.32530962596205 -48.75191730128158,70.32455668372596 -48.75355705729032,70.32466404825816 -48.753575387764606,70.32451159673391 -48.75390790179543,70.32473556136516 -48.75394607298141,70.324591581646 -48.75426073299485,70.32469332049833 -48.75427804040369,70.32359015664535 -48.75668395792665,70.49455198740654 -48.7853995624727,70.49588191444421 -48.83128764713504,69.9030417640917 -48.835133419417545))', 'url': \"https://apihub.copernicus.eu/apihub/odata/v1/Products('f5524216-f91a-4fe3-adec-e952ca3f137f')/$value\", 'Online': True, 'Creation Date': datetime.datetime(2020, 9, 13, 7, 3, 19, 194000), 'Ingestion Date': datetime.datetime(2020, 9, 13, 7, 2, 55, 503000), 'quicklook_url': \"https://apihub.copernicus.eu/apihub/odata/v1/Products('f5524216-f91a-4fe3-adec-e952ca3f137f')/Products('Quicklook')/$value\", 'path': 'F:\\\\Images Sat Kerguelen\\\\2020\\\\Sentinel-2 L1C\\\\S2A_MSIL1C_20200913T050231_N0209_R133_T42FWM_20200913T062347.zip', 'downloaded_bytes': 27399161}, '58ec920b-6689-4962-9973-a07925804c72': {'id': '58ec920b-6689-4962-9973-a07925804c72', 'title': 'S2A_MSIL1C_20200701T052221_N0209_R076_T42FWL_20200701T082910', 'size': 20755144, 'md5': 'fdc6e61b34f652dad1281fe9d3589783', 'date': datetime.datetime(2020, 7, 1, 5, 22, 21, 24000), 'footprint': 'POLYGON((69.14893041287247 -48.752046408934014,69.10194960727185 -48.87643751979478,69.0472958998755 -49.0223496480133,68.99972571674519 -49.14709286285919,68.9997279041062 -48.7530130044756,69.14893041287247 -48.752046408934014))', 'url': \"https://apihub.copernicus.eu/apihub/odata/v1/Products('58ec920b-6689-4962-9973-a07925804c72')/$value\", 'Online': True, 'Creation Date': datetime.datetime(2020, 7, 1, 9, 9, 4, 378000), 'Ingestion Date': datetime.datetime(2020, 7, 1, 9, 8, 36, 791000), 'quicklook_url': \"https://apihub.copernicus.eu/apihub/odata/v1/Products('58ec920b-6689-4962-9973-a07925804c72')/Products('Quicklook')/$value\", 'path': 'F:\\\\Images Sat Kerguelen\\\\2020\\\\Sentinel-2 L1C\\\\S2A_MSIL1C_20200701T052221_N0209_R076_T42FWL_20200701T082910.zip', 'downloaded_bytes': 20755144}, '6c349225-55ca-46d3-bd38-4abe54836027': {'id': '6c349225-55ca-46d3-bd38-4abe54836027', 'title': 'S2B_MSIL1C_20200318T052219_N0209_R076_T42FVK_20200318T082933', 'size': 210845102, 'md5': '3d405227ae69d1f216204b48f0fd1fd0', 'date': datetime.datetime(2020, 3, 18, 5, 22, 19, 24000), 'footprint': 'POLYGON((67.94466051387712 -50.004563412794894,67.94420438058258 -50.004476817084736,67.94386705767293 -50.00529883797949,67.94223740546649 -50.0049866994576,67.94020512135693 -50.00992967828174,67.60548692477164 -49.945382767487956,67.61428768376125 -49.64389055495361,68.81678528045538 -49.65038455406806,68.77807517465043 -49.7549285673998,68.7213219497447 -49.90051044031198,68.66422865914565 -50.04600293641536,68.62539935937116 -50.1442725219039,68.26175698637171 -50.072136993923245,68.26475218491234 -50.06464816368512,67.94488081472178 -50.00402220204492,67.94466051387712 -50.004563412794894))', 'url': \"https://apihub.copernicus.eu/apihub/odata/v1/Products('6c349225-55ca-46d3-bd38-4abe54836027')/$value\", 'Online': True, 'Creation Date': datetime.datetime(2020, 3, 18, 10, 22, 22, 229000), 'Ingestion Date': datetime.datetime(2020, 3, 18, 10, 21, 56, 48000), 'quicklook_url': \"https://apihub.copernicus.eu/apihub/odata/v1/Products('6c349225-55ca-46d3-bd38-4abe54836027')/Products('Quicklook')/$value\", 'path': 'F:\\\\Images Sat Kerguelen\\\\2020\\\\Sentinel-2 L1C\\\\S2B_MSIL1C_20200318T052219_N0209_R076_T42FVK_20200318T082933.zip', 'downloaded_bytes': 210845102}, 'aa586291-1af0-4638-b6c1-0d49f1acbe6b': {'id': 'aa586291-1af0-4638-b6c1-0d49f1acbe6b', 'title': 'S2B_MSIL1C_20200710T050229_N0209_R133_T42FWM_20200710T075851', 'size': 28752279, 'md5': 'eea2b4821e564a58fd398636f07cc353', 'date': datetime.datetime(2020, 7, 10, 5, 2, 29, 24000), 'footprint': 'POLYGON((69.92145025490073 -48.83501400297169,69.98051009179373 -48.70929119978632,70.3392246887128 -48.77048325261014,70.33726578884055 -48.7747377775584,70.33732353153826 -48.77474745151632,70.33730716161094 -48.77478291139574,70.49501159635531 -48.80125800715066,70.49588191444421 -48.83128764713504,69.92145025490073 -48.83501400297169))', 'url': \"https://apihub.copernicus.eu/apihub/odata/v1/Products('aa586291-1af0-4638-b6c1-0d49f1acbe6b')/$value\", 'Online': True, 'Creation Date': datetime.datetime(2020, 7, 10, 12, 24, 24, 434000), 'Ingestion Date': datetime.datetime(2020, 7, 10, 12, 24, 5, 671000), 'quicklook_url': \"https://apihub.copernicus.eu/apihub/odata/v1/Products('aa586291-1af0-4638-b6c1-0d49f1acbe6b')/Products('Quicklook')/$value\", 'path': 'F:\\\\Images Sat Kerguelen\\\\2020\\\\Sentinel-2 L1C\\\\S2B_MSIL1C_20200710T050229_N0209_R133_T42FWM_20200710T075851.zip', 'downloaded_bytes': 28752279}, '6df6e25c-5b1e-474f-8120-2536ce8183e4': {'id': '6df6e25c-5b1e-474f-8120-2536ce8183e4', 'title': 'S2B_MSIL1C_20200102T050229_N0208_R133_T42FWM_20200102T072107', 'size': 25809956, 'md5': 'd03bfb3fe0874596586887548385d6e4', 'date': datetime.datetime(2020, 1, 2, 5, 2, 29, 24000), 'footprint': 'POLYGON((69.91943654666741 -48.83502706595891,69.98548082840814 -48.69381329479042,70.3441977603002 -48.754999851974425,70.34351589587484 -48.75648160703765,70.34363636050055 -48.756502166641845,70.34228595034455 -48.75943530197438,70.49454023399903 -48.78499402040638,70.49588191444421 -48.83128764713504,69.91943654666741 -48.83502706595891))', 'url': \"https://apihub.copernicus.eu/apihub/odata/v1/Products('6df6e25c-5b1e-474f-8120-2536ce8183e4')/$value\", 'Online': True, 'Creation Date': datetime.datetime(2020, 1, 2, 8, 42, 12, 5000), 'Ingestion Date': datetime.datetime(2020, 1, 2, 8, 39, 54, 428000), 'quicklook_url': \"https://apihub.copernicus.eu/apihub/odata/v1/Products('6df6e25c-5b1e-474f-8120-2536ce8183e4')/Products('Quicklook')/$value\", 'path': 'F:\\\\Images Sat Kerguelen\\\\2020\\\\Sentinel-2 L1C\\\\S2B_MSIL1C_20200102T050229_N0208_R133_T42FWM_20200102T072107.zip', 'downloaded_bytes': 25809956}, '7fa00f34-3dd1-421d-8ec5-7580556bb8f5': {'id': '7fa00f34-3dd1-421d-8ec5-7580556bb8f5', 'title': 'S2A_MSIL1C_20200107T050221_N0208_R133_T42FWM_20200107T072755', 'size': 19311779, 'md5': '725df3dfdd2e5e5e018d37a30dc976b6', 'date': datetime.datetime(2020, 1, 7, 5, 2, 21, 24000), 'footprint': 'POLYGON((69.92578982886758 -48.834985852021944,69.97567276701207 -48.728989545637184,70.33160529104453 -48.78965013956966,70.32940191822229 -48.794404595387725,70.49562191893479 -48.8223167069178,70.49588191444421 -48.83128764713504,69.92578982886758 -48.834985852021944))', 'url': \"https://apihub.copernicus.eu/apihub/odata/v1/Products('7fa00f34-3dd1-421d-8ec5-7580556bb8f5')/$value\", 'Online': True, 'Creation Date': datetime.datetime(2020, 1, 7, 8, 30, 31, 125000), 'Ingestion Date': datetime.datetime(2020, 1, 7, 8, 30, 10, 878000), 'quicklook_url': \"https://apihub.copernicus.eu/apihub/odata/v1/Products('7fa00f34-3dd1-421d-8ec5-7580556bb8f5')/Products('Quicklook')/$value\", 'path': 'F:\\\\Images Sat Kerguelen\\\\2020\\\\Sentinel-2 L1C\\\\S2A_MSIL1C_20200107T050221_N0208_R133_T42FWM_20200107T072755.zip', 'downloaded_bytes': 19311779}, '465987b6-2818-404f-bf0e-cbb4270e43a8': {'id': '465987b6-2818-404f-bf0e-cbb4270e43a8', 'title': 'S2B_MSIL1C_20200911T051229_N0209_R033_T42FXL_20200911T063658', 'size': 544625123, 'md5': '043b1321fd088a5d9e44891754dfa362', 'date': datetime.datetime(2020, 9, 11, 5, 12, 29, 24000), 'footprint': 'POLYGON((71.51343458082651 -48.723894628665676,71.67478951333972 -48.75706502309586,71.62167673292463 -48.89742317048589,71.5662638794461 -49.04303563908448,71.51067069632639 -49.18860503677571,71.45494897152867 -49.33422879609206,71.43315780688695 -49.39104708143993,71.39814944350627 -49.482059491737296,71.34202789598524 -49.62780238252608,71.30818512592376 -49.71529329831967,70.38767534767723 -49.73237751756609,70.36027924628367 -48.74498411169783,71.51343458082651 -48.723894628665676))', 'url': \"https://apihub.copernicus.eu/apihub/odata/v1/Products('465987b6-2818-404f-bf0e-cbb4270e43a8')/$value\", 'Online': True, 'Creation Date': datetime.datetime(2020, 9, 11, 7, 57, 23, 599000), 'Ingestion Date': datetime.datetime(2020, 9, 11, 7, 56, 36, 631000), 'quicklook_url': \"https://apihub.copernicus.eu/apihub/odata/v1/Products('465987b6-2818-404f-bf0e-cbb4270e43a8')/Products('Quicklook')/$value\", 'path': 'F:\\\\Images Sat Kerguelen\\\\2020\\\\Sentinel-2 L1C\\\\S2B_MSIL1C_20200911T051229_N0209_R033_T42FXL_20200911T063658.zip', 'downloaded_bytes': 544625123}, '9e9161b9-8c29-4c01-9831-0d8a0bd8d99f': {'id': '9e9161b9-8c29-4c01-9831-0d8a0bd8d99f', 'title': 'S2B_MSIL1C_20201107T050229_N0209_R133_T42FXL_20201107T063548', 'size': 564099103, 'md5': 'c79e720d0c34f9f083fc37804f5c2a42', 'date': datetime.datetime(2020, 11, 7, 5, 2, 29, 24000), 'footprint': 'POLYGON((70.36107672122914 -48.77372621230524,70.64916498249451 -48.82207720336402,70.64956005706692 -48.82121024536627,70.65025066827637 -48.821326343411805,70.6516235532517 -48.81831474589234,70.99776827235287 -48.87902672878223,70.99546526301366 -48.88416702639068,71.3001721320516 -48.93740510164392,71.30030802272115 -48.93709749071789,71.3003213680294 -48.937099824970005,71.30065417123669 -48.9363472774953,71.3012098963699 -48.93644459417655,71.30146540259327 -48.935867028009405,71.30148588073864 -48.93587062189348,71.30166943565786 -48.935455213440086,71.30169885590945 -48.93546038925587,71.30284447338751 -48.93287038356273,71.64246176301005 -48.9940481794547,71.64014318517155 -48.99938154506117,71.87126961519495 -49.041462162416295,71.90981144151536 -49.70412740293987,70.38767534767723 -49.73237751756609,70.36107672122914 -48.77372621230524))', 'url': \"https://apihub.copernicus.eu/apihub/odata/v1/Products('9e9161b9-8c29-4c01-9831-0d8a0bd8d99f')/$value\", 'Online': True, 'Creation Date': datetime.datetime(2020, 11, 7, 7, 32, 58, 936000), 'Ingestion Date': datetime.datetime(2020, 11, 7, 7, 28, 26, 360000), 'quicklook_url': \"https://apihub.copernicus.eu/apihub/odata/v1/Products('9e9161b9-8c29-4c01-9831-0d8a0bd8d99f')/Products('Quicklook')/$value\", 'path': 'F:\\\\Images Sat Kerguelen\\\\2020\\\\Sentinel-2 L1C\\\\S2B_MSIL1C_20201107T050229_N0209_R133_T42FXL_20201107T063548.zip', 'downloaded_bytes': 564099103}, '0c180304-2e53-497e-853a-edc0e50974ea': {'id': '0c180304-2e53-497e-853a-edc0e50974ea', 'title': 'S2B_MSIL1C_20201127T050229_N0209_R133_T42FWM_20201127T062228', 'size': 25053765, 'md5': 'f4cd210c32e7162ec27f15801e06a898', 'date': datetime.datetime(2020, 11, 27, 5, 2, 29, 24000), 'footprint': 'POLYGON((69.91718226217913 -48.835041689571696,69.98065718037671 -48.69915717891904,70.33952210682898 -48.760348251155435,70.33868586246328 -48.76216506090943,70.3387273676573 -48.7621721292097,70.33859071524051 -48.76246913897469,70.33865989037832 -48.762480897895045,70.33758781761152 -48.76481351175117,70.33765336010003 -48.764824487855535,70.33764110980057 -48.76485112955503,70.49472038945136 -48.79121014235499,70.49588191444421 -48.83128764713504,69.91718226217913 -48.835041689571696))', 'url': \"https://apihub.copernicus.eu/apihub/odata/v1/Products('0c180304-2e53-497e-853a-edc0e50974ea')/$value\", 'Online': True, 'Creation Date': datetime.datetime(2020, 11, 27, 7, 21, 51, 299000), 'Ingestion Date': datetime.datetime(2020, 11, 27, 7, 14, 9, 626000), 'quicklook_url': \"https://apihub.copernicus.eu/apihub/odata/v1/Products('0c180304-2e53-497e-853a-edc0e50974ea')/Products('Quicklook')/$value\", 'path': 'F:\\\\Images Sat Kerguelen\\\\2020\\\\Sentinel-2 L1C\\\\S2B_MSIL1C_20201127T050229_N0209_R133_T42FWM_20201127T062228.zip', 'downloaded_bytes': 25053765}, '46d91c92-58cc-4a61-ac45-d0df4c582d47': {'id': '46d91c92-58cc-4a61-ac45-d0df4c582d47', 'title': 'S2B_MSIL1C_20200812T051229_N0209_R033_T42FVM_20200812T070852', 'size': 467737720, 'md5': '1fac5c5a3e8d2d38ef220b1a9eb1f021', 'date': datetime.datetime(2020, 8, 12, 5, 12, 29, 24000), 'footprint': 'POLYGON((67.65106350095664 -48.29273666490656,67.71016836459131 -48.163538891504444,67.77488172018596 -48.02159940451216,68.12929539017105 -48.08210201518177,68.12725217367077 -48.086647951075136,68.12725436975222 -48.08664831935619,68.12724890670601 -48.08666047945919,68.43681811797846 -48.138682180667466,68.4368677079401 -48.1385702217511,68.43687901633668 -48.13857211815992,68.43722082972171 -48.137800888701214,68.43787984097784 -48.13791181624863,68.43925198245138 -48.13481019025182,68.78105925909557 -48.19489648717548,68.77877120463826 -48.200140651445984,69.07961508460623 -48.2528408678956,69.07975001778009 -48.25252722571981,69.07975033028305 -48.25252728052296,69.08007915966164 -48.25176244298564,69.08061447200625 -48.25185643096111,69.08218872909465 -48.24819000932388,69.13151031172809 -48.25710480571337,69.13301501460714 -48.84091651678092,67.63679589166671 -48.83293316597654,67.65106350095664 -48.29273666490656))', 'url': \"https://apihub.copernicus.eu/apihub/odata/v1/Products('46d91c92-58cc-4a61-ac45-d0df4c582d47')/$value\", 'Online': True, 'Creation Date': datetime.datetime(2020, 8, 12, 10, 3, 7, 460000), 'Ingestion Date': datetime.datetime(2020, 8, 12, 10, 2, 36, 395000), 'quicklook_url': \"https://apihub.copernicus.eu/apihub/odata/v1/Products('46d91c92-58cc-4a61-ac45-d0df4c582d47')/Products('Quicklook')/$value\", 'path': 'F:\\\\Images Sat Kerguelen\\\\2020\\\\Sentinel-2 L1C\\\\S2B_MSIL1C_20200812T051229_N0209_R033_T42FVM_20200812T070852.zip', 'downloaded_bytes': 467737720}, 'a9ed54c3-bdbf-459d-9193-4f764545b57c': {'id': 'a9ed54c3-bdbf-459d-9193-4f764545b57c', 'title': 'S2B_MSIL1C_20200706T052219_N0209_R076_T42FVK_20200706T081900', 'size': 212592361, 'md5': 'b65d6470b78c5be0c1607e2aada20b7a', 'date': datetime.datetime(2020, 7, 6, 5, 22, 19, 24000), 'footprint': 'POLYGON((67.94211655867811 -50.00037183873199,67.9417638954784 -50.000304867338,67.94145300302158 -50.00106413628156,67.93995273252351 -50.00077669742854,67.93798411783258 -50.00559576006791,67.60560082317922 -49.94148089005407,67.61428768376125 -49.64389055495361,68.81307991393247 -49.65036454351088,68.77593073314287 -49.75071867733398,68.71892403449361 -49.89617102623339,68.66169902757457 -50.041625737591765,68.62298262827794 -50.13993784413904,68.25920806600674 -50.067755366963375,68.26214339435073 -50.06047488081736,67.94233340031519 -49.99984294614197,67.94211655867811 -50.00037183873199))', 'url': \"https://apihub.copernicus.eu/apihub/odata/v1/Products('a9ed54c3-bdbf-459d-9193-4f764545b57c')/$value\", 'Online': True, 'Creation Date': datetime.datetime(2020, 7, 6, 12, 39, 11, 49000), 'Ingestion Date': datetime.datetime(2020, 7, 6, 12, 38, 14, 698000), 'quicklook_url': \"https://apihub.copernicus.eu/apihub/odata/v1/Products('a9ed54c3-bdbf-459d-9193-4f764545b57c')/Products('Quicklook')/$value\", 'path': 'F:\\\\Images Sat Kerguelen\\\\2020\\\\Sentinel-2 L1C\\\\S2B_MSIL1C_20200706T052219_N0209_R076_T42FVK_20200706T081900.zip', 'downloaded_bytes': 212592361}, '1f264adc-0a40-4cc2-b73d-8313c18d0726': {'id': '1f264adc-0a40-4cc2-b73d-8313c18d0726', 'title': 'S2B_MSIL1C_20201107T050229_N0209_R133_T42FWL_20201107T063548', 'size': 350439973, 'md5': '8b77ca45bbda4cd73471676c832601ff', 'date': datetime.datetime(2020, 11, 7, 5, 2, 29, 24000), 'footprint': 'POLYGON((69.48767313366297 -49.7374813712942,69.50097744549548 -49.7100175473937,69.57146642003714 -49.566278570700895,69.6398604186941 -49.421996105818245,69.70797846839922 -49.277686643138495,69.77626191298717 -49.13354360426028,69.84439477940953 -48.98943752412068,69.91229851166986 -48.845413634054026,69.95862639022215 -48.74680086361296,70.22096282838952 -48.74510133969996,70.33770725131416 -48.76501052354464,70.33565914885232 -48.76944677218936,70.33566309019321 -48.76944743232559,70.3356572961863 -48.76945996977398,70.49487903931889 -48.7961827839725,70.52334161923173 -49.73067261888172,69.48767313366297 -49.7374813712942))', 'url': \"https://apihub.copernicus.eu/apihub/odata/v1/Products('1f264adc-0a40-4cc2-b73d-8313c18d0726')/$value\", 'Online': True, 'Creation Date': datetime.datetime(2020, 11, 7, 7, 32, 56, 749000), 'Ingestion Date': datetime.datetime(2020, 11, 7, 7, 28, 13, 514000), 'quicklook_url': \"https://apihub.copernicus.eu/apihub/odata/v1/Products('1f264adc-0a40-4cc2-b73d-8313c18d0726')/Products('Quicklook')/$value\", 'path': 'F:\\\\Images Sat Kerguelen\\\\2020\\\\Sentinel-2 L1C\\\\S2B_MSIL1C_20201107T050229_N0209_R133_T42FWL_20201107T063548.zip', 'downloaded_bytes': 350439973}}, retrieval_triggered={'8479b465-6530-41d1-8a9d-31234473f6c3': {'id': '8479b465-6530-41d1-8a9d-31234473f6c3', 'title': 'S2A_MSIL1C_20200605T050241_N0209_R133_T42FXL_20200605T075915', 'size': 581734492, 'md5': '51D0A12B6FBB2EEC6E1C2CC5E58C3915', 'date': datetime.datetime(2020, 6, 5, 5, 2, 41, 24000), 'footprint': 'POLYGON((70.36196849725324 -48.80586705428345,70.61788510369996 -48.84882931854164,70.6181197881938 -48.848318518741934,70.61819410186277 -48.84833101907366,70.61821154557106 -48.84829294235524,70.62199845209847 -48.84892903128676,70.62360146534053 -48.84543435350125,70.96666120623955 -48.90560893867176,70.96427513858376 -48.91090610767626,71.26924534961222 -48.9642274956235,71.26936927367828 -48.96394858901987,71.26961649835805 -48.96399185337708,71.26976166722915 -48.96366629285798,71.26985908571193 -48.96368336282864,71.26986756913564 -48.96366427294337,71.27338618137678 -48.96428087629301,71.27520825202586 -48.960186207404526,71.61188401036348 -49.0208514602759,71.6094864598122 -49.02633437006105,71.87318789971671 -49.07444400565943,71.90981144151536 -49.70412740293987,70.38767534767723 -49.73237751756609,70.36196849725324 -48.80586705428345))', 'url': \"https://apihub.copernicus.eu/apihub/odata/v1/Products('8479b465-6530-41d1-8a9d-31234473f6c3')/$value\", 'Online': False, 'Creation Date': datetime.datetime(2020, 6, 5, 9, 56, 7, 766000), 'Ingestion Date': datetime.datetime(2020, 6, 5, 9, 55, 13, 238000), 'quicklook_url': \"https://apihub.copernicus.eu/apihub/odata/v1/Products('8479b465-6530-41d1-8a9d-31234473f6c3')/Products('Quicklook')/$value\", 'exception': ConnectionError(ProtocolError('Connection aborted.', TimeoutError(10060, 'Une tentative de connexion a échoué car le parti connecté n’a pas répondu convenablement au-delà d’une certaine durée ou une connexion établie a échoué car l’hôte de connexion n’a pas répondu', None, 10060, None)),)}, '116ea1ae-d331-42f9-bf7c-437219a26c73': {'id': '116ea1ae-d331-42f9-bf7c-437219a26c73', 'title': 'S2A_MSIL1C_20201003T050241_N0209_R133_T42FWM_20201003T062812', 'size': 26866846, 'md5': '25D21357432FE56A15E84FB371F629A7', 'date': datetime.datetime(2020, 10, 3, 5, 2, 41, 24000), 'footprint': 'POLYGON((69.90470168913298 -48.83512265143277,69.96505145482767 -48.70614871751626,70.32039849706963 -48.7667174563555,70.31969591860573 -48.76824631955972,70.31971750067572 -48.76825000345861,70.31956971897793 -48.7685712567102,70.3197673195254 -48.76860492703765,70.31963962244208 -48.768883024048876,70.31972207163042 -48.768897046973606,70.3187212694106 -48.77106881822196,70.31890703946559 -48.771099948347285,70.31887571612512 -48.77116780840706,70.4949966388886 -48.80074191154576,70.49588191444421 -48.83128764713504,69.90470168913298 -48.83512265143277))', 'url': \"https://apihub.copernicus.eu/apihub/odata/v1/Products('116ea1ae-d331-42f9-bf7c-437219a26c73')/$value\", 'Online': False, 'Creation Date': datetime.datetime(2020, 10, 3, 7, 40, 3, 48000), 'Ingestion Date': datetime.datetime(2020, 10, 3, 7, 39, 55, 578000), 'quicklook_url': \"https://apihub.copernicus.eu/apihub/odata/v1/Products('116ea1ae-d331-42f9-bf7c-437219a26c73')/Products('Quicklook')/$value\", 'exception': ConnectionError(ProtocolError('Connection aborted.', TimeoutError(10060, 'Une tentative de connexion a échoué car le parti connecté n’a pas répondu convenablement au-delà d’une certaine durée ou une connexion établie a échoué car l’hôte de connexion n’a pas répondu', None, 10060, None)),)}, '22ef8e98-0f09-46dc-8004-3bd8cfe5d40f': {'id': '22ef8e98-0f09-46dc-8004-3bd8cfe5d40f', 'title': 'S2B_MSIL1C_20200921T051229_N0209_R033_T42FVL_20200921T072201', 'size': 36405170, 'md5': '3F2D858786CF2C52F7AD4BD127D2BF8F', 'date': datetime.datetime(2020, 9, 21, 5, 12, 29, 24000), 'footprint': 'POLYGON((67.61573739280183 -49.58942882823748,67.760533740481 -49.613714575877786,67.76059146996198 -49.6135905483464,67.7608114762265 -49.61362737454217,67.7611640959698 -49.61287139888254,67.76142063996295 -49.61291449658605,67.76165382152763 -49.61241377965475,67.76177353698695 -49.612433981485914,67.76284955272568 -49.610125797179,68.1145291342856 -49.671700613222896,68.11242686534935 -49.67629069539096,68.11261065779797 -49.676322769318645,68.11244702682905 -49.67667927789201,68.42192346542986 -49.730628386123534,68.42240637261065 -49.72956066867364,68.42253844990263 -49.72958374422896,68.42278676645194 -49.7290340482063,68.42301762621399 -49.72907447008529,68.42429698103943 -49.72624453119569,68.48469846800933 -49.73709116338568,67.61176975413018 -49.73237086806509,67.61573739280183 -49.58942882823748))', 'url': \"https://apihub.copernicus.eu/apihub/odata/v1/Products('22ef8e98-0f09-46dc-8004-3bd8cfe5d40f')/$value\", 'Online': False, 'Creation Date': datetime.datetime(2020, 9, 21, 8, 15, 3, 515000), 'Ingestion Date': datetime.datetime(2020, 9, 21, 8, 14, 5, 190000), 'quicklook_url': \"https://apihub.copernicus.eu/apihub/odata/v1/Products('22ef8e98-0f09-46dc-8004-3bd8cfe5d40f')/Products('Quicklook')/$value\", 'exception': ConnectionError(ProtocolError('Connection aborted.', TimeoutError(10060, 'Une tentative de connexion a échoué car le parti connecté n’a pas répondu convenablement au-delà d’une certaine durée ou une connexion établie a échoué car l’hôte de connexion n’a pas répondu', None, 10060, None)),)}, '911bcc2e-8fb3-41ff-bcf7-0d8c3393b576': {'id': '911bcc2e-8fb3-41ff-bcf7-0d8c3393b576', 'title': 'S2B_MSIL1C_20200928T050229_N0209_R133_T42FWM_20200928T062349', 'size': 26867392, 'md5': '26DE22D72A20B79F08EF594B17275133', 'date': datetime.datetime(2020, 9, 28, 5, 2, 29, 24000), 'footprint': 'POLYGON((69.90738474502801 -48.83510524636668,69.97161834826989 -48.69786370231643,70.33009810891417 -48.75904010770289,70.32947054021939 -48.76040565356463,70.3296461409723 -48.76043563651564,70.32951010641477 -48.76073218684377,70.32959890631545 -48.76074732151062,70.32843729069944 -48.76327068287987,70.49471999748964 -48.79119661802472,70.49588191444421 -48.83128764713504,69.90738474502801 -48.83510524636668))', 'url': \"https://apihub.copernicus.eu/apihub/odata/v1/Products('911bcc2e-8fb3-41ff-bcf7-0d8c3393b576')/$value\", 'Online': False, 'Creation Date': datetime.datetime(2020, 9, 28, 7, 43, 18, 270000), 'Ingestion Date': datetime.datetime(2020, 9, 28, 7, 42, 7, 276000), 'quicklook_url': \"https://apihub.copernicus.eu/apihub/odata/v1/Products('911bcc2e-8fb3-41ff-bcf7-0d8c3393b576')/Products('Quicklook')/$value\", 'exception': ConnectionError(ProtocolError('Connection aborted.', TimeoutError(10060, 'Une tentative de connexion a échoué car le parti connecté n’a pas répondu convenablement au-delà d’une certaine durée ou une connexion établie a échoué car l’hôte de connexion n’a pas répondu', None, 10060, None)),)}, 'b94e118b-33b1-4b0c-93ec-97a8efcce907': {'id': 'b94e118b-33b1-4b0c-93ec-97a8efcce907', 'title': 'S2B_MSIL1C_20200819T050239_N0209_R133_T42FWM_20200819T062437', 'size': 24949304, 'md5': 'A7920873257F1B3CDD9E400BF9056889', 'date': datetime.datetime(2020, 8, 19, 5, 2, 39, 24000), 'footprint': 'POLYGON((69.9155611746326 -48.83505220561645,69.97056279382953 -48.71709078799136,70.32942852489835 -48.77830092296737,70.32872333506089 -48.77983394414404,70.32883291319834 -48.77985264413992,70.32868406969315 -48.780176486251285,70.32871689108042 -48.78018207720186,70.32836982909564 -48.78093817075613,70.32847142125156 -48.78095539515356,70.32755654744777 -48.78295019154957,70.49529701871113 -48.81110628067066,70.49588191444421 -48.83128764713504,69.9155611746326 -48.83505220561645))', 'url': \"https://apihub.copernicus.eu/apihub/odata/v1/Products('b94e118b-33b1-4b0c-93ec-97a8efcce907')/$value\", 'Online': False, 'Creation Date': datetime.datetime(2020, 8, 19, 11, 42, 56, 391000), 'Ingestion Date': datetime.datetime(2020, 8, 19, 9, 28, 5, 853000), 'quicklook_url': \"https://apihub.copernicus.eu/apihub/odata/v1/Products('b94e118b-33b1-4b0c-93ec-97a8efcce907')/Products('Quicklook')/$value\", 'exception': ConnectionError(ProtocolError('Connection aborted.', TimeoutError(10060, 'Une tentative de connexion a échoué car le parti connecté n’a pas répondu convenablement au-delà d’une certaine durée ou une connexion établie a échoué car l’hôte de connexion n’a pas répondu', None, 10060, None)),)}, 'c0a8fcec-07d1-471c-b934-3800c8ff74d1': {'id': 'c0a8fcec-07d1-471c-b934-3800c8ff74d1', 'title': 'S2A_MSIL1C_20201205T051221_N0209_R033_T42FVK_20201205T061933', 'size': 530519190, 'md5': '80eb936e72faa2d67835baf84c659a52', 'date': datetime.datetime(2020, 12, 5, 5, 12, 21, 24000), 'footprint': 'POLYGON((69.13753679161253 -50.46818584799057,68.85296818506855 -50.41613779295248,68.85039003561967 -50.42185020990652,68.50483177961324 -50.35924490837749,68.5066140383103 -50.355308307931836,68.5064486528474 -50.35527862491103,68.50646899813232 -50.35523325409349,68.50608600193074 -50.35516442391633,68.50637306022797 -50.35453189497528,68.50291239730741 -50.353909145898555,68.50313433699596 -50.35342549047487,68.50308297741815 -50.35341625854176,68.50346600669332 -50.35257307299863,68.19208546436694 -50.2965920447476,68.18935354048548 -50.3025276204688,67.84065842917822 -50.24130541683731,67.84245714100109 -50.23745963710935,67.84126716346243 -50.237250871824486,67.84146860538898 -50.2368212248855,67.83788775855483 -50.236188914570114,67.83789155496112 -50.236180791120255,67.8376910932838 -50.23614542758148,67.83800173830717 -50.235489082738106,67.83777468502358 -50.23544897598487,67.83793394494641 -50.23510861004538,67.59826689254935 -50.192723194812324,67.61428768376125 -49.64389055495361,69.13521210077278 -49.652104194502144,69.13753679161253 -50.46818584799057))', 'url': \"https://apihub.copernicus.eu/apihub/odata/v1/Products('c0a8fcec-07d1-471c-b934-3800c8ff74d1')/$value\", 'Online': False, 'Creation Date': datetime.datetime(2020, 12, 5, 7, 45, 10, 755000), 'Ingestion Date': datetime.datetime(2020, 12, 5, 7, 44, 52, 959000), 'quicklook_url': \"https://apihub.copernicus.eu/apihub/odata/v1/Products('c0a8fcec-07d1-471c-b934-3800c8ff74d1')/Products('Quicklook')/$value\", 'exception': ConnectionError(ProtocolError('Connection aborted.', TimeoutError(10060, 'Une tentative de connexion a échoué car le parti connecté n’a pas répondu convenablement au-delà d’une certaine durée ou une connexion établie a échoué car l’hôte de connexion n’a pas répondu', None, 10060, None)),)}, '2345a205-ea65-44fe-a92b-fc8859332619': {'id': '2345a205-ea65-44fe-a92b-fc8859332619', 'title': 'S2A_MSIL1C_20200107T050221_N0208_R133_T42FWL_20200107T072755', 'size': 346052558, 'md5': 'AD3D3FBFFA37E1B0A7EBE090EEBC9982', 'date': datetime.datetime(2020, 1, 7, 5, 2, 21, 24000), 'footprint': 'POLYGON((69.49523215971672 -49.73743167630242,69.49634852411891 -49.73512901590489,69.56669812119391 -49.59120466590674,69.63539873336832 -49.446961792681726,69.70389576422237 -49.302796201557655,69.77245921588873 -49.15876411103522,69.84078426287526 -49.01479796297024,69.90887987142554 -48.87091783792036,69.96731707612966 -48.74674456175637,70.07573110438351 -48.746042210856096,70.33160529104453 -48.78965013956966,70.32940191822229 -48.794404595387725,70.49567529622823 -48.82232567017711,70.52334161923173 -49.73067261888172,69.49523215971672 -49.73743167630242))', 'url': \"https://apihub.copernicus.eu/apihub/odata/v1/Products('2345a205-ea65-44fe-a92b-fc8859332619')/$value\", 'Online': False, 'Creation Date': datetime.datetime(2020, 1, 7, 8, 30, 32, 561000), 'Ingestion Date': datetime.datetime(2020, 1, 7, 8, 30, 20, 705000), 'quicklook_url': \"https://apihub.copernicus.eu/apihub/odata/v1/Products('2345a205-ea65-44fe-a92b-fc8859332619')/Products('Quicklook')/$value\", 'exception': ConnectionError(ProtocolError('Connection aborted.', TimeoutError(10060, 'Une tentative de connexion a échoué car le parti connecté n’a pas répondu convenablement au-delà d’une certaine durée ou une connexion établie a échoué car l’hôte de connexion n’a pas répondu', None, 10060, None)),)}}, failed={})"
      ]
     },
     "execution_count": 13,
     "metadata": {},
     "output_type": "execute_result"
    }
   ],
   "source": [
    "# Téléchargement des images restantes après tri\n",
    "api.download_all(products,directory_path=download_path)"
   ]
  },
  {
   "cell_type": "code",
   "execution_count": null,
   "id": "80cd007c",
   "metadata": {},
   "outputs": [],
   "source": [
    "###str(products_df)"
   ]
  },
  {
   "cell_type": "code",
   "execution_count": null,
   "id": "19dc8226",
   "metadata": {},
   "outputs": [],
   "source": [
    "# tentative téléchargement df de metadata\n",
    "###import pandas\n",
    "###products_df_df.to_csv(\"F:\\\\Images Sat Kerguelen\\\\2019\\\\Sentinel-2\\\\metadata_test1.csv\", \n",
    "                    ###  header=True,\n",
    "                      ###sep =' ',\n",
    "                      ###decimal = '.',\n",
    "                    ### )"
   ]
  },
  {
   "cell_type": "code",
   "execution_count": 17,
   "id": "1dcd2a9e",
   "metadata": {},
   "outputs": [],
   "source": [
    "# UNZIP folders\n",
    "\n",
    "import zipfile\n",
    "import os"
   ]
  },
  {
   "cell_type": "code",
   "execution_count": 18,
   "id": "3bba1505",
   "metadata": {},
   "outputs": [
    {
     "ename": "NameError",
     "evalue": "name 'extension' is not defined",
     "output_type": "error",
     "traceback": [
      "\u001b[1;31m---------------------------------------------------------------------------\u001b[0m",
      "\u001b[1;31mNameError\u001b[0m                                 Traceback (most recent call last)",
      "\u001b[1;32m<ipython-input-18-3c596c536983>\u001b[0m in \u001b[0;36m<module>\u001b[1;34m\u001b[0m\n\u001b[0;32m      1\u001b[0m \u001b[1;32mfor\u001b[0m \u001b[0mitem\u001b[0m \u001b[1;32min\u001b[0m \u001b[0mos\u001b[0m\u001b[1;33m.\u001b[0m\u001b[0mlistdir\u001b[0m\u001b[1;33m(\u001b[0m\u001b[0mdownload_path\u001b[0m\u001b[1;33m)\u001b[0m\u001b[1;33m:\u001b[0m \u001b[1;31m# loop through items in dir\u001b[0m\u001b[1;33m\u001b[0m\u001b[1;33m\u001b[0m\u001b[0m\n\u001b[1;32m----> 2\u001b[1;33m     \u001b[1;32mif\u001b[0m \u001b[0mitem\u001b[0m\u001b[1;33m.\u001b[0m\u001b[0mendswith\u001b[0m\u001b[1;33m(\u001b[0m\u001b[0mextension\u001b[0m\u001b[1;33m)\u001b[0m\u001b[1;33m:\u001b[0m \u001b[1;31m# check for \".zip\" extension\u001b[0m\u001b[1;33m\u001b[0m\u001b[1;33m\u001b[0m\u001b[0m\n\u001b[0m\u001b[0;32m      3\u001b[0m         \u001b[0mfile_name\u001b[0m \u001b[1;33m=\u001b[0m \u001b[0mos\u001b[0m\u001b[1;33m.\u001b[0m\u001b[0mpath\u001b[0m\u001b[1;33m.\u001b[0m\u001b[0mabspath\u001b[0m\u001b[1;33m(\u001b[0m\u001b[0mitem\u001b[0m\u001b[1;33m)\u001b[0m \u001b[1;31m# get full path of files\u001b[0m\u001b[1;33m\u001b[0m\u001b[1;33m\u001b[0m\u001b[0m\n\u001b[0;32m      4\u001b[0m         \u001b[0mzip_ref\u001b[0m \u001b[1;33m=\u001b[0m \u001b[0mzipfile\u001b[0m\u001b[1;33m.\u001b[0m\u001b[0mZipFile\u001b[0m\u001b[1;33m(\u001b[0m\u001b[0mfile_name\u001b[0m\u001b[1;33m)\u001b[0m \u001b[1;31m# create zipfile object\u001b[0m\u001b[1;33m\u001b[0m\u001b[1;33m\u001b[0m\u001b[0m\n\u001b[0;32m      5\u001b[0m         \u001b[0mzip_ref\u001b[0m\u001b[1;33m.\u001b[0m\u001b[0mextractall\u001b[0m\u001b[1;33m(\u001b[0m\u001b[0mdir_name\u001b[0m\u001b[1;33m)\u001b[0m \u001b[1;31m# extract file to dir\u001b[0m\u001b[1;33m\u001b[0m\u001b[1;33m\u001b[0m\u001b[0m\n",
      "\u001b[1;31mNameError\u001b[0m: name 'extension' is not defined"
     ]
    }
   ],
   "source": [
    "for item in os.listdir(download_path): # loop through items in dir\n",
    "    if item.endswith(extension): # check for \".zip\" extension\n",
    "        file_name = os.path.abspath(item) # get full path of files\n",
    "        zip_ref = zipfile.ZipFile(file_name) # create zipfile object\n",
    "        zip_ref.extractall(dir_name) # extract file to dir\n",
    "        zip_ref.close() # close file\n",
    "        os.remove(file_name) # delete zipped file"
   ]
  },
  {
   "cell_type": "code",
   "execution_count": null,
   "id": "1ed052b4",
   "metadata": {},
   "outputs": [],
   "source": []
  }
 ],
 "metadata": {
  "kernelspec": {
   "display_name": "Python 3",
   "language": "python",
   "name": "python3"
  },
  "language_info": {
   "codemirror_mode": {
    "name": "ipython",
    "version": 3
   },
   "file_extension": ".py",
   "mimetype": "text/x-python",
   "name": "python",
   "nbconvert_exporter": "python",
   "pygments_lexer": "ipython3",
   "version": "3.6.13"
  }
 },
 "nbformat": 4,
 "nbformat_minor": 5
}
